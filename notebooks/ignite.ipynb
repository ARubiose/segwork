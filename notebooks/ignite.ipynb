{
 "cells": [
  {
   "cell_type": "markdown",
   "metadata": {},
   "source": [
    "### Training a Network with Ignite"
   ]
  },
  {
   "cell_type": "code",
   "execution_count": 17,
   "metadata": {},
   "outputs": [],
   "source": [
    "import os\n",
    "import configparser\n",
    "\n",
    "import torchvision\n",
    "from torchvision.transforms import Compose\n",
    "import torchvision.transforms.transforms as T\n",
    "\n",
    "import torch\n",
    "from torch.utils.data  import DataLoader\n",
    "\n",
    "ROOT_PATH = os.path.abspath(os.pardir)"
   ]
  },
  {
   "cell_type": "markdown",
   "metadata": {},
   "source": [
    "#### Read configuration"
   ]
  },
  {
   "cell_type": "code",
   "execution_count": 2,
   "metadata": {},
   "outputs": [
    {
     "data": {
      "text/plain": [
       "['..\\\\config\\\\ExperimentoA.ini']"
      ]
     },
     "execution_count": 2,
     "metadata": {},
     "output_type": "execute_result"
    }
   ],
   "source": [
    "dir_path = os.path.join(ROOT_PATH, 'config')\n",
    "file_path = os.path.join(dir_path, 'ExperimentoA.ini')\n",
    "\n",
    "config = configparser.ConfigParser()\n",
    "config.read(file_path)"
   ]
  },
  {
   "cell_type": "code",
   "execution_count": 12,
   "metadata": {},
   "outputs": [
    {
     "name": "stdout",
     "output_type": "stream",
     "text": [
      "Config file for experiment: None\n"
     ]
    }
   ],
   "source": [
    "# Configuration file\n",
    "print(f\"Config file for experiment: {config['general'].get('experiment_name')}\")\n",
    "\n",
    "data_cfg = config['dataset']\n",
    "data_args = \n",
    "model_cfg = config['model']"
   ]
  },
  {
   "cell_type": "markdown",
   "metadata": {},
   "source": [
    "#### Data pipeline\n",
    "Define modular components"
   ]
  },
  {
   "cell_type": "code",
   "execution_count": 20,
   "metadata": {},
   "outputs": [],
   "source": [
    "from segwork.data import DroneDataset\n",
    "from segwork.registry import ConfigurableRegistry\n",
    "\n",
    "dataset_reg = ConfigurableRegistry(\n",
    "    class_key='dataset',\n",
    "    additional_args=['transform', 'target_transform'],\n",
    "    initial_registry=dict(\n",
    "\n",
    "        # Aerial drone dataset\n",
    "        drone = dict(\n",
    "            dataset = DroneDataset,\n",
    "            _default_kwargs = dict(\n",
    "                root = os.path.join(ROOT_PATH, 'data', 'semantic_drone_dataset'),\n",
    "                pil_target = False,\n",
    "            )\n",
    "        ), \n",
    "\n",
    "        # VOC Segmentation dataset\n",
    "        # voc = dict(\n",
    "        #     dataset = torchvision.datasets.VOCSegmentation,\n",
    "        #     _default_kwargs = dict(\n",
    "        #          root = os.path.join(ROOT_PATH, 'data', 'PASCALVOC') \n",
    "        #     )\n",
    "        # )\n",
    "    ),\n",
    ")"
   ]
  },
  {
   "cell_type": "code",
   "execution_count": 23,
   "metadata": {},
   "outputs": [
    {
     "ename": "TypeError",
     "evalue": "_decorator() missing 1 required positional argument: 'cls'",
     "output_type": "error",
     "traceback": [
      "\u001b[1;31m---------------------------------------------------------------------------\u001b[0m",
      "\u001b[1;31mTypeError\u001b[0m                                 Traceback (most recent call last)",
      "\u001b[1;32mf:\\Desarrollo software\\segwork\\notebooks\\ignite.ipynb Cell 8'\u001b[0m in \u001b[0;36m<cell line: 1>\u001b[1;34m()\u001b[0m\n\u001b[1;32m----> <a href='vscode-notebook-cell:/f%3A/Desarrollo%20software/segwork/notebooks/ignite.ipynb#ch0000035?line=0'>1</a>\u001b[0m dataset_reg\u001b[39m.\u001b[39;49mregister(\n\u001b[0;32m      <a href='vscode-notebook-cell:/f%3A/Desarrollo%20software/segwork/notebooks/ignite.ipynb#ch0000035?line=1'>2</a>\u001b[0m     \u001b[39mdict\u001b[39;49m(\n\u001b[0;32m      <a href='vscode-notebook-cell:/f%3A/Desarrollo%20software/segwork/notebooks/ignite.ipynb#ch0000035?line=2'>3</a>\u001b[0m         dataset \u001b[39m=\u001b[39;49m torchvision\u001b[39m.\u001b[39;49mdatasets\u001b[39m.\u001b[39;49mVOCSegmentation,\n\u001b[0;32m      <a href='vscode-notebook-cell:/f%3A/Desarrollo%20software/segwork/notebooks/ignite.ipynb#ch0000035?line=3'>4</a>\u001b[0m         _default_kwargs \u001b[39m=\u001b[39;49m \u001b[39mdict\u001b[39;49m(\n\u001b[0;32m      <a href='vscode-notebook-cell:/f%3A/Desarrollo%20software/segwork/notebooks/ignite.ipynb#ch0000035?line=4'>5</a>\u001b[0m             root \u001b[39m=\u001b[39;49m os\u001b[39m.\u001b[39;49mpath\u001b[39m.\u001b[39;49mjoin(ROOT_PATH, \u001b[39m'\u001b[39;49m\u001b[39mdata\u001b[39;49m\u001b[39m'\u001b[39;49m, \u001b[39m'\u001b[39;49m\u001b[39mPASCALVOC\u001b[39;49m\u001b[39m'\u001b[39;49m) \n\u001b[0;32m      <a href='vscode-notebook-cell:/f%3A/Desarrollo%20software/segwork/notebooks/ignite.ipynb#ch0000035?line=5'>6</a>\u001b[0m         )\n\u001b[0;32m      <a href='vscode-notebook-cell:/f%3A/Desarrollo%20software/segwork/notebooks/ignite.ipynb#ch0000035?line=6'>7</a>\u001b[0m ))()\n",
      "\u001b[1;31mTypeError\u001b[0m: _decorator() missing 1 required positional argument: 'cls'"
     ]
    }
   ],
   "source": [
    "dataset_reg.register(\n",
    "    dict(\n",
    "        dataset = torchvision.datasets.VOCSegmentation,\n",
    "        _default_kwargs = dict(\n",
    "            root = os.path.join(ROOT_PATH, 'data', 'PASCALVOC') \n",
    "        )\n",
    "))"
   ]
  },
  {
   "cell_type": "code",
   "execution_count": 22,
   "metadata": {},
   "outputs": [
    {
     "ename": "KeyError",
     "evalue": "'voc'",
     "output_type": "error",
     "traceback": [
      "\u001b[1;31m---------------------------------------------------------------------------\u001b[0m",
      "\u001b[1;31mKeyError\u001b[0m                                  Traceback (most recent call last)",
      "\u001b[1;32mf:\\Desarrollo software\\segwork\\notebooks\\ignite.ipynb Cell 9'\u001b[0m in \u001b[0;36m<cell line: 1>\u001b[1;34m()\u001b[0m\n\u001b[1;32m----> <a href='vscode-notebook-cell:/f%3A/Desarrollo%20software/segwork/notebooks/ignite.ipynb#ch0000028?line=0'>1</a>\u001b[0m dataset_reg\u001b[39m.\u001b[39;49mget_instance(\u001b[39m'\u001b[39;49m\u001b[39mvoc\u001b[39;49m\u001b[39m'\u001b[39;49m)\n",
      "File \u001b[1;32mf:\\desarrollo software\\segwork\\segwork\\registry.py:353\u001b[0m, in \u001b[0;36mConfigurableRegistry.get_instance\u001b[1;34m(self, key, *args, **kwargs)\u001b[0m\n\u001b[0;32m    <a href='file:///f%3A/desarrollo%20software/segwork/segwork/registry.py?line=346'>347</a>\u001b[0m \u001b[39mdef\u001b[39;00m \u001b[39mget_instance\u001b[39m(\u001b[39mself\u001b[39m, key: typing\u001b[39m.\u001b[39mHashable, \u001b[39m*\u001b[39margs, \u001b[39m*\u001b[39m\u001b[39m*\u001b[39mkwargs):\n\u001b[0;32m    <a href='file:///f%3A/desarrollo%20software/segwork/segwork/registry.py?line=347'>348</a>\u001b[0m     \u001b[39m\"\"\"Get instance of class with default params\u001b[39;00m\n\u001b[0;32m    <a href='file:///f%3A/desarrollo%20software/segwork/segwork/registry.py?line=348'>349</a>\u001b[0m \u001b[39m    \u001b[39;00m\n\u001b[0;32m    <a href='file:///f%3A/desarrollo%20software/segwork/segwork/registry.py?line=349'>350</a>\u001b[0m \u001b[39m    Raise:\u001b[39;00m\n\u001b[0;32m    <a href='file:///f%3A/desarrollo%20software/segwork/segwork/registry.py?line=350'>351</a>\u001b[0m \u001b[39m        KeyError\"\"\"\u001b[39;00m\n\u001b[1;32m--> <a href='file:///f%3A/desarrollo%20software/segwork/segwork/registry.py?line=352'>353</a>\u001b[0m     \u001b[39mcls\u001b[39m \u001b[39m=\u001b[39m \u001b[39mself\u001b[39;49m\u001b[39m.\u001b[39;49mget_class(key)\n\u001b[0;32m    <a href='file:///f%3A/desarrollo%20software/segwork/segwork/registry.py?line=353'>354</a>\u001b[0m     cls_args \u001b[39m=\u001b[39m \u001b[39mself\u001b[39m\u001b[39m.\u001b[39mget_field(key, \u001b[39mself\u001b[39m\u001b[39m.\u001b[39m_attr_args, \u001b[39mlist\u001b[39m())\n\u001b[0;32m    <a href='file:///f%3A/desarrollo%20software/segwork/segwork/registry.py?line=354'>355</a>\u001b[0m     cls_kwargs \u001b[39m=\u001b[39m \u001b[39mself\u001b[39m\u001b[39m.\u001b[39mget_field(key, \u001b[39mself\u001b[39m\u001b[39m.\u001b[39m_attr_kwargs, \u001b[39mdict\u001b[39m())\n",
      "File \u001b[1;32mf:\\desarrollo software\\segwork\\segwork\\registry.py:345\u001b[0m, in \u001b[0;36mConfigurableRegistry.get_class\u001b[1;34m(self, key)\u001b[0m\n\u001b[0;32m    <a href='file:///f%3A/desarrollo%20software/segwork/segwork/registry.py?line=339'>340</a>\u001b[0m \u001b[39mdef\u001b[39;00m \u001b[39mget_class\u001b[39m(\u001b[39mself\u001b[39m, key: typing\u001b[39m.\u001b[39mHashable):\n\u001b[0;32m    <a href='file:///f%3A/desarrollo%20software/segwork/segwork/registry.py?line=340'>341</a>\u001b[0m     \u001b[39m\"\"\"Get class for the specified.\u001b[39;00m\n\u001b[0;32m    <a href='file:///f%3A/desarrollo%20software/segwork/segwork/registry.py?line=341'>342</a>\u001b[0m \u001b[39m    \u001b[39;00m\n\u001b[0;32m    <a href='file:///f%3A/desarrollo%20software/segwork/segwork/registry.py?line=342'>343</a>\u001b[0m \u001b[39m    Raise:\u001b[39;00m\n\u001b[0;32m    <a href='file:///f%3A/desarrollo%20software/segwork/segwork/registry.py?line=343'>344</a>\u001b[0m \u001b[39m        KeyError\"\"\"\u001b[39;00m\n\u001b[1;32m--> <a href='file:///f%3A/desarrollo%20software/segwork/segwork/registry.py?line=344'>345</a>\u001b[0m     \u001b[39mreturn\u001b[39;00m \u001b[39mself\u001b[39;49m\u001b[39m.\u001b[39;49m_registry[key]\u001b[39m.\u001b[39mget(\u001b[39mself\u001b[39m\u001b[39m.\u001b[39m_class_key)\n",
      "\u001b[1;31mKeyError\u001b[0m: 'voc'"
     ]
    }
   ],
   "source": [
    "dataset_reg.get_instance('voc')"
   ]
  },
  {
   "cell_type": "code",
   "execution_count": 24,
   "metadata": {},
   "outputs": [],
   "source": [
    "\n",
    "dataset_cls = dataset_reg[data_cfg['id']]\n",
    "\n",
    "train_transform = dict(transform = Compose([T.ToTensor()]), target_transform = Compose([T.ToTensor()]))"
   ]
  },
  {
   "cell_type": "code",
   "execution_count": 13,
   "metadata": {},
   "outputs": [
    {
     "ename": "KeyError",
     "evalue": "'orig_height'",
     "output_type": "error",
     "traceback": [
      "\u001b[1;31m---------------------------------------------------------------------------\u001b[0m",
      "\u001b[1;31mKeyError\u001b[0m                                  Traceback (most recent call last)",
      "\u001b[1;32mf:\\Desarrollo software\\segwork\\notebooks\\ignite.ipynb Cell 10'\u001b[0m in \u001b[0;36m<cell line: 4>\u001b[1;34m()\u001b[0m\n\u001b[0;32m      <a href='vscode-notebook-cell:/f%3A/Desarrollo%20software/segwork/notebooks/ignite.ipynb#ch0000004?line=0'>1</a>\u001b[0m DATA_DIR \u001b[39m=\u001b[39m os\u001b[39m.\u001b[39mpath\u001b[39m.\u001b[39mjoin(os\u001b[39m.\u001b[39mpardir, db_cfg[\u001b[39m'\u001b[39m\u001b[39mdata_path\u001b[39m\u001b[39m'\u001b[39m])\n\u001b[0;32m      <a href='vscode-notebook-cell:/f%3A/Desarrollo%20software/segwork/notebooks/ignite.ipynb#ch0000004?line=1'>2</a>\u001b[0m dataset_cls \u001b[39m=\u001b[39m dataset_reg[db_cfg[\u001b[39m'\u001b[39m\u001b[39mid\u001b[39m\u001b[39m'\u001b[39m]]\n\u001b[1;32m----> <a href='vscode-notebook-cell:/f%3A/Desarrollo%20software/segwork/notebooks/ignite.ipynb#ch0000004?line=3'>4</a>\u001b[0m orig_height, orig_width \u001b[39m=\u001b[39m (db_cfg[\u001b[39m'\u001b[39;49m\u001b[39morig_height\u001b[39;49m\u001b[39m'\u001b[39;49m], db_cfg[\u001b[39m'\u001b[39m\u001b[39morig_width\u001b[39m\u001b[39m'\u001b[39m])\n\u001b[0;32m      <a href='vscode-notebook-cell:/f%3A/Desarrollo%20software/segwork/notebooks/ignite.ipynb#ch0000004?line=4'>5</a>\u001b[0m height, width \u001b[39m=\u001b[39m (db_cfg[\u001b[39m'\u001b[39m\u001b[39mresized_height\u001b[39m\u001b[39m'\u001b[39m], db_cfg[\u001b[39m'\u001b[39m\u001b[39mresized_width\u001b[39m\u001b[39m'\u001b[39m])              \u001b[39m# Make all features divisble by 2 \u001b[39;00m\n\u001b[0;32m      <a href='vscode-notebook-cell:/f%3A/Desarrollo%20software/segwork/notebooks/ignite.ipynb#ch0000004?line=6'>7</a>\u001b[0m train_image_transformation \u001b[39m=\u001b[39m Compose([ T\u001b[39m.\u001b[39mToTensor(), T\u001b[39m.\u001b[39mResize(size\u001b[39m=\u001b[39m(height, width)) ])\n",
      "File \u001b[1;32m~\\AppData\\Local\\Programs\\Python\\Python39\\lib\\configparser.py:1257\u001b[0m, in \u001b[0;36mSectionProxy.__getitem__\u001b[1;34m(self, key)\u001b[0m\n\u001b[0;32m   <a href='file:///c%3A/Users/Alvaro%27s%20PC/AppData/Local/Programs/Python/Python39/lib/configparser.py?line=1254'>1255</a>\u001b[0m \u001b[39mdef\u001b[39;00m \u001b[39m__getitem__\u001b[39m(\u001b[39mself\u001b[39m, key):\n\u001b[0;32m   <a href='file:///c%3A/Users/Alvaro%27s%20PC/AppData/Local/Programs/Python/Python39/lib/configparser.py?line=1255'>1256</a>\u001b[0m     \u001b[39mif\u001b[39;00m \u001b[39mnot\u001b[39;00m \u001b[39mself\u001b[39m\u001b[39m.\u001b[39m_parser\u001b[39m.\u001b[39mhas_option(\u001b[39mself\u001b[39m\u001b[39m.\u001b[39m_name, key):\n\u001b[1;32m-> <a href='file:///c%3A/Users/Alvaro%27s%20PC/AppData/Local/Programs/Python/Python39/lib/configparser.py?line=1256'>1257</a>\u001b[0m         \u001b[39mraise\u001b[39;00m \u001b[39mKeyError\u001b[39;00m(key)\n\u001b[0;32m   <a href='file:///c%3A/Users/Alvaro%27s%20PC/AppData/Local/Programs/Python/Python39/lib/configparser.py?line=1257'>1258</a>\u001b[0m     \u001b[39mreturn\u001b[39;00m \u001b[39mself\u001b[39m\u001b[39m.\u001b[39m_parser\u001b[39m.\u001b[39mget(\u001b[39mself\u001b[39m\u001b[39m.\u001b[39m_name, key)\n",
      "\u001b[1;31mKeyError\u001b[0m: 'orig_height'"
     ]
    }
   ],
   "source": [
    "DATA_DIR = os.path.join(os.pardir, db_cfg['data_path'])\n",
    "dataset_cls = dataset_reg[db_cfg['id']]\n",
    "\n",
    "orig_height, orig_width = (db_cfg['orig_height'], db_cfg['orig_width'])\n",
    "height, width = (db_cfg['resized_height'], db_cfg['resized_width'])              # Make all features divisble by 2 \n",
    "\n",
    "train_image_transformation = Compose([ T.ToTensor(), T.Resize(size=(height, width)) ])\n",
    "train_label_transformation = Compose([ T.Resize(size=(height, width))])\n",
    "\n",
    "train_transform = dict(transform = train_image_transformation, target_transform=train_label_transformation)\n"
   ]
  },
  {
   "cell_type": "code",
   "execution_count": 4,
   "metadata": {},
   "outputs": [],
   "source": [
    "train_batch_size = 1\n",
    "val_batch_size = 1"
   ]
  },
  {
   "cell_type": "code",
   "execution_count": 5,
   "metadata": {},
   "outputs": [],
   "source": [
    "def get_data_loaders():\n",
    "    train_dataset = dataset_cls(DATA_DIR, **train_transform)\n",
    "    val_dataset = dataset_cls(DATA_DIR, **train_transform)\n",
    "\n",
    "    train_loader = DataLoader(train_dataset, batch_size=train_batch_size)\n",
    "    val_loader = DataLoader(val_dataset, batch_size=val_batch_size)\n",
    "\n",
    "    return (train_loader, val_loader)"
   ]
  },
  {
   "cell_type": "code",
   "execution_count": 7,
   "metadata": {},
   "outputs": [
    {
     "data": {
      "text/plain": [
       "Dataset VOCSegmentation\n",
       "    Number of datapoints: 1464\n",
       "    Root location: ..\\data\\PASCALVOC\n",
       "    StandardTransform\n",
       "Transform: Compose(\n",
       "               ToTensor()\n",
       "               Resize(size=(288, 512), interpolation=bilinear, max_size=None, antialias=None)\n",
       "           )\n",
       "Target transform: Compose(\n",
       "                      Resize(size=(288, 512), interpolation=bilinear, max_size=None, antialias=None)\n",
       "                  )"
      ]
     },
     "execution_count": 7,
     "metadata": {},
     "output_type": "execute_result"
    }
   ],
   "source": [
    "train_dataset"
   ]
  },
  {
   "cell_type": "markdown",
   "metadata": {},
   "source": [
    "#### Training step - Basic"
   ]
  },
  {
   "cell_type": "code",
   "execution_count": 8,
   "metadata": {},
   "outputs": [],
   "source": [
    "import ignite.engine as ign\n",
    "import ignite.metrics as igm\n",
    "\n",
    "import segmentation_models_pytorch as smp\n",
    "\n",
    "from segwork.registry import models_reg"
   ]
  },
  {
   "cell_type": "code",
   "execution_count": 9,
   "metadata": {},
   "outputs": [],
   "source": [
    "model_name = 'unet'\n",
    "model_args = dict(\n",
    "    encoder_name = 'resnet34'\n",
    ")\n",
    "\n",
    "device = \"cuda\" if torch.cuda.is_available() else \"cpu\"\n",
    "optimizer_cls = torch.optim.SGD\n",
    "optimizer_args = dict(\n",
    "    lr = 0.1,\n",
    "    momentum = 0.9\n",
    ")\n",
    "criterion_args = dict(\n",
    "    mode = 'multiclass',\n",
    "    from_logits = False,\n",
    "    ignore_index = 0                # Background\n",
    ")\n",
    "criterion = smp.losses.DiceLoss(**criterion_args)\n",
    "val_metrics = {\"accuracy\": igm.Accuracy(), \"loss\": igm.Loss(criterion)}\n",
    "log_interval = 10\n",
    "\n"
   ]
  },
  {
   "cell_type": "code",
   "execution_count": 10,
   "metadata": {},
   "outputs": [],
   "source": [
    "def run():\n",
    "\n",
    "    # Get dataloaders\n",
    "    train_loader, val_loader = get_data_loaders()\n",
    "\n",
    "    # Get model and place it in device\n",
    "    model = models_reg.get_instance(model_name, **model_args)\n",
    "    model.to(device)\n",
    "\n",
    "    # Optimizer - Can be easily include in a custom registry\n",
    "    optimizer = optimizer_cls(model.parameters(), **optimizer_args)\n",
    "\n",
    "    # TRAINER AND EVALUATOR\n",
    "    trainer = ign.create_supervised_trainer(model, optimizer, criterion, device=device)\n",
    "    evaluator = ign.create_supervised_evaluator(\n",
    "    model, metrics=val_metrics, device=device\n",
    "    )\n",
    "\n",
    "    # Log results\n",
    "    _set_events(trainer, evaluator, train_loader, val_loader)\n",
    "    trainer.run(train_loader, max_epochs=100)"
   ]
  },
  {
   "cell_type": "code",
   "execution_count": 11,
   "metadata": {},
   "outputs": [],
   "source": [
    "def _set_events(trainer:ign.Engine, evaluator:ign.Engine, train_loader:DataLoader, val_loader:DataLoader):\n",
    "    @trainer.on(ign.Events.ITERATION_COMPLETED(every=log_interval))\n",
    "    def log_training_loss(trainer):\n",
    "        print(f\"Epoch[{trainer.state.epoch}] Loss: {trainer.state.output:.2f}\")\n",
    "\n",
    "    @trainer.on(ign.Events.EPOCH_COMPLETED)\n",
    "    def log_training_results(trainer):\n",
    "        evaluator.run(train_loader)\n",
    "        metrics = evaluator.state.metrics\n",
    "        print(f\"Training Results - Epoch: {trainer.state.epoch}  Avg accuracy: {metrics['accuracy']:.2f} Avg loss: {metrics['loss']:.2f}\")\n",
    "\n",
    "    @trainer.on(ign.Events.EPOCH_COMPLETED)\n",
    "    def log_validation_results(trainer):\n",
    "        evaluator.run(val_loader)\n",
    "        metrics = evaluator.state.metrics\n",
    "        print(f\"Validation Results - Epoch: {trainer.state.epoch}  Avg accuracy: {metrics['accuracy']:.2f} Avg loss: {metrics['loss']:.2f}\")"
   ]
  },
  {
   "cell_type": "code",
   "execution_count": 12,
   "metadata": {},
   "outputs": [],
   "source": [
    "import torch\n",
    "torch.cuda.empty_cache()"
   ]
  },
  {
   "cell_type": "code",
   "execution_count": 13,
   "metadata": {},
   "outputs": [
    {
     "name": "stderr",
     "output_type": "stream",
     "text": [
      "Current run is terminating due to exception: default_collate: batch must contain tensors, numpy arrays, numbers, dicts or lists; found <class 'PIL.Image.Image'>\n",
      "Engine run is terminating due to exception: default_collate: batch must contain tensors, numpy arrays, numbers, dicts or lists; found <class 'PIL.Image.Image'>\n"
     ]
    },
    {
     "ename": "TypeError",
     "evalue": "default_collate: batch must contain tensors, numpy arrays, numbers, dicts or lists; found <class 'PIL.Image.Image'>",
     "output_type": "error",
     "traceback": [
      "\u001b[1;31m---------------------------------------------------------------------------\u001b[0m",
      "\u001b[1;31mTypeError\u001b[0m                                 Traceback (most recent call last)",
      "\u001b[1;32mf:\\Desarrollo software\\segwork\\notebooks\\ignite.ipynb Cell 16'\u001b[0m in \u001b[0;36m<cell line: 4>\u001b[1;34m()\u001b[0m\n\u001b[0;32m      <a href='vscode-notebook-cell:/f%3A/Desarrollo%20software/segwork/notebooks/ignite.ipynb#ch0000021?line=0'>1</a>\u001b[0m \u001b[39mdef\u001b[39;00m \u001b[39mmain\u001b[39m():\n\u001b[0;32m      <a href='vscode-notebook-cell:/f%3A/Desarrollo%20software/segwork/notebooks/ignite.ipynb#ch0000021?line=1'>2</a>\u001b[0m     run()\n\u001b[1;32m----> <a href='vscode-notebook-cell:/f%3A/Desarrollo%20software/segwork/notebooks/ignite.ipynb#ch0000021?line=3'>4</a>\u001b[0m main()\n",
      "\u001b[1;32mf:\\Desarrollo software\\segwork\\notebooks\\ignite.ipynb Cell 16'\u001b[0m in \u001b[0;36mmain\u001b[1;34m()\u001b[0m\n\u001b[0;32m      <a href='vscode-notebook-cell:/f%3A/Desarrollo%20software/segwork/notebooks/ignite.ipynb#ch0000021?line=0'>1</a>\u001b[0m \u001b[39mdef\u001b[39;00m \u001b[39mmain\u001b[39m():\n\u001b[1;32m----> <a href='vscode-notebook-cell:/f%3A/Desarrollo%20software/segwork/notebooks/ignite.ipynb#ch0000021?line=1'>2</a>\u001b[0m     run()\n",
      "\u001b[1;32mf:\\Desarrollo software\\segwork\\notebooks\\ignite.ipynb Cell 13'\u001b[0m in \u001b[0;36mrun\u001b[1;34m()\u001b[0m\n\u001b[0;32m     <a href='vscode-notebook-cell:/f%3A/Desarrollo%20software/segwork/notebooks/ignite.ipynb#ch0000014?line=18'>19</a>\u001b[0m \u001b[39m# Log results\u001b[39;00m\n\u001b[0;32m     <a href='vscode-notebook-cell:/f%3A/Desarrollo%20software/segwork/notebooks/ignite.ipynb#ch0000014?line=19'>20</a>\u001b[0m _set_events(trainer, evaluator, train_loader, val_loader)\n\u001b[1;32m---> <a href='vscode-notebook-cell:/f%3A/Desarrollo%20software/segwork/notebooks/ignite.ipynb#ch0000014?line=20'>21</a>\u001b[0m trainer\u001b[39m.\u001b[39;49mrun(train_loader, max_epochs\u001b[39m=\u001b[39;49m\u001b[39m100\u001b[39;49m)\n",
      "File \u001b[1;32mf:\\Desarrollo software\\segwork\\.venv\\lib\\site-packages\\ignite\\engine\\engine.py:704\u001b[0m, in \u001b[0;36mEngine.run\u001b[1;34m(self, data, max_epochs, epoch_length, seed)\u001b[0m\n\u001b[0;32m    <a href='file:///f%3A/Desarrollo%20software/segwork/.venv/lib/site-packages/ignite/engine/engine.py?line=700'>701</a>\u001b[0m         \u001b[39mraise\u001b[39;00m \u001b[39mValueError\u001b[39;00m(\u001b[39m\"\u001b[39m\u001b[39mepoch_length should be provided if data is None\u001b[39m\u001b[39m\"\u001b[39m)\n\u001b[0;32m    <a href='file:///f%3A/Desarrollo%20software/segwork/.venv/lib/site-packages/ignite/engine/engine.py?line=702'>703</a>\u001b[0m \u001b[39mself\u001b[39m\u001b[39m.\u001b[39mstate\u001b[39m.\u001b[39mdataloader \u001b[39m=\u001b[39m data\n\u001b[1;32m--> <a href='file:///f%3A/Desarrollo%20software/segwork/.venv/lib/site-packages/ignite/engine/engine.py?line=703'>704</a>\u001b[0m \u001b[39mreturn\u001b[39;00m \u001b[39mself\u001b[39;49m\u001b[39m.\u001b[39;49m_internal_run()\n",
      "File \u001b[1;32mf:\\Desarrollo software\\segwork\\.venv\\lib\\site-packages\\ignite\\engine\\engine.py:783\u001b[0m, in \u001b[0;36mEngine._internal_run\u001b[1;34m(self)\u001b[0m\n\u001b[0;32m    <a href='file:///f%3A/Desarrollo%20software/segwork/.venv/lib/site-packages/ignite/engine/engine.py?line=780'>781</a>\u001b[0m     \u001b[39mself\u001b[39m\u001b[39m.\u001b[39m_dataloader_iter \u001b[39m=\u001b[39m \u001b[39mNone\u001b[39;00m\n\u001b[0;32m    <a href='file:///f%3A/Desarrollo%20software/segwork/.venv/lib/site-packages/ignite/engine/engine.py?line=781'>782</a>\u001b[0m     \u001b[39mself\u001b[39m\u001b[39m.\u001b[39mlogger\u001b[39m.\u001b[39merror(\u001b[39mf\u001b[39m\u001b[39m\"\u001b[39m\u001b[39mEngine run is terminating due to exception: \u001b[39m\u001b[39m{\u001b[39;00me\u001b[39m}\u001b[39;00m\u001b[39m\"\u001b[39m)\n\u001b[1;32m--> <a href='file:///f%3A/Desarrollo%20software/segwork/.venv/lib/site-packages/ignite/engine/engine.py?line=782'>783</a>\u001b[0m     \u001b[39mself\u001b[39;49m\u001b[39m.\u001b[39;49m_handle_exception(e)\n\u001b[0;32m    <a href='file:///f%3A/Desarrollo%20software/segwork/.venv/lib/site-packages/ignite/engine/engine.py?line=784'>785</a>\u001b[0m \u001b[39mself\u001b[39m\u001b[39m.\u001b[39m_dataloader_iter \u001b[39m=\u001b[39m \u001b[39mNone\u001b[39;00m\n\u001b[0;32m    <a href='file:///f%3A/Desarrollo%20software/segwork/.venv/lib/site-packages/ignite/engine/engine.py?line=785'>786</a>\u001b[0m \u001b[39mreturn\u001b[39;00m \u001b[39mself\u001b[39m\u001b[39m.\u001b[39mstate\n",
      "File \u001b[1;32mf:\\Desarrollo software\\segwork\\.venv\\lib\\site-packages\\ignite\\engine\\engine.py:466\u001b[0m, in \u001b[0;36mEngine._handle_exception\u001b[1;34m(self, e)\u001b[0m\n\u001b[0;32m    <a href='file:///f%3A/Desarrollo%20software/segwork/.venv/lib/site-packages/ignite/engine/engine.py?line=463'>464</a>\u001b[0m     \u001b[39mself\u001b[39m\u001b[39m.\u001b[39m_fire_event(Events\u001b[39m.\u001b[39mEXCEPTION_RAISED, e)\n\u001b[0;32m    <a href='file:///f%3A/Desarrollo%20software/segwork/.venv/lib/site-packages/ignite/engine/engine.py?line=464'>465</a>\u001b[0m \u001b[39melse\u001b[39;00m:\n\u001b[1;32m--> <a href='file:///f%3A/Desarrollo%20software/segwork/.venv/lib/site-packages/ignite/engine/engine.py?line=465'>466</a>\u001b[0m     \u001b[39mraise\u001b[39;00m e\n",
      "File \u001b[1;32mf:\\Desarrollo software\\segwork\\.venv\\lib\\site-packages\\ignite\\engine\\engine.py:753\u001b[0m, in \u001b[0;36mEngine._internal_run\u001b[1;34m(self)\u001b[0m\n\u001b[0;32m    <a href='file:///f%3A/Desarrollo%20software/segwork/.venv/lib/site-packages/ignite/engine/engine.py?line=749'>750</a>\u001b[0m \u001b[39mif\u001b[39;00m \u001b[39mself\u001b[39m\u001b[39m.\u001b[39m_dataloader_iter \u001b[39mis\u001b[39;00m \u001b[39mNone\u001b[39;00m:\n\u001b[0;32m    <a href='file:///f%3A/Desarrollo%20software/segwork/.venv/lib/site-packages/ignite/engine/engine.py?line=750'>751</a>\u001b[0m     \u001b[39mself\u001b[39m\u001b[39m.\u001b[39m_setup_engine()\n\u001b[1;32m--> <a href='file:///f%3A/Desarrollo%20software/segwork/.venv/lib/site-packages/ignite/engine/engine.py?line=752'>753</a>\u001b[0m time_taken \u001b[39m=\u001b[39m \u001b[39mself\u001b[39;49m\u001b[39m.\u001b[39;49m_run_once_on_dataset()\n\u001b[0;32m    <a href='file:///f%3A/Desarrollo%20software/segwork/.venv/lib/site-packages/ignite/engine/engine.py?line=753'>754</a>\u001b[0m \u001b[39m# time is available for handlers but must be update after fire\u001b[39;00m\n\u001b[0;32m    <a href='file:///f%3A/Desarrollo%20software/segwork/.venv/lib/site-packages/ignite/engine/engine.py?line=754'>755</a>\u001b[0m \u001b[39mself\u001b[39m\u001b[39m.\u001b[39mstate\u001b[39m.\u001b[39mtimes[Events\u001b[39m.\u001b[39mEPOCH_COMPLETED\u001b[39m.\u001b[39mname] \u001b[39m=\u001b[39m time_taken\n",
      "File \u001b[1;32mf:\\Desarrollo software\\segwork\\.venv\\lib\\site-packages\\ignite\\engine\\engine.py:854\u001b[0m, in \u001b[0;36mEngine._run_once_on_dataset\u001b[1;34m(self)\u001b[0m\n\u001b[0;32m    <a href='file:///f%3A/Desarrollo%20software/segwork/.venv/lib/site-packages/ignite/engine/engine.py?line=851'>852</a>\u001b[0m \u001b[39mexcept\u001b[39;00m \u001b[39mException\u001b[39;00m \u001b[39mas\u001b[39;00m e:\n\u001b[0;32m    <a href='file:///f%3A/Desarrollo%20software/segwork/.venv/lib/site-packages/ignite/engine/engine.py?line=852'>853</a>\u001b[0m     \u001b[39mself\u001b[39m\u001b[39m.\u001b[39mlogger\u001b[39m.\u001b[39merror(\u001b[39mf\u001b[39m\u001b[39m\"\u001b[39m\u001b[39mCurrent run is terminating due to exception: \u001b[39m\u001b[39m{\u001b[39;00me\u001b[39m}\u001b[39;00m\u001b[39m\"\u001b[39m)\n\u001b[1;32m--> <a href='file:///f%3A/Desarrollo%20software/segwork/.venv/lib/site-packages/ignite/engine/engine.py?line=853'>854</a>\u001b[0m     \u001b[39mself\u001b[39;49m\u001b[39m.\u001b[39;49m_handle_exception(e)\n\u001b[0;32m    <a href='file:///f%3A/Desarrollo%20software/segwork/.venv/lib/site-packages/ignite/engine/engine.py?line=855'>856</a>\u001b[0m \u001b[39mreturn\u001b[39;00m time\u001b[39m.\u001b[39mtime() \u001b[39m-\u001b[39m start_time\n",
      "File \u001b[1;32mf:\\Desarrollo software\\segwork\\.venv\\lib\\site-packages\\ignite\\engine\\engine.py:466\u001b[0m, in \u001b[0;36mEngine._handle_exception\u001b[1;34m(self, e)\u001b[0m\n\u001b[0;32m    <a href='file:///f%3A/Desarrollo%20software/segwork/.venv/lib/site-packages/ignite/engine/engine.py?line=463'>464</a>\u001b[0m     \u001b[39mself\u001b[39m\u001b[39m.\u001b[39m_fire_event(Events\u001b[39m.\u001b[39mEXCEPTION_RAISED, e)\n\u001b[0;32m    <a href='file:///f%3A/Desarrollo%20software/segwork/.venv/lib/site-packages/ignite/engine/engine.py?line=464'>465</a>\u001b[0m \u001b[39melse\u001b[39;00m:\n\u001b[1;32m--> <a href='file:///f%3A/Desarrollo%20software/segwork/.venv/lib/site-packages/ignite/engine/engine.py?line=465'>466</a>\u001b[0m     \u001b[39mraise\u001b[39;00m e\n",
      "File \u001b[1;32mf:\\Desarrollo software\\segwork\\.venv\\lib\\site-packages\\ignite\\engine\\engine.py:807\u001b[0m, in \u001b[0;36mEngine._run_once_on_dataset\u001b[1;34m(self)\u001b[0m\n\u001b[0;32m    <a href='file:///f%3A/Desarrollo%20software/segwork/.venv/lib/site-packages/ignite/engine/engine.py?line=804'>805</a>\u001b[0m \u001b[39mif\u001b[39;00m \u001b[39mself\u001b[39m\u001b[39m.\u001b[39mlast_event_name \u001b[39m!=\u001b[39m Events\u001b[39m.\u001b[39mDATALOADER_STOP_ITERATION:\n\u001b[0;32m    <a href='file:///f%3A/Desarrollo%20software/segwork/.venv/lib/site-packages/ignite/engine/engine.py?line=805'>806</a>\u001b[0m     \u001b[39mself\u001b[39m\u001b[39m.\u001b[39m_fire_event(Events\u001b[39m.\u001b[39mGET_BATCH_STARTED)\n\u001b[1;32m--> <a href='file:///f%3A/Desarrollo%20software/segwork/.venv/lib/site-packages/ignite/engine/engine.py?line=806'>807</a>\u001b[0m \u001b[39mself\u001b[39m\u001b[39m.\u001b[39mstate\u001b[39m.\u001b[39mbatch \u001b[39m=\u001b[39m \u001b[39mnext\u001b[39;49m(\u001b[39mself\u001b[39;49m\u001b[39m.\u001b[39;49m_dataloader_iter)\n\u001b[0;32m    <a href='file:///f%3A/Desarrollo%20software/segwork/.venv/lib/site-packages/ignite/engine/engine.py?line=807'>808</a>\u001b[0m \u001b[39mself\u001b[39m\u001b[39m.\u001b[39m_fire_event(Events\u001b[39m.\u001b[39mGET_BATCH_COMPLETED)\n\u001b[0;32m    <a href='file:///f%3A/Desarrollo%20software/segwork/.venv/lib/site-packages/ignite/engine/engine.py?line=808'>809</a>\u001b[0m iter_counter \u001b[39m+\u001b[39m\u001b[39m=\u001b[39m \u001b[39m1\u001b[39m\n",
      "File \u001b[1;32mf:\\Desarrollo software\\segwork\\.venv\\lib\\site-packages\\torch\\utils\\data\\dataloader.py:530\u001b[0m, in \u001b[0;36m_BaseDataLoaderIter.__next__\u001b[1;34m(self)\u001b[0m\n\u001b[0;32m    <a href='file:///f%3A/Desarrollo%20software/segwork/.venv/lib/site-packages/torch/utils/data/dataloader.py?line=527'>528</a>\u001b[0m \u001b[39mif\u001b[39;00m \u001b[39mself\u001b[39m\u001b[39m.\u001b[39m_sampler_iter \u001b[39mis\u001b[39;00m \u001b[39mNone\u001b[39;00m:\n\u001b[0;32m    <a href='file:///f%3A/Desarrollo%20software/segwork/.venv/lib/site-packages/torch/utils/data/dataloader.py?line=528'>529</a>\u001b[0m     \u001b[39mself\u001b[39m\u001b[39m.\u001b[39m_reset()\n\u001b[1;32m--> <a href='file:///f%3A/Desarrollo%20software/segwork/.venv/lib/site-packages/torch/utils/data/dataloader.py?line=529'>530</a>\u001b[0m data \u001b[39m=\u001b[39m \u001b[39mself\u001b[39;49m\u001b[39m.\u001b[39;49m_next_data()\n\u001b[0;32m    <a href='file:///f%3A/Desarrollo%20software/segwork/.venv/lib/site-packages/torch/utils/data/dataloader.py?line=530'>531</a>\u001b[0m \u001b[39mself\u001b[39m\u001b[39m.\u001b[39m_num_yielded \u001b[39m+\u001b[39m\u001b[39m=\u001b[39m \u001b[39m1\u001b[39m\n\u001b[0;32m    <a href='file:///f%3A/Desarrollo%20software/segwork/.venv/lib/site-packages/torch/utils/data/dataloader.py?line=531'>532</a>\u001b[0m \u001b[39mif\u001b[39;00m \u001b[39mself\u001b[39m\u001b[39m.\u001b[39m_dataset_kind \u001b[39m==\u001b[39m _DatasetKind\u001b[39m.\u001b[39mIterable \u001b[39mand\u001b[39;00m \\\n\u001b[0;32m    <a href='file:///f%3A/Desarrollo%20software/segwork/.venv/lib/site-packages/torch/utils/data/dataloader.py?line=532'>533</a>\u001b[0m         \u001b[39mself\u001b[39m\u001b[39m.\u001b[39m_IterableDataset_len_called \u001b[39mis\u001b[39;00m \u001b[39mnot\u001b[39;00m \u001b[39mNone\u001b[39;00m \u001b[39mand\u001b[39;00m \\\n\u001b[0;32m    <a href='file:///f%3A/Desarrollo%20software/segwork/.venv/lib/site-packages/torch/utils/data/dataloader.py?line=533'>534</a>\u001b[0m         \u001b[39mself\u001b[39m\u001b[39m.\u001b[39m_num_yielded \u001b[39m>\u001b[39m \u001b[39mself\u001b[39m\u001b[39m.\u001b[39m_IterableDataset_len_called:\n",
      "File \u001b[1;32mf:\\Desarrollo software\\segwork\\.venv\\lib\\site-packages\\torch\\utils\\data\\dataloader.py:570\u001b[0m, in \u001b[0;36m_SingleProcessDataLoaderIter._next_data\u001b[1;34m(self)\u001b[0m\n\u001b[0;32m    <a href='file:///f%3A/Desarrollo%20software/segwork/.venv/lib/site-packages/torch/utils/data/dataloader.py?line=567'>568</a>\u001b[0m \u001b[39mdef\u001b[39;00m \u001b[39m_next_data\u001b[39m(\u001b[39mself\u001b[39m):\n\u001b[0;32m    <a href='file:///f%3A/Desarrollo%20software/segwork/.venv/lib/site-packages/torch/utils/data/dataloader.py?line=568'>569</a>\u001b[0m     index \u001b[39m=\u001b[39m \u001b[39mself\u001b[39m\u001b[39m.\u001b[39m_next_index()  \u001b[39m# may raise StopIteration\u001b[39;00m\n\u001b[1;32m--> <a href='file:///f%3A/Desarrollo%20software/segwork/.venv/lib/site-packages/torch/utils/data/dataloader.py?line=569'>570</a>\u001b[0m     data \u001b[39m=\u001b[39m \u001b[39mself\u001b[39;49m\u001b[39m.\u001b[39;49m_dataset_fetcher\u001b[39m.\u001b[39;49mfetch(index)  \u001b[39m# may raise StopIteration\u001b[39;00m\n\u001b[0;32m    <a href='file:///f%3A/Desarrollo%20software/segwork/.venv/lib/site-packages/torch/utils/data/dataloader.py?line=570'>571</a>\u001b[0m     \u001b[39mif\u001b[39;00m \u001b[39mself\u001b[39m\u001b[39m.\u001b[39m_pin_memory:\n\u001b[0;32m    <a href='file:///f%3A/Desarrollo%20software/segwork/.venv/lib/site-packages/torch/utils/data/dataloader.py?line=571'>572</a>\u001b[0m         data \u001b[39m=\u001b[39m _utils\u001b[39m.\u001b[39mpin_memory\u001b[39m.\u001b[39mpin_memory(data)\n",
      "File \u001b[1;32mf:\\Desarrollo software\\segwork\\.venv\\lib\\site-packages\\torch\\utils\\data\\_utils\\fetch.py:52\u001b[0m, in \u001b[0;36m_MapDatasetFetcher.fetch\u001b[1;34m(self, possibly_batched_index)\u001b[0m\n\u001b[0;32m     <a href='file:///f%3A/Desarrollo%20software/segwork/.venv/lib/site-packages/torch/utils/data/_utils/fetch.py?line=49'>50</a>\u001b[0m \u001b[39melse\u001b[39;00m:\n\u001b[0;32m     <a href='file:///f%3A/Desarrollo%20software/segwork/.venv/lib/site-packages/torch/utils/data/_utils/fetch.py?line=50'>51</a>\u001b[0m     data \u001b[39m=\u001b[39m \u001b[39mself\u001b[39m\u001b[39m.\u001b[39mdataset[possibly_batched_index]\n\u001b[1;32m---> <a href='file:///f%3A/Desarrollo%20software/segwork/.venv/lib/site-packages/torch/utils/data/_utils/fetch.py?line=51'>52</a>\u001b[0m \u001b[39mreturn\u001b[39;00m \u001b[39mself\u001b[39;49m\u001b[39m.\u001b[39;49mcollate_fn(data)\n",
      "File \u001b[1;32mf:\\Desarrollo software\\segwork\\.venv\\lib\\site-packages\\torch\\utils\\data\\_utils\\collate.py:172\u001b[0m, in \u001b[0;36mdefault_collate\u001b[1;34m(batch)\u001b[0m\n\u001b[0;32m    <a href='file:///f%3A/Desarrollo%20software/segwork/.venv/lib/site-packages/torch/utils/data/_utils/collate.py?line=168'>169</a>\u001b[0m transposed \u001b[39m=\u001b[39m \u001b[39mlist\u001b[39m(\u001b[39mzip\u001b[39m(\u001b[39m*\u001b[39mbatch))  \u001b[39m# It may be accessed twice, so we use a list.\u001b[39;00m\n\u001b[0;32m    <a href='file:///f%3A/Desarrollo%20software/segwork/.venv/lib/site-packages/torch/utils/data/_utils/collate.py?line=170'>171</a>\u001b[0m \u001b[39mif\u001b[39;00m \u001b[39misinstance\u001b[39m(elem, \u001b[39mtuple\u001b[39m):\n\u001b[1;32m--> <a href='file:///f%3A/Desarrollo%20software/segwork/.venv/lib/site-packages/torch/utils/data/_utils/collate.py?line=171'>172</a>\u001b[0m     \u001b[39mreturn\u001b[39;00m [default_collate(samples) \u001b[39mfor\u001b[39;00m samples \u001b[39min\u001b[39;00m transposed]  \u001b[39m# Backwards compatibility.\u001b[39;00m\n\u001b[0;32m    <a href='file:///f%3A/Desarrollo%20software/segwork/.venv/lib/site-packages/torch/utils/data/_utils/collate.py?line=172'>173</a>\u001b[0m \u001b[39melse\u001b[39;00m:\n\u001b[0;32m    <a href='file:///f%3A/Desarrollo%20software/segwork/.venv/lib/site-packages/torch/utils/data/_utils/collate.py?line=173'>174</a>\u001b[0m     \u001b[39mtry\u001b[39;00m:\n",
      "File \u001b[1;32mf:\\Desarrollo software\\segwork\\.venv\\lib\\site-packages\\torch\\utils\\data\\_utils\\collate.py:172\u001b[0m, in \u001b[0;36m<listcomp>\u001b[1;34m(.0)\u001b[0m\n\u001b[0;32m    <a href='file:///f%3A/Desarrollo%20software/segwork/.venv/lib/site-packages/torch/utils/data/_utils/collate.py?line=168'>169</a>\u001b[0m transposed \u001b[39m=\u001b[39m \u001b[39mlist\u001b[39m(\u001b[39mzip\u001b[39m(\u001b[39m*\u001b[39mbatch))  \u001b[39m# It may be accessed twice, so we use a list.\u001b[39;00m\n\u001b[0;32m    <a href='file:///f%3A/Desarrollo%20software/segwork/.venv/lib/site-packages/torch/utils/data/_utils/collate.py?line=170'>171</a>\u001b[0m \u001b[39mif\u001b[39;00m \u001b[39misinstance\u001b[39m(elem, \u001b[39mtuple\u001b[39m):\n\u001b[1;32m--> <a href='file:///f%3A/Desarrollo%20software/segwork/.venv/lib/site-packages/torch/utils/data/_utils/collate.py?line=171'>172</a>\u001b[0m     \u001b[39mreturn\u001b[39;00m [default_collate(samples) \u001b[39mfor\u001b[39;00m samples \u001b[39min\u001b[39;00m transposed]  \u001b[39m# Backwards compatibility.\u001b[39;00m\n\u001b[0;32m    <a href='file:///f%3A/Desarrollo%20software/segwork/.venv/lib/site-packages/torch/utils/data/_utils/collate.py?line=172'>173</a>\u001b[0m \u001b[39melse\u001b[39;00m:\n\u001b[0;32m    <a href='file:///f%3A/Desarrollo%20software/segwork/.venv/lib/site-packages/torch/utils/data/_utils/collate.py?line=173'>174</a>\u001b[0m     \u001b[39mtry\u001b[39;00m:\n",
      "File \u001b[1;32mf:\\Desarrollo software\\segwork\\.venv\\lib\\site-packages\\torch\\utils\\data\\_utils\\collate.py:180\u001b[0m, in \u001b[0;36mdefault_collate\u001b[1;34m(batch)\u001b[0m\n\u001b[0;32m    <a href='file:///f%3A/Desarrollo%20software/segwork/.venv/lib/site-packages/torch/utils/data/_utils/collate.py?line=175'>176</a>\u001b[0m         \u001b[39mexcept\u001b[39;00m \u001b[39mTypeError\u001b[39;00m:\n\u001b[0;32m    <a href='file:///f%3A/Desarrollo%20software/segwork/.venv/lib/site-packages/torch/utils/data/_utils/collate.py?line=176'>177</a>\u001b[0m             \u001b[39m# The sequence type may not support `__init__(iterable)` (e.g., `range`).\u001b[39;00m\n\u001b[0;32m    <a href='file:///f%3A/Desarrollo%20software/segwork/.venv/lib/site-packages/torch/utils/data/_utils/collate.py?line=177'>178</a>\u001b[0m             \u001b[39mreturn\u001b[39;00m [default_collate(samples) \u001b[39mfor\u001b[39;00m samples \u001b[39min\u001b[39;00m transposed]\n\u001b[1;32m--> <a href='file:///f%3A/Desarrollo%20software/segwork/.venv/lib/site-packages/torch/utils/data/_utils/collate.py?line=179'>180</a>\u001b[0m \u001b[39mraise\u001b[39;00m \u001b[39mTypeError\u001b[39;00m(default_collate_err_msg_format\u001b[39m.\u001b[39mformat(elem_type))\n",
      "\u001b[1;31mTypeError\u001b[0m: default_collate: batch must contain tensors, numpy arrays, numbers, dicts or lists; found <class 'PIL.Image.Image'>"
     ]
    }
   ],
   "source": [
    "def main():\n",
    "    run()\n",
    "\n",
    "main()"
   ]
  },
  {
   "cell_type": "code",
   "execution_count": 44,
   "metadata": {},
   "outputs": [
    {
     "data": {
      "text/plain": [
       "torch.Size([4, 1, 256, 256])"
      ]
     },
     "execution_count": 44,
     "metadata": {},
     "output_type": "execute_result"
    }
   ],
   "source": [
    "model = models_reg.get_instance(model_name, **model_args)\n",
    "x = torch.rand(4,3,256, 256)\n",
    "out = model(x)\n",
    "out.size()\n",
    "\n",
    "loss = smp.losses.DiceLoss( mode = 'multiclass')"
   ]
  },
  {
   "cell_type": "markdown",
   "metadata": {},
   "source": [
    "#### Training step - Custom"
   ]
  },
  {
   "cell_type": "markdown",
   "metadata": {},
   "source": []
  }
 ],
 "metadata": {
  "interpreter": {
   "hash": "f915bd14e41f75defdaded59260e23886f79ad3e68b01e8dfe9aedb79f73e220"
  },
  "kernelspec": {
   "display_name": "Python 3.9.9 ('.venv': venv)",
   "language": "python",
   "name": "python3"
  },
  "language_info": {
   "codemirror_mode": {
    "name": "ipython",
    "version": 3
   },
   "file_extension": ".py",
   "mimetype": "text/x-python",
   "name": "python",
   "nbconvert_exporter": "python",
   "pygments_lexer": "ipython3",
   "version": "3.9.9"
  },
  "orig_nbformat": 4
 },
 "nbformat": 4,
 "nbformat_minor": 2
}
