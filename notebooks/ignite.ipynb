{
 "cells": [
  {
   "cell_type": "markdown",
   "metadata": {},
   "source": [
    "### Training a Network with Ignite"
   ]
  },
  {
   "cell_type": "code",
   "execution_count": 1,
   "metadata": {},
   "outputs": [],
   "source": [
    "import os\n",
    "ROOT_PATH = os.path.abspath(os.pardir)\n",
    "\n",
    "import torchvision\n",
    "import torchvision.transforms.transforms as T\n",
    "\n",
    "import torch\n",
    "import torch.nn as nn\n",
    "from torch.utils.data  import DataLoader\n",
    "\n",
    "import ignite\n",
    "import ignite.engine as ign\n",
    "import ignite.metrics as igm\n",
    "\n",
    "import segmentation_models_pytorch as smp\n",
    "\n",
    "from segwork.config.config import get_experiment_cfg\n",
    "from segwork.data import DroneDataset, ToTensor\n",
    "from segwork.registry import ConfigurableRegistry\n",
    "from segwork.registry import models_reg"
   ]
  },
  {
   "cell_type": "markdown",
   "metadata": {},
   "source": [
    "#### Read configuration"
   ]
  },
  {
   "cell_type": "code",
   "execution_count": 2,
   "metadata": {},
   "outputs": [
    {
     "data": {
      "text/plain": [
       "{'NAME': 'ExperimentoA',\n",
       " 'DATASET': CfgNode({'KEY': 'drone', 'KEY_VAL': 'drone', 'TRANSFORM': CfgNode({'TRANSFORM': 'transformationA', 'TRANSFORM_ARGS': CfgNode({'height': 256, 'width': 512}), 'TARGET_TRANSFORM': 'transformationA', 'TARGET_TRANSFORM_ARGS': CfgNode({'height': 256, 'width': 512})})}),\n",
       " 'DATALOADER': CfgNode({'BATCH_SIZE': 2, 'VAL_BATCH_SIZE': 2, 'WORKERS': 0}),\n",
       " 'MODEL': CfgNode({'KEY': 'unet', 'ARGS': CfgNode({'encoder_name': 'resnet34', 'classes': 24}), 'DEVICE': 'cuda'}),\n",
       " 'OPTIM': CfgNode({'KEY': 'sgd', 'ARGS': CfgNode({'lr': 0.1, 'momentum': 0.9}), 'LOSS': CfgNode({'KEY': 'crossentropyloss', 'ARGS': CfgNode({})})}),\n",
       " 'LOGGER': CfgNode({'LOG_INTERVAL': 10}),\n",
       " 'TRAIN': CfgNode({'MAX_EPOCHS': 100}),\n",
       " 'VALIDATION': CfgNode({'METRICS_KEYS': ['loss'], 'ARGS': CfgNode({'loss': CfgNode({})})})}"
      ]
     },
     "execution_count": 2,
     "metadata": {},
     "output_type": "execute_result"
    }
   ],
   "source": [
    "experiment_name = 'ExperimentA'\n",
    "dir_path = os.path.join(ROOT_PATH, 'config')\n",
    "file_path = os.path.join(dir_path, f'{experiment_name}.yaml')\n",
    "\n",
    "cfg = get_experiment_cfg(file_path)\n",
    "dict(cfg)\n"
   ]
  },
  {
   "cell_type": "code",
   "execution_count": 3,
   "metadata": {},
   "outputs": [
    {
     "name": "stdout",
     "output_type": "stream",
     "text": [
      "Config file for experiment: ExperimentoA\n"
     ]
    }
   ],
   "source": [
    "# Configuration file\n",
    "print(f\"Config file for experiment: {cfg.get('NAME', None)}\")"
   ]
  },
  {
   "cell_type": "markdown",
   "metadata": {},
   "source": [
    "#### Data pipeline\n",
    "Define modular components.\n",
    "Components can be added when they are defined or later."
   ]
  },
  {
   "cell_type": "code",
   "execution_count": 4,
   "metadata": {},
   "outputs": [],
   "source": [
    "data_cfg = cfg.DATASET\n",
    "\n",
    "dataset_reg = ConfigurableRegistry(\n",
    "    class_key='dataset',\n",
    "    unique = True,\n",
    "    additional_args=['transform', 'target_transform'],\n",
    "    initial_registry=dict(\n",
    "\n",
    "        # Aerial drone dataset\n",
    "        drone = dict(\n",
    "            dataset = DroneDataset,\n",
    "            _default_kwargs = dict(\n",
    "                root = os.path.join(ROOT_PATH, 'data', 'semantic_drone_dataset'),\n",
    "                pil_target = False,\n",
    "                transform = T.ToTensor(),\n",
    "                target_transform = T.ToTensor()\n",
    "            )\n",
    "        ), \n",
    "    ),\n",
    ")"
   ]
  },
  {
   "cell_type": "code",
   "execution_count": 5,
   "metadata": {},
   "outputs": [],
   "source": [
    "dataset_reg['voc'] = dict(\n",
    "    dataset = torchvision.datasets.VOCSegmentation,\n",
    "    _default_kwargs = dict(\n",
    "        root = os.path.join(ROOT_PATH, 'data', 'PASCALVOC'),\n",
    "        transform = nn.Sequential(ToTensor(), T.Resize(size=(288, 512)))\n",
    "        \n",
    "    )\n",
    ")"
   ]
  },
  {
   "cell_type": "code",
   "execution_count": 6,
   "metadata": {},
   "outputs": [
    {
     "data": {
      "text/plain": [
       "{'dataset': torchvision.datasets.voc.VOCSegmentation,\n",
       " '_default_kwargs': {'root': 'f:\\\\Desarrollo software\\\\segwork\\\\data\\\\PASCALVOC',\n",
       "  'transform': Sequential(\n",
       "    (0): ToTensor()\n",
       "    (1): Resize(size=(288, 512), interpolation=bilinear, max_size=None, antialias=None)\n",
       "  )}}"
      ]
     },
     "execution_count": 6,
     "metadata": {},
     "output_type": "execute_result"
    }
   ],
   "source": [
    "dataset_reg['voc']"
   ]
  },
  {
   "cell_type": "markdown",
   "metadata": {},
   "source": [
    "No additional modular components"
   ]
  },
  {
   "cell_type": "code",
   "execution_count": 7,
   "metadata": {},
   "outputs": [
    {
     "name": "stdout",
     "output_type": "stream",
     "text": [
      "Image has type: <class 'torch.Tensor'>. With size torch.Size([3, 4000, 6000])\n",
      "Label has type: <class 'torch.Tensor'>. With size torch.Size([1, 4000, 6000])\n"
     ]
    }
   ],
   "source": [
    "\n",
    "train_dataset = dataset_reg.get_instance(data_cfg.KEY)\n",
    "val_dataset = dataset_reg.get_instance(data_cfg.KEY_VAL)\n",
    "\n",
    "img, label = train_dataset[0]\n",
    "print(f'Image has type: {type(img)}. With size {img.size()}')\n",
    "print(f'Label has type: {type(label)}. With size {label.size()}')\n"
   ]
  },
  {
   "cell_type": "markdown",
   "metadata": {},
   "source": [
    "With different transformations. Define your transformation repository."
   ]
  },
  {
   "cell_type": "code",
   "execution_count": 8,
   "metadata": {},
   "outputs": [],
   "source": [
    "transformation_reg = ConfigurableRegistry(\n",
    "    class_key='transformation',\n",
    "    unique = True,\n",
    "    initial_registry=dict(\n",
    "\n",
    "        # Basic transformation\n",
    "        totensor = dict(\n",
    "            transformation = ToTensor,\n",
    "        ), \n",
    "    )\n",
    ")"
   ]
  },
  {
   "cell_type": "code",
   "execution_count": 9,
   "metadata": {},
   "outputs": [],
   "source": [
    "@transformation_reg.register\n",
    "class Transformation_A(nn.Sequential):\n",
    "    \"\"\"Transformation composed by ToTensor and Resize\"\"\"\n",
    "\n",
    "    _register_name = 'transformationA'\n",
    "\n",
    "    _default_kwargs = {\n",
    "        \"height\" : 256,\n",
    "        \"width\" : 512\n",
    "    }\n",
    "\n",
    "    def __init__(self, height:int, width:int):\n",
    "        super().__init__()\n",
    "        self.size = (height, width)\n",
    "        self.add_module('totensor', ToTensor())\n",
    "        self.add_module('resize', T.Resize(size=self.size))"
   ]
  },
  {
   "cell_type": "code",
   "execution_count": 10,
   "metadata": {},
   "outputs": [
    {
     "data": {
      "text/plain": [
       "ConfigurableRegistry\n",
       "\tattr_name: _register_name\n",
       "\tunique: True\n",
       "\tNumber of registered classes: 2 \n",
       "\tRegistered classes: ['totensor', 'transformationA']\n",
       "\tClass key: transformation\n",
       "\tAttribute args: _default_args\n",
       "\tAttribute kwargs: _default_kwargs\n",
       "\tAdditional info from attributes: []"
      ]
     },
     "execution_count": 10,
     "metadata": {},
     "output_type": "execute_result"
    }
   ],
   "source": [
    "transformation_reg"
   ]
  },
  {
   "cell_type": "code",
   "execution_count": 11,
   "metadata": {},
   "outputs": [
    {
     "name": "stdout",
     "output_type": "stream",
     "text": [
      "Image has type: <class 'torch.Tensor'>. With size torch.Size([3, 256, 512])\n",
      "Label has type: <class 'torch.Tensor'>. With size torch.Size([1, 256, 512])\n"
     ]
    }
   ],
   "source": [
    "transform_cfg = cfg.DATASET.TRANSFORM\n",
    "\n",
    "transform = transformation_reg.get_instance(transform_cfg.TRANSFORM, **transform_cfg.TRANSFORM_ARGS) \n",
    "target_transform = transformation_reg.get_instance(transform_cfg.TARGET_TRANSFORM, **transform_cfg.TARGET_TRANSFORM_ARGS)\n",
    "\n",
    "train_dataset = dataset_reg.get_instance(data_cfg.KEY, transform=transform, target_transform=target_transform)\n",
    "val_dataset = dataset_reg.get_instance(data_cfg.KEY)\n",
    "\n",
    "img, label = train_dataset[0]\n",
    "print(f'Image has type: {type(img)}. With size {img.size()}')\n",
    "print(f'Label has type: {type(label)}. With size {label.size()}')"
   ]
  },
  {
   "cell_type": "code",
   "execution_count": 12,
   "metadata": {},
   "outputs": [
    {
     "data": {
      "text/plain": [
       "Dataset DroneDataset\n",
       "    Number of datapoints: 400\n",
       "    Root location: f:\\Desarrollo software\\segwork\\data\\semantic_drone_dataset\n",
       "    StandardTransform\n",
       "Transform: Transformation_A(\n",
       "             (totensor): ToTensor()\n",
       "             (resize): Resize(size=(256, 512), interpolation=bilinear, max_size=None, antialias=None)\n",
       "           )\n",
       "Target transform: Transformation_A(\n",
       "                    (totensor): ToTensor()\n",
       "                    (resize): Resize(size=(256, 512), interpolation=bilinear, max_size=None, antialias=None)\n",
       "                  )"
      ]
     },
     "execution_count": 12,
     "metadata": {},
     "output_type": "execute_result"
    }
   ],
   "source": [
    "train_dataset"
   ]
  },
  {
   "cell_type": "code",
   "execution_count": 13,
   "metadata": {},
   "outputs": [],
   "source": [
    "dataloader_cfg = cfg.DATALOADER\n",
    "\n",
    "# Parameters can be passed through this method **cfg.DATALOADER.ARGS\n",
    "def get_data_loaders(batch_size:int, val_batch_size:int, num_workers:int, *args, **kwargs):\n",
    "    train_loader = DataLoader(train_dataset, batch_size=batch_size, num_workers=num_workers, *args, **kwargs)\n",
    "    val_loader = DataLoader(val_dataset, batch_size=val_batch_size, num_workers=num_workers)\n",
    "    return (train_loader, val_loader)\n"
   ]
  },
  {
   "cell_type": "markdown",
   "metadata": {},
   "source": [
    "#### Define other registers for modular components\n",
    "When you want to test other component, just add it to the initial registry or use the decorator when defining the class"
   ]
  },
  {
   "cell_type": "code",
   "execution_count": 14,
   "metadata": {},
   "outputs": [],
   "source": [
    "metrics_reg = ConfigurableRegistry(\n",
    "    class_key='metric',\n",
    "    unique = True,\n",
    "    initial_registry=dict(\n",
    "\n",
    "        # Accuracy class from Ignite\n",
    "        cm = dict(\n",
    "            metric = igm.ConfusionMatrix,\n",
    "            _default_kwargs = {\n",
    "                \"num_classes\" : train_dataset.num_classes\n",
    "            }\n",
    "        ), \n",
    "        \n",
    "        # Other metrics...\n",
    "    ),\n",
    ")"
   ]
  },
  {
   "cell_type": "code",
   "execution_count": 15,
   "metadata": {},
   "outputs": [],
   "source": [
    "loss_reg = ConfigurableRegistry(\n",
    "    class_key='loss',\n",
    "    unique = True,\n",
    "    initial_registry=dict(\n",
    "\n",
    "        # Loss from ignite\n",
    "        crossentropyloss = dict(\n",
    "            loss = torch.nn.CrossEntropyLoss,\n",
    "        ),\n",
    "        \n",
    "        # Dice loss from smp\n",
    "        diceloss = dict(\n",
    "            loss = smp.losses.DiceLoss,\n",
    "            _default_kwargs = {\n",
    "                \"mode\" : 'multiclass'\n",
    "            }\n",
    "        ), \n",
    "    ),\n",
    ")"
   ]
  },
  {
   "cell_type": "code",
   "execution_count": 16,
   "metadata": {},
   "outputs": [],
   "source": [
    "optim_reg = ConfigurableRegistry(\n",
    "    class_key='algorithm',\n",
    "    unique = True,\n",
    "    additional_args=['required_args'],\n",
    "    initial_registry=dict(\n",
    "        \n",
    "        sgd = dict(\n",
    "            algorithm = torch.optim.SGD,\n",
    "            _default_kwargs = {\n",
    "                \"lr\" : 0.01,\n",
    "                \"momentum\" : 0.9\n",
    "            },\n",
    "            required_args = ['Model parameters']\n",
    "        ), \n",
    "    ),\n",
    ")"
   ]
  },
  {
   "cell_type": "markdown",
   "metadata": {},
   "source": [
    "#### Training step"
   ]
  },
  {
   "cell_type": "markdown",
   "metadata": {},
   "source": [
    "##### Training step - Custom"
   ]
  },
  {
   "cell_type": "code",
   "execution_count": 17,
   "metadata": {},
   "outputs": [
    {
     "name": "stdout",
     "output_type": "stream",
     "text": [
      "Getting model...\n",
      "Moving model to cuda...\n",
      "Getting data loaders...\n",
      "Getting optimizer and loss function...\n",
      "Getting validation metrics...\n"
     ]
    }
   ],
   "source": [
    "# Get model and place it in device\n",
    "print(f'Getting model...')\n",
    "model = models_reg.get_instance(cfg.MODEL.KEY, **cfg.MODEL.ARGS)\n",
    "device = cfg.MODEL.DEVICE\n",
    "print(f'Moving model to {device}...')\n",
    "model.to(device)\n",
    "\n",
    "# Data loaders\n",
    "print(f'Getting data loaders...')\n",
    "train_loader = DataLoader(train_dataset, batch_size=dataloader_cfg.BATCH_SIZE, num_workers=dataloader_cfg.WORKERS)\n",
    "val_loader = DataLoader(val_dataset, batch_size=dataloader_cfg.VAL_BATCH_SIZE)\n",
    "\n",
    "# Optimizer - Can be easily include in a custom registry\n",
    "print(f'Getting optimizer and loss function...')\n",
    "optimizer = optim_reg.get_instance(cfg.OPTIM.KEY, model.parameters(), **cfg.OPTIM.ARGS)\n",
    "criterion = loss_reg.get_instance(cfg.OPTIM.LOSS.KEY, **cfg.OPTIM.LOSS.ARGS)\n",
    "\n",
    "# Val metrics\n",
    "print(f'Getting validation metrics...')\n",
    "cm = igm.ConfusionMatrix(num_classes=train_dataset.num_classes)\n",
    "val_metrics = dict(\n",
    "    cm = cm,\n",
    "    mIoU = igm.mIoU(cm, ignore_index=0),\n",
    "    loss = igm.Loss(criterion)\n",
    ")"
   ]
  },
  {
   "cell_type": "code",
   "execution_count": 18,
   "metadata": {},
   "outputs": [],
   "source": [
    "def train_step(engine, batch):\n",
    "    model.train()\n",
    "    optimizer.zero_grad()\n",
    "    x, y = batch[0].to(device), batch[1].to(device)\n",
    "    y_pred = model(x)\n",
    "    y = y.squeeze(1).long() # Minimum change\n",
    "    loss = criterion(y_pred, y)\n",
    "    loss.backward()\n",
    "    optimizer.step()\n",
    "    return loss.item()\n",
    "\n",
    "trainer = ign.Engine(train_step)\n",
    "\n",
    "def validation_step(engine, batch):\n",
    "    model.eval()\n",
    "    with torch.no_grad():\n",
    "        x, y = batch[0].to(device), batch[1].to(device)\n",
    "        y_pred = model(x)\n",
    "        y = y.squeeze(1).long()\n",
    "        return y_pred, y\n",
    "\n",
    "evaluator = ign.Engine(validation_step)\n",
    "\n",
    "# Attach metrics to the evaluators\n",
    "for name, metric in val_metrics.items():\n",
    "    metric.attach(evaluator, name)\n",
    "\n",
    "for name, metric in val_metrics.items():\n",
    "    metric.attach(evaluator, name)"
   ]
  },
  {
   "cell_type": "code",
   "execution_count": 19,
   "metadata": {},
   "outputs": [],
   "source": [
    "@trainer.on(ign.Events.ITERATION_COMPLETED(every=cfg.LOGGER.LOG_INTERVAL))\n",
    "def log_training_loss(engine):\n",
    "    print(f\"Epoch[{engine.state.epoch}], Iter[{engine.state.iteration}] Loss: {engine.state.output:.2f}\")\n",
    "\n",
    "@trainer.on(ign.Events.EPOCH_COMPLETED)\n",
    "def log_training_results(trainer):\n",
    "    evaluator.run(train_loader)\n",
    "    metrics = evaluator.state.metrics\n",
    "    print(f\"Training Results - Epoch: {trainer.state.epoch}  mIoU: {metrics['mIoU']:.2f} Avg loss: {metrics['loss']:.2f}\")\n",
    "\n",
    "@trainer.on(ign.Events.EPOCH_COMPLETED)\n",
    "def log_validation_results(trainer):\n",
    "    evaluator.run(val_loader)\n",
    "    metrics = evaluator.state.metrics\n",
    "    print(f\"Validation Results - Epoch: {trainer.state.epoch}  mIoU: {metrics['mIoU']:.2f} Avg loss: {metrics['loss']:.2f}\")"
   ]
  },
  {
   "cell_type": "code",
   "execution_count": 20,
   "metadata": {},
   "outputs": [
    {
     "data": {
      "text/plain": [
       "<ignite.engine.events.RemovableEventHandle at 0x15d07a73f70>"
      ]
     },
     "execution_count": 20,
     "metadata": {},
     "output_type": "execute_result"
    }
   ],
   "source": [
    "# Score function to return current value of any metric we defined above in val_metrics\n",
    "def score_function(engine):\n",
    "    return engine.state.metrics[\"mIoU\"]\n",
    "\n",
    "# Checkpoint to store n_saved best models wrt score function\n",
    "model_checkpoint = ignite.handlers.ModelCheckpoint(\n",
    "    \"checkpoint\",\n",
    "    n_saved=2,\n",
    "    filename_prefix=\"best\",\n",
    "    score_function=score_function,\n",
    "    score_name=\"mIoU\",\n",
    "    global_step_transform=ignite.handlers.global_step_from_engine(trainer), # helps fetch the trainer's state\n",
    ")\n",
    "  \n",
    "# Save the model after every epoch of val_evaluator is completed\n",
    "evaluator.add_event_handler(ign.Events.COMPLETED, model_checkpoint, {\"model\": model})"
   ]
  },
  {
   "cell_type": "code",
   "execution_count": 22,
   "metadata": {},
   "outputs": [
    {
     "name": "stdout",
     "output_type": "stream",
     "text": [
      "Epoch[1], Iter[10] Loss: 1.88\n",
      "Epoch[1], Iter[20] Loss: 1.50\n",
      "Epoch[1], Iter[30] Loss: 1.65\n",
      "Epoch[1], Iter[40] Loss: 1.12\n",
      "Epoch[1], Iter[50] Loss: 2.06\n",
      "Epoch[1], Iter[60] Loss: 1.99\n",
      "Epoch[1], Iter[70] Loss: 1.38\n",
      "Epoch[1], Iter[80] Loss: 0.97\n",
      "Epoch[1], Iter[90] Loss: 1.60\n",
      "Epoch[1], Iter[100] Loss: 1.15\n",
      "Epoch[1], Iter[110] Loss: 0.75\n",
      "Epoch[1], Iter[120] Loss: 1.04\n",
      "Epoch[1], Iter[130] Loss: 0.93\n",
      "Epoch[1], Iter[140] Loss: 0.44\n",
      "Epoch[1], Iter[150] Loss: 0.92\n",
      "Epoch[1], Iter[160] Loss: 5.43\n",
      "Epoch[1], Iter[170] Loss: 1.24\n",
      "Epoch[1], Iter[180] Loss: 1.02\n",
      "Epoch[1], Iter[190] Loss: 1.02\n",
      "Epoch[1], Iter[200] Loss: 1.13\n",
      "Training Results - Epoch: 1  mIoU: 0.12 Avg loss: 1.86\n",
      "Validation Results - Epoch: 1  mIoU: 0.12 Avg loss: 1.86\n",
      "Epoch[2], Iter[210] Loss: 1.39\n",
      "Epoch[2], Iter[220] Loss: 1.09\n",
      "Epoch[2], Iter[230] Loss: 1.10\n",
      "Epoch[2], Iter[240] Loss: 0.71\n",
      "Epoch[2], Iter[250] Loss: 1.43\n",
      "Epoch[2], Iter[260] Loss: 1.07\n",
      "Epoch[2], Iter[270] Loss: 0.55\n",
      "Epoch[2], Iter[280] Loss: 0.79\n",
      "Epoch[2], Iter[290] Loss: 0.90\n",
      "Epoch[2], Iter[300] Loss: 1.15\n",
      "Epoch[2], Iter[310] Loss: 0.58\n",
      "Epoch[2], Iter[320] Loss: 2.37\n",
      "Epoch[2], Iter[330] Loss: 0.81\n",
      "Epoch[2], Iter[340] Loss: 1.10\n",
      "Epoch[2], Iter[350] Loss: 0.94\n",
      "Epoch[2], Iter[360] Loss: 2.11\n",
      "Epoch[2], Iter[370] Loss: 1.16\n",
      "Epoch[2], Iter[380] Loss: 1.47\n",
      "Epoch[2], Iter[390] Loss: 0.86\n",
      "Epoch[2], Iter[400] Loss: 1.07\n",
      "Training Results - Epoch: 2  mIoU: 0.24 Avg loss: 0.75\n",
      "Validation Results - Epoch: 2  mIoU: 0.24 Avg loss: 0.75\n",
      "Epoch[3], Iter[410] Loss: 0.57\n",
      "Epoch[3], Iter[420] Loss: 0.53\n",
      "Epoch[3], Iter[430] Loss: 1.05\n",
      "Epoch[3], Iter[440] Loss: 0.40\n",
      "Epoch[3], Iter[450] Loss: 0.74\n",
      "Epoch[3], Iter[460] Loss: 0.64\n",
      "Epoch[3], Iter[470] Loss: 0.59\n",
      "Epoch[3], Iter[480] Loss: 0.87\n",
      "Epoch[3], Iter[490] Loss: 0.80\n",
      "Epoch[3], Iter[500] Loss: 0.68\n",
      "Epoch[3], Iter[510] Loss: 0.38\n",
      "Epoch[3], Iter[520] Loss: 1.28\n",
      "Epoch[3], Iter[530] Loss: 0.81\n",
      "Epoch[3], Iter[540] Loss: 0.37\n",
      "Epoch[3], Iter[550] Loss: 0.70\n",
      "Epoch[3], Iter[560] Loss: 2.45\n",
      "Epoch[3], Iter[570] Loss: 1.11\n",
      "Epoch[3], Iter[580] Loss: 0.66\n",
      "Epoch[3], Iter[590] Loss: 0.80\n",
      "Epoch[3], Iter[600] Loss: 0.68\n",
      "Training Results - Epoch: 3  mIoU: 0.24 Avg loss: 0.73\n",
      "Validation Results - Epoch: 3  mIoU: 0.24 Avg loss: 0.73\n",
      "Epoch[4], Iter[610] Loss: 0.91\n",
      "Epoch[4], Iter[620] Loss: 0.52\n",
      "Epoch[4], Iter[630] Loss: 0.66\n",
      "Epoch[4], Iter[640] Loss: 0.48\n",
      "Epoch[4], Iter[650] Loss: 0.61\n",
      "Epoch[4], Iter[660] Loss: 0.50\n",
      "Epoch[4], Iter[670] Loss: 0.54\n",
      "Epoch[4], Iter[680] Loss: 0.45\n",
      "Epoch[4], Iter[690] Loss: 0.60\n",
      "Epoch[4], Iter[700] Loss: 0.71\n",
      "Epoch[4], Iter[710] Loss: 0.33\n",
      "Epoch[4], Iter[720] Loss: 0.49\n",
      "Epoch[4], Iter[730] Loss: 0.62\n",
      "Epoch[4], Iter[740] Loss: 0.22\n",
      "Epoch[4], Iter[750] Loss: 0.32\n",
      "Epoch[4], Iter[760] Loss: 2.26\n",
      "Epoch[4], Iter[770] Loss: 1.02\n",
      "Epoch[4], Iter[780] Loss: 0.84\n",
      "Epoch[4], Iter[790] Loss: 1.08\n",
      "Epoch[4], Iter[800] Loss: 1.82\n",
      "Training Results - Epoch: 4  mIoU: 0.12 Avg loss: 1.88\n",
      "Validation Results - Epoch: 4  mIoU: 0.12 Avg loss: 1.88\n",
      "Epoch[5], Iter[810] Loss: 1.20\n",
      "Epoch[5], Iter[820] Loss: 1.03\n",
      "Epoch[5], Iter[830] Loss: 1.17\n",
      "Epoch[5], Iter[840] Loss: 0.87\n",
      "Epoch[5], Iter[850] Loss: 1.09\n",
      "Epoch[5], Iter[860] Loss: 1.03\n",
      "Epoch[5], Iter[870] Loss: 1.28\n",
      "Epoch[5], Iter[880] Loss: 0.97\n",
      "Epoch[5], Iter[890] Loss: 0.92\n",
      "Epoch[5], Iter[900] Loss: 0.88\n",
      "Epoch[5], Iter[910] Loss: 1.04\n",
      "Epoch[5], Iter[920] Loss: 1.47\n",
      "Epoch[5], Iter[930] Loss: 1.10\n",
      "Epoch[5], Iter[940] Loss: 1.10\n",
      "Epoch[5], Iter[950] Loss: 0.84\n",
      "Epoch[5], Iter[960] Loss: 2.24\n",
      "Epoch[5], Iter[970] Loss: 0.91\n",
      "Epoch[5], Iter[980] Loss: 1.02\n",
      "Epoch[5], Iter[990] Loss: 0.90\n",
      "Epoch[5], Iter[1000] Loss: 1.03\n",
      "Training Results - Epoch: 5  mIoU: 0.09 Avg loss: 2.86\n",
      "Validation Results - Epoch: 5  mIoU: 0.09 Avg loss: 2.86\n",
      "Epoch[6], Iter[1010] Loss: 1.40\n",
      "Epoch[6], Iter[1020] Loss: 1.23\n",
      "Epoch[6], Iter[1030] Loss: 1.04\n",
      "Epoch[6], Iter[1040] Loss: 1.94\n",
      "Epoch[6], Iter[1050] Loss: 1.64\n",
      "Epoch[6], Iter[1060] Loss: 1.30\n",
      "Epoch[6], Iter[1070] Loss: 0.87\n",
      "Epoch[6], Iter[1080] Loss: 0.78\n",
      "Epoch[6], Iter[1090] Loss: 1.13\n",
      "Epoch[6], Iter[1100] Loss: 1.06\n",
      "Epoch[6], Iter[1110] Loss: 1.06\n",
      "Epoch[6], Iter[1120] Loss: 1.48\n",
      "Epoch[6], Iter[1130] Loss: 1.17\n",
      "Epoch[6], Iter[1140] Loss: 0.66\n",
      "Epoch[6], Iter[1150] Loss: 0.68\n",
      "Epoch[6], Iter[1160] Loss: 1.48\n",
      "Epoch[6], Iter[1170] Loss: 0.80\n",
      "Epoch[6], Iter[1180] Loss: 0.82\n",
      "Epoch[6], Iter[1190] Loss: 0.76\n",
      "Epoch[6], Iter[1200] Loss: 1.51\n",
      "Training Results - Epoch: 6  mIoU: 0.14 Avg loss: 1.26\n",
      "Validation Results - Epoch: 6  mIoU: 0.14 Avg loss: 1.26\n",
      "Epoch[7], Iter[1210] Loss: 1.24\n",
      "Epoch[7], Iter[1220] Loss: 1.54\n",
      "Epoch[7], Iter[1230] Loss: 2.09\n",
      "Epoch[7], Iter[1240] Loss: 1.77\n",
      "Epoch[7], Iter[1250] Loss: 1.73\n",
      "Epoch[7], Iter[1260] Loss: 2.11\n",
      "Epoch[7], Iter[1270] Loss: 1.33\n",
      "Epoch[7], Iter[1280] Loss: 1.48\n",
      "Epoch[7], Iter[1290] Loss: 2.02\n",
      "Epoch[7], Iter[1300] Loss: 1.35\n",
      "Epoch[7], Iter[1310] Loss: 1.45\n",
      "Epoch[7], Iter[1320] Loss: 2.17\n",
      "Epoch[7], Iter[1330] Loss: 1.58\n",
      "Epoch[7], Iter[1340] Loss: 1.50\n",
      "Epoch[7], Iter[1350] Loss: 1.58\n",
      "Epoch[7], Iter[1360] Loss: 2.33\n",
      "Epoch[7], Iter[1370] Loss: 1.43\n",
      "Epoch[7], Iter[1380] Loss: 1.86\n",
      "Epoch[7], Iter[1390] Loss: 1.49\n",
      "Epoch[7], Iter[1400] Loss: 1.29\n"
     ]
    },
    {
     "name": "stderr",
     "output_type": "stream",
     "text": [
      "Engine run is terminating due to exception: \n",
      "Engine run is terminating due to exception: \n"
     ]
    },
    {
     "ename": "KeyboardInterrupt",
     "evalue": "",
     "output_type": "error",
     "traceback": [
      "\u001b[1;31m---------------------------------------------------------------------------\u001b[0m",
      "\u001b[1;31mKeyboardInterrupt\u001b[0m                         Traceback (most recent call last)",
      "\u001b[1;32mf:\\Desarrollo software\\segwork\\notebooks\\ignite.ipynb Cell 29'\u001b[0m in \u001b[0;36m<cell line: 1>\u001b[1;34m()\u001b[0m\n\u001b[1;32m----> <a href='vscode-notebook-cell:/f%3A/Desarrollo%20software/segwork/notebooks/ignite.ipynb#ch0000033?line=0'>1</a>\u001b[0m trainer\u001b[39m.\u001b[39;49mrun(train_loader, max_epochs\u001b[39m=\u001b[39;49mcfg\u001b[39m.\u001b[39;49mTRAIN\u001b[39m.\u001b[39;49mMAX_EPOCHS)\n",
      "File \u001b[1;32mf:\\Desarrollo software\\segwork\\.venv\\lib\\site-packages\\ignite\\engine\\engine.py:704\u001b[0m, in \u001b[0;36mEngine.run\u001b[1;34m(self, data, max_epochs, epoch_length, seed)\u001b[0m\n\u001b[0;32m    <a href='file:///f%3A/Desarrollo%20software/segwork/.venv/lib/site-packages/ignite/engine/engine.py?line=700'>701</a>\u001b[0m         \u001b[39mraise\u001b[39;00m \u001b[39mValueError\u001b[39;00m(\u001b[39m\"\u001b[39m\u001b[39mepoch_length should be provided if data is None\u001b[39m\u001b[39m\"\u001b[39m)\n\u001b[0;32m    <a href='file:///f%3A/Desarrollo%20software/segwork/.venv/lib/site-packages/ignite/engine/engine.py?line=702'>703</a>\u001b[0m \u001b[39mself\u001b[39m\u001b[39m.\u001b[39mstate\u001b[39m.\u001b[39mdataloader \u001b[39m=\u001b[39m data\n\u001b[1;32m--> <a href='file:///f%3A/Desarrollo%20software/segwork/.venv/lib/site-packages/ignite/engine/engine.py?line=703'>704</a>\u001b[0m \u001b[39mreturn\u001b[39;00m \u001b[39mself\u001b[39;49m\u001b[39m.\u001b[39;49m_internal_run()\n",
      "File \u001b[1;32mf:\\Desarrollo software\\segwork\\.venv\\lib\\site-packages\\ignite\\engine\\engine.py:783\u001b[0m, in \u001b[0;36mEngine._internal_run\u001b[1;34m(self)\u001b[0m\n\u001b[0;32m    <a href='file:///f%3A/Desarrollo%20software/segwork/.venv/lib/site-packages/ignite/engine/engine.py?line=780'>781</a>\u001b[0m     \u001b[39mself\u001b[39m\u001b[39m.\u001b[39m_dataloader_iter \u001b[39m=\u001b[39m \u001b[39mNone\u001b[39;00m\n\u001b[0;32m    <a href='file:///f%3A/Desarrollo%20software/segwork/.venv/lib/site-packages/ignite/engine/engine.py?line=781'>782</a>\u001b[0m     \u001b[39mself\u001b[39m\u001b[39m.\u001b[39mlogger\u001b[39m.\u001b[39merror(\u001b[39mf\u001b[39m\u001b[39m\"\u001b[39m\u001b[39mEngine run is terminating due to exception: \u001b[39m\u001b[39m{\u001b[39;00me\u001b[39m}\u001b[39;00m\u001b[39m\"\u001b[39m)\n\u001b[1;32m--> <a href='file:///f%3A/Desarrollo%20software/segwork/.venv/lib/site-packages/ignite/engine/engine.py?line=782'>783</a>\u001b[0m     \u001b[39mself\u001b[39;49m\u001b[39m.\u001b[39;49m_handle_exception(e)\n\u001b[0;32m    <a href='file:///f%3A/Desarrollo%20software/segwork/.venv/lib/site-packages/ignite/engine/engine.py?line=784'>785</a>\u001b[0m \u001b[39mself\u001b[39m\u001b[39m.\u001b[39m_dataloader_iter \u001b[39m=\u001b[39m \u001b[39mNone\u001b[39;00m\n\u001b[0;32m    <a href='file:///f%3A/Desarrollo%20software/segwork/.venv/lib/site-packages/ignite/engine/engine.py?line=785'>786</a>\u001b[0m \u001b[39mreturn\u001b[39;00m \u001b[39mself\u001b[39m\u001b[39m.\u001b[39mstate\n",
      "File \u001b[1;32mf:\\Desarrollo software\\segwork\\.venv\\lib\\site-packages\\ignite\\engine\\engine.py:466\u001b[0m, in \u001b[0;36mEngine._handle_exception\u001b[1;34m(self, e)\u001b[0m\n\u001b[0;32m    <a href='file:///f%3A/Desarrollo%20software/segwork/.venv/lib/site-packages/ignite/engine/engine.py?line=463'>464</a>\u001b[0m     \u001b[39mself\u001b[39m\u001b[39m.\u001b[39m_fire_event(Events\u001b[39m.\u001b[39mEXCEPTION_RAISED, e)\n\u001b[0;32m    <a href='file:///f%3A/Desarrollo%20software/segwork/.venv/lib/site-packages/ignite/engine/engine.py?line=464'>465</a>\u001b[0m \u001b[39melse\u001b[39;00m:\n\u001b[1;32m--> <a href='file:///f%3A/Desarrollo%20software/segwork/.venv/lib/site-packages/ignite/engine/engine.py?line=465'>466</a>\u001b[0m     \u001b[39mraise\u001b[39;00m e\n",
      "File \u001b[1;32mf:\\Desarrollo software\\segwork\\.venv\\lib\\site-packages\\ignite\\engine\\engine.py:760\u001b[0m, in \u001b[0;36mEngine._internal_run\u001b[1;34m(self)\u001b[0m\n\u001b[0;32m    <a href='file:///f%3A/Desarrollo%20software/segwork/.venv/lib/site-packages/ignite/engine/engine.py?line=757'>758</a>\u001b[0m     \u001b[39mself\u001b[39m\u001b[39m.\u001b[39m_fire_event(Events\u001b[39m.\u001b[39mTERMINATE)\n\u001b[0;32m    <a href='file:///f%3A/Desarrollo%20software/segwork/.venv/lib/site-packages/ignite/engine/engine.py?line=758'>759</a>\u001b[0m \u001b[39melse\u001b[39;00m:\n\u001b[1;32m--> <a href='file:///f%3A/Desarrollo%20software/segwork/.venv/lib/site-packages/ignite/engine/engine.py?line=759'>760</a>\u001b[0m     \u001b[39mself\u001b[39;49m\u001b[39m.\u001b[39;49m_fire_event(Events\u001b[39m.\u001b[39;49mEPOCH_COMPLETED)\n\u001b[0;32m    <a href='file:///f%3A/Desarrollo%20software/segwork/.venv/lib/site-packages/ignite/engine/engine.py?line=760'>761</a>\u001b[0m time_taken \u001b[39m+\u001b[39m\u001b[39m=\u001b[39m time\u001b[39m.\u001b[39mtime() \u001b[39m-\u001b[39m handlers_start_time\n\u001b[0;32m    <a href='file:///f%3A/Desarrollo%20software/segwork/.venv/lib/site-packages/ignite/engine/engine.py?line=761'>762</a>\u001b[0m \u001b[39m# update time wrt handlers\u001b[39;00m\n",
      "File \u001b[1;32mf:\\Desarrollo software\\segwork\\.venv\\lib\\site-packages\\ignite\\engine\\engine.py:421\u001b[0m, in \u001b[0;36mEngine._fire_event\u001b[1;34m(self, event_name, *event_args, **event_kwargs)\u001b[0m\n\u001b[0;32m    <a href='file:///f%3A/Desarrollo%20software/segwork/.venv/lib/site-packages/ignite/engine/engine.py?line=418'>419</a>\u001b[0m kwargs\u001b[39m.\u001b[39mupdate(event_kwargs)\n\u001b[0;32m    <a href='file:///f%3A/Desarrollo%20software/segwork/.venv/lib/site-packages/ignite/engine/engine.py?line=419'>420</a>\u001b[0m first, others \u001b[39m=\u001b[39m ((args[\u001b[39m0\u001b[39m],), args[\u001b[39m1\u001b[39m:]) \u001b[39mif\u001b[39;00m (args \u001b[39mand\u001b[39;00m args[\u001b[39m0\u001b[39m] \u001b[39m==\u001b[39m \u001b[39mself\u001b[39m) \u001b[39melse\u001b[39;00m ((), args)\n\u001b[1;32m--> <a href='file:///f%3A/Desarrollo%20software/segwork/.venv/lib/site-packages/ignite/engine/engine.py?line=420'>421</a>\u001b[0m func(\u001b[39m*\u001b[39mfirst, \u001b[39m*\u001b[39m(event_args \u001b[39m+\u001b[39m others), \u001b[39m*\u001b[39m\u001b[39m*\u001b[39mkwargs)\n",
      "\u001b[1;32mf:\\Desarrollo software\\segwork\\notebooks\\ignite.ipynb Cell 27'\u001b[0m in \u001b[0;36mlog_training_results\u001b[1;34m(trainer)\u001b[0m\n\u001b[0;32m      <a href='vscode-notebook-cell:/f%3A/Desarrollo%20software/segwork/notebooks/ignite.ipynb#ch0000031?line=4'>5</a>\u001b[0m \u001b[39m@trainer\u001b[39m\u001b[39m.\u001b[39mon(ign\u001b[39m.\u001b[39mEvents\u001b[39m.\u001b[39mEPOCH_COMPLETED)\n\u001b[0;32m      <a href='vscode-notebook-cell:/f%3A/Desarrollo%20software/segwork/notebooks/ignite.ipynb#ch0000031?line=5'>6</a>\u001b[0m \u001b[39mdef\u001b[39;00m \u001b[39mlog_training_results\u001b[39m(trainer):\n\u001b[1;32m----> <a href='vscode-notebook-cell:/f%3A/Desarrollo%20software/segwork/notebooks/ignite.ipynb#ch0000031?line=6'>7</a>\u001b[0m     evaluator\u001b[39m.\u001b[39;49mrun(train_loader)\n\u001b[0;32m      <a href='vscode-notebook-cell:/f%3A/Desarrollo%20software/segwork/notebooks/ignite.ipynb#ch0000031?line=7'>8</a>\u001b[0m     metrics \u001b[39m=\u001b[39m evaluator\u001b[39m.\u001b[39mstate\u001b[39m.\u001b[39mmetrics\n\u001b[0;32m      <a href='vscode-notebook-cell:/f%3A/Desarrollo%20software/segwork/notebooks/ignite.ipynb#ch0000031?line=8'>9</a>\u001b[0m     \u001b[39mprint\u001b[39m(\u001b[39mf\u001b[39m\u001b[39m\"\u001b[39m\u001b[39mTraining Results - Epoch: \u001b[39m\u001b[39m{\u001b[39;00mtrainer\u001b[39m.\u001b[39mstate\u001b[39m.\u001b[39mepoch\u001b[39m}\u001b[39;00m\u001b[39m  mIoU: \u001b[39m\u001b[39m{\u001b[39;00mmetrics[\u001b[39m'\u001b[39m\u001b[39mmIoU\u001b[39m\u001b[39m'\u001b[39m]\u001b[39m:\u001b[39;00m\u001b[39m.2f\u001b[39m\u001b[39m}\u001b[39;00m\u001b[39m Avg loss: \u001b[39m\u001b[39m{\u001b[39;00mmetrics[\u001b[39m'\u001b[39m\u001b[39mloss\u001b[39m\u001b[39m'\u001b[39m]\u001b[39m:\u001b[39;00m\u001b[39m.2f\u001b[39m\u001b[39m}\u001b[39;00m\u001b[39m\"\u001b[39m)\n",
      "File \u001b[1;32mf:\\Desarrollo software\\segwork\\.venv\\lib\\site-packages\\ignite\\engine\\engine.py:704\u001b[0m, in \u001b[0;36mEngine.run\u001b[1;34m(self, data, max_epochs, epoch_length, seed)\u001b[0m\n\u001b[0;32m    <a href='file:///f%3A/Desarrollo%20software/segwork/.venv/lib/site-packages/ignite/engine/engine.py?line=700'>701</a>\u001b[0m         \u001b[39mraise\u001b[39;00m \u001b[39mValueError\u001b[39;00m(\u001b[39m\"\u001b[39m\u001b[39mepoch_length should be provided if data is None\u001b[39m\u001b[39m\"\u001b[39m)\n\u001b[0;32m    <a href='file:///f%3A/Desarrollo%20software/segwork/.venv/lib/site-packages/ignite/engine/engine.py?line=702'>703</a>\u001b[0m \u001b[39mself\u001b[39m\u001b[39m.\u001b[39mstate\u001b[39m.\u001b[39mdataloader \u001b[39m=\u001b[39m data\n\u001b[1;32m--> <a href='file:///f%3A/Desarrollo%20software/segwork/.venv/lib/site-packages/ignite/engine/engine.py?line=703'>704</a>\u001b[0m \u001b[39mreturn\u001b[39;00m \u001b[39mself\u001b[39;49m\u001b[39m.\u001b[39;49m_internal_run()\n",
      "File \u001b[1;32mf:\\Desarrollo software\\segwork\\.venv\\lib\\site-packages\\ignite\\engine\\engine.py:783\u001b[0m, in \u001b[0;36mEngine._internal_run\u001b[1;34m(self)\u001b[0m\n\u001b[0;32m    <a href='file:///f%3A/Desarrollo%20software/segwork/.venv/lib/site-packages/ignite/engine/engine.py?line=780'>781</a>\u001b[0m     \u001b[39mself\u001b[39m\u001b[39m.\u001b[39m_dataloader_iter \u001b[39m=\u001b[39m \u001b[39mNone\u001b[39;00m\n\u001b[0;32m    <a href='file:///f%3A/Desarrollo%20software/segwork/.venv/lib/site-packages/ignite/engine/engine.py?line=781'>782</a>\u001b[0m     \u001b[39mself\u001b[39m\u001b[39m.\u001b[39mlogger\u001b[39m.\u001b[39merror(\u001b[39mf\u001b[39m\u001b[39m\"\u001b[39m\u001b[39mEngine run is terminating due to exception: \u001b[39m\u001b[39m{\u001b[39;00me\u001b[39m}\u001b[39;00m\u001b[39m\"\u001b[39m)\n\u001b[1;32m--> <a href='file:///f%3A/Desarrollo%20software/segwork/.venv/lib/site-packages/ignite/engine/engine.py?line=782'>783</a>\u001b[0m     \u001b[39mself\u001b[39;49m\u001b[39m.\u001b[39;49m_handle_exception(e)\n\u001b[0;32m    <a href='file:///f%3A/Desarrollo%20software/segwork/.venv/lib/site-packages/ignite/engine/engine.py?line=784'>785</a>\u001b[0m \u001b[39mself\u001b[39m\u001b[39m.\u001b[39m_dataloader_iter \u001b[39m=\u001b[39m \u001b[39mNone\u001b[39;00m\n\u001b[0;32m    <a href='file:///f%3A/Desarrollo%20software/segwork/.venv/lib/site-packages/ignite/engine/engine.py?line=785'>786</a>\u001b[0m \u001b[39mreturn\u001b[39;00m \u001b[39mself\u001b[39m\u001b[39m.\u001b[39mstate\n",
      "File \u001b[1;32mf:\\Desarrollo software\\segwork\\.venv\\lib\\site-packages\\ignite\\engine\\engine.py:466\u001b[0m, in \u001b[0;36mEngine._handle_exception\u001b[1;34m(self, e)\u001b[0m\n\u001b[0;32m    <a href='file:///f%3A/Desarrollo%20software/segwork/.venv/lib/site-packages/ignite/engine/engine.py?line=463'>464</a>\u001b[0m     \u001b[39mself\u001b[39m\u001b[39m.\u001b[39m_fire_event(Events\u001b[39m.\u001b[39mEXCEPTION_RAISED, e)\n\u001b[0;32m    <a href='file:///f%3A/Desarrollo%20software/segwork/.venv/lib/site-packages/ignite/engine/engine.py?line=464'>465</a>\u001b[0m \u001b[39melse\u001b[39;00m:\n\u001b[1;32m--> <a href='file:///f%3A/Desarrollo%20software/segwork/.venv/lib/site-packages/ignite/engine/engine.py?line=465'>466</a>\u001b[0m     \u001b[39mraise\u001b[39;00m e\n",
      "File \u001b[1;32mf:\\Desarrollo software\\segwork\\.venv\\lib\\site-packages\\ignite\\engine\\engine.py:753\u001b[0m, in \u001b[0;36mEngine._internal_run\u001b[1;34m(self)\u001b[0m\n\u001b[0;32m    <a href='file:///f%3A/Desarrollo%20software/segwork/.venv/lib/site-packages/ignite/engine/engine.py?line=749'>750</a>\u001b[0m \u001b[39mif\u001b[39;00m \u001b[39mself\u001b[39m\u001b[39m.\u001b[39m_dataloader_iter \u001b[39mis\u001b[39;00m \u001b[39mNone\u001b[39;00m:\n\u001b[0;32m    <a href='file:///f%3A/Desarrollo%20software/segwork/.venv/lib/site-packages/ignite/engine/engine.py?line=750'>751</a>\u001b[0m     \u001b[39mself\u001b[39m\u001b[39m.\u001b[39m_setup_engine()\n\u001b[1;32m--> <a href='file:///f%3A/Desarrollo%20software/segwork/.venv/lib/site-packages/ignite/engine/engine.py?line=752'>753</a>\u001b[0m time_taken \u001b[39m=\u001b[39m \u001b[39mself\u001b[39;49m\u001b[39m.\u001b[39;49m_run_once_on_dataset()\n\u001b[0;32m    <a href='file:///f%3A/Desarrollo%20software/segwork/.venv/lib/site-packages/ignite/engine/engine.py?line=753'>754</a>\u001b[0m \u001b[39m# time is available for handlers but must be update after fire\u001b[39;00m\n\u001b[0;32m    <a href='file:///f%3A/Desarrollo%20software/segwork/.venv/lib/site-packages/ignite/engine/engine.py?line=754'>755</a>\u001b[0m \u001b[39mself\u001b[39m\u001b[39m.\u001b[39mstate\u001b[39m.\u001b[39mtimes[Events\u001b[39m.\u001b[39mEPOCH_COMPLETED\u001b[39m.\u001b[39mname] \u001b[39m=\u001b[39m time_taken\n",
      "File \u001b[1;32mf:\\Desarrollo software\\segwork\\.venv\\lib\\site-packages\\ignite\\engine\\engine.py:807\u001b[0m, in \u001b[0;36mEngine._run_once_on_dataset\u001b[1;34m(self)\u001b[0m\n\u001b[0;32m    <a href='file:///f%3A/Desarrollo%20software/segwork/.venv/lib/site-packages/ignite/engine/engine.py?line=804'>805</a>\u001b[0m \u001b[39mif\u001b[39;00m \u001b[39mself\u001b[39m\u001b[39m.\u001b[39mlast_event_name \u001b[39m!=\u001b[39m Events\u001b[39m.\u001b[39mDATALOADER_STOP_ITERATION:\n\u001b[0;32m    <a href='file:///f%3A/Desarrollo%20software/segwork/.venv/lib/site-packages/ignite/engine/engine.py?line=805'>806</a>\u001b[0m     \u001b[39mself\u001b[39m\u001b[39m.\u001b[39m_fire_event(Events\u001b[39m.\u001b[39mGET_BATCH_STARTED)\n\u001b[1;32m--> <a href='file:///f%3A/Desarrollo%20software/segwork/.venv/lib/site-packages/ignite/engine/engine.py?line=806'>807</a>\u001b[0m \u001b[39mself\u001b[39m\u001b[39m.\u001b[39mstate\u001b[39m.\u001b[39mbatch \u001b[39m=\u001b[39m \u001b[39mnext\u001b[39;49m(\u001b[39mself\u001b[39;49m\u001b[39m.\u001b[39;49m_dataloader_iter)\n\u001b[0;32m    <a href='file:///f%3A/Desarrollo%20software/segwork/.venv/lib/site-packages/ignite/engine/engine.py?line=807'>808</a>\u001b[0m \u001b[39mself\u001b[39m\u001b[39m.\u001b[39m_fire_event(Events\u001b[39m.\u001b[39mGET_BATCH_COMPLETED)\n\u001b[0;32m    <a href='file:///f%3A/Desarrollo%20software/segwork/.venv/lib/site-packages/ignite/engine/engine.py?line=808'>809</a>\u001b[0m iter_counter \u001b[39m+\u001b[39m\u001b[39m=\u001b[39m \u001b[39m1\u001b[39m\n",
      "File \u001b[1;32mf:\\Desarrollo software\\segwork\\.venv\\lib\\site-packages\\torch\\utils\\data\\dataloader.py:530\u001b[0m, in \u001b[0;36m_BaseDataLoaderIter.__next__\u001b[1;34m(self)\u001b[0m\n\u001b[0;32m    <a href='file:///f%3A/Desarrollo%20software/segwork/.venv/lib/site-packages/torch/utils/data/dataloader.py?line=527'>528</a>\u001b[0m \u001b[39mif\u001b[39;00m \u001b[39mself\u001b[39m\u001b[39m.\u001b[39m_sampler_iter \u001b[39mis\u001b[39;00m \u001b[39mNone\u001b[39;00m:\n\u001b[0;32m    <a href='file:///f%3A/Desarrollo%20software/segwork/.venv/lib/site-packages/torch/utils/data/dataloader.py?line=528'>529</a>\u001b[0m     \u001b[39mself\u001b[39m\u001b[39m.\u001b[39m_reset()\n\u001b[1;32m--> <a href='file:///f%3A/Desarrollo%20software/segwork/.venv/lib/site-packages/torch/utils/data/dataloader.py?line=529'>530</a>\u001b[0m data \u001b[39m=\u001b[39m \u001b[39mself\u001b[39;49m\u001b[39m.\u001b[39;49m_next_data()\n\u001b[0;32m    <a href='file:///f%3A/Desarrollo%20software/segwork/.venv/lib/site-packages/torch/utils/data/dataloader.py?line=530'>531</a>\u001b[0m \u001b[39mself\u001b[39m\u001b[39m.\u001b[39m_num_yielded \u001b[39m+\u001b[39m\u001b[39m=\u001b[39m \u001b[39m1\u001b[39m\n\u001b[0;32m    <a href='file:///f%3A/Desarrollo%20software/segwork/.venv/lib/site-packages/torch/utils/data/dataloader.py?line=531'>532</a>\u001b[0m \u001b[39mif\u001b[39;00m \u001b[39mself\u001b[39m\u001b[39m.\u001b[39m_dataset_kind \u001b[39m==\u001b[39m _DatasetKind\u001b[39m.\u001b[39mIterable \u001b[39mand\u001b[39;00m \\\n\u001b[0;32m    <a href='file:///f%3A/Desarrollo%20software/segwork/.venv/lib/site-packages/torch/utils/data/dataloader.py?line=532'>533</a>\u001b[0m         \u001b[39mself\u001b[39m\u001b[39m.\u001b[39m_IterableDataset_len_called \u001b[39mis\u001b[39;00m \u001b[39mnot\u001b[39;00m \u001b[39mNone\u001b[39;00m \u001b[39mand\u001b[39;00m \\\n\u001b[0;32m    <a href='file:///f%3A/Desarrollo%20software/segwork/.venv/lib/site-packages/torch/utils/data/dataloader.py?line=533'>534</a>\u001b[0m         \u001b[39mself\u001b[39m\u001b[39m.\u001b[39m_num_yielded \u001b[39m>\u001b[39m \u001b[39mself\u001b[39m\u001b[39m.\u001b[39m_IterableDataset_len_called:\n",
      "File \u001b[1;32mf:\\Desarrollo software\\segwork\\.venv\\lib\\site-packages\\torch\\utils\\data\\dataloader.py:570\u001b[0m, in \u001b[0;36m_SingleProcessDataLoaderIter._next_data\u001b[1;34m(self)\u001b[0m\n\u001b[0;32m    <a href='file:///f%3A/Desarrollo%20software/segwork/.venv/lib/site-packages/torch/utils/data/dataloader.py?line=567'>568</a>\u001b[0m \u001b[39mdef\u001b[39;00m \u001b[39m_next_data\u001b[39m(\u001b[39mself\u001b[39m):\n\u001b[0;32m    <a href='file:///f%3A/Desarrollo%20software/segwork/.venv/lib/site-packages/torch/utils/data/dataloader.py?line=568'>569</a>\u001b[0m     index \u001b[39m=\u001b[39m \u001b[39mself\u001b[39m\u001b[39m.\u001b[39m_next_index()  \u001b[39m# may raise StopIteration\u001b[39;00m\n\u001b[1;32m--> <a href='file:///f%3A/Desarrollo%20software/segwork/.venv/lib/site-packages/torch/utils/data/dataloader.py?line=569'>570</a>\u001b[0m     data \u001b[39m=\u001b[39m \u001b[39mself\u001b[39;49m\u001b[39m.\u001b[39;49m_dataset_fetcher\u001b[39m.\u001b[39;49mfetch(index)  \u001b[39m# may raise StopIteration\u001b[39;00m\n\u001b[0;32m    <a href='file:///f%3A/Desarrollo%20software/segwork/.venv/lib/site-packages/torch/utils/data/dataloader.py?line=570'>571</a>\u001b[0m     \u001b[39mif\u001b[39;00m \u001b[39mself\u001b[39m\u001b[39m.\u001b[39m_pin_memory:\n\u001b[0;32m    <a href='file:///f%3A/Desarrollo%20software/segwork/.venv/lib/site-packages/torch/utils/data/dataloader.py?line=571'>572</a>\u001b[0m         data \u001b[39m=\u001b[39m _utils\u001b[39m.\u001b[39mpin_memory\u001b[39m.\u001b[39mpin_memory(data)\n",
      "File \u001b[1;32mf:\\Desarrollo software\\segwork\\.venv\\lib\\site-packages\\torch\\utils\\data\\_utils\\fetch.py:49\u001b[0m, in \u001b[0;36m_MapDatasetFetcher.fetch\u001b[1;34m(self, possibly_batched_index)\u001b[0m\n\u001b[0;32m     <a href='file:///f%3A/Desarrollo%20software/segwork/.venv/lib/site-packages/torch/utils/data/_utils/fetch.py?line=46'>47</a>\u001b[0m \u001b[39mdef\u001b[39;00m \u001b[39mfetch\u001b[39m(\u001b[39mself\u001b[39m, possibly_batched_index):\n\u001b[0;32m     <a href='file:///f%3A/Desarrollo%20software/segwork/.venv/lib/site-packages/torch/utils/data/_utils/fetch.py?line=47'>48</a>\u001b[0m     \u001b[39mif\u001b[39;00m \u001b[39mself\u001b[39m\u001b[39m.\u001b[39mauto_collation:\n\u001b[1;32m---> <a href='file:///f%3A/Desarrollo%20software/segwork/.venv/lib/site-packages/torch/utils/data/_utils/fetch.py?line=48'>49</a>\u001b[0m         data \u001b[39m=\u001b[39m [\u001b[39mself\u001b[39m\u001b[39m.\u001b[39mdataset[idx] \u001b[39mfor\u001b[39;00m idx \u001b[39min\u001b[39;00m possibly_batched_index]\n\u001b[0;32m     <a href='file:///f%3A/Desarrollo%20software/segwork/.venv/lib/site-packages/torch/utils/data/_utils/fetch.py?line=49'>50</a>\u001b[0m     \u001b[39melse\u001b[39;00m:\n\u001b[0;32m     <a href='file:///f%3A/Desarrollo%20software/segwork/.venv/lib/site-packages/torch/utils/data/_utils/fetch.py?line=50'>51</a>\u001b[0m         data \u001b[39m=\u001b[39m \u001b[39mself\u001b[39m\u001b[39m.\u001b[39mdataset[possibly_batched_index]\n",
      "File \u001b[1;32mf:\\Desarrollo software\\segwork\\.venv\\lib\\site-packages\\torch\\utils\\data\\_utils\\fetch.py:49\u001b[0m, in \u001b[0;36m<listcomp>\u001b[1;34m(.0)\u001b[0m\n\u001b[0;32m     <a href='file:///f%3A/Desarrollo%20software/segwork/.venv/lib/site-packages/torch/utils/data/_utils/fetch.py?line=46'>47</a>\u001b[0m \u001b[39mdef\u001b[39;00m \u001b[39mfetch\u001b[39m(\u001b[39mself\u001b[39m, possibly_batched_index):\n\u001b[0;32m     <a href='file:///f%3A/Desarrollo%20software/segwork/.venv/lib/site-packages/torch/utils/data/_utils/fetch.py?line=47'>48</a>\u001b[0m     \u001b[39mif\u001b[39;00m \u001b[39mself\u001b[39m\u001b[39m.\u001b[39mauto_collation:\n\u001b[1;32m---> <a href='file:///f%3A/Desarrollo%20software/segwork/.venv/lib/site-packages/torch/utils/data/_utils/fetch.py?line=48'>49</a>\u001b[0m         data \u001b[39m=\u001b[39m [\u001b[39mself\u001b[39;49m\u001b[39m.\u001b[39;49mdataset[idx] \u001b[39mfor\u001b[39;00m idx \u001b[39min\u001b[39;00m possibly_batched_index]\n\u001b[0;32m     <a href='file:///f%3A/Desarrollo%20software/segwork/.venv/lib/site-packages/torch/utils/data/_utils/fetch.py?line=49'>50</a>\u001b[0m     \u001b[39melse\u001b[39;00m:\n\u001b[0;32m     <a href='file:///f%3A/Desarrollo%20software/segwork/.venv/lib/site-packages/torch/utils/data/_utils/fetch.py?line=50'>51</a>\u001b[0m         data \u001b[39m=\u001b[39m \u001b[39mself\u001b[39m\u001b[39m.\u001b[39mdataset[possibly_batched_index]\n",
      "File \u001b[1;32mf:\\desarrollo software\\segwork\\segwork\\data\\dataset.py:47\u001b[0m, in \u001b[0;36mSegmentationDataset.__getitem__\u001b[1;34m(self, idx)\u001b[0m\n\u001b[0;32m     <a href='file:///f%3A/desarrollo%20software/segwork/segwork/data/dataset.py?line=42'>43</a>\u001b[0m \u001b[39mdef\u001b[39;00m \u001b[39m__getitem__\u001b[39m(\u001b[39mself\u001b[39m, idx:\u001b[39mint\u001b[39m):\n\u001b[0;32m     <a href='file:///f%3A/desarrollo%20software/segwork/segwork/data/dataset.py?line=43'>44</a>\u001b[0m     \u001b[39massert\u001b[39;00m \u001b[39mlen\u001b[39m(\u001b[39mself\u001b[39m\u001b[39m.\u001b[39mimages) \u001b[39m==\u001b[39m \u001b[39mlen\u001b[39m(\u001b[39mself\u001b[39m\u001b[39m.\u001b[39mannotations), \\\n\u001b[0;32m     <a href='file:///f%3A/desarrollo%20software/segwork/segwork/data/dataset.py?line=44'>45</a>\u001b[0m         \u001b[39mf\u001b[39m\u001b[39m'\u001b[39m\u001b[39mDifferent number of images and labels. Images: \u001b[39m\u001b[39m{\u001b[39;00m\u001b[39mlen\u001b[39m(\u001b[39mself\u001b[39m\u001b[39m.\u001b[39mimages)\u001b[39m}\u001b[39;00m\u001b[39m Labels:\u001b[39m\u001b[39m{\u001b[39;00m\u001b[39mself\u001b[39m\u001b[39m.\u001b[39mlabels\u001b[39m}\u001b[39;00m\u001b[39m'\u001b[39m\n\u001b[1;32m---> <a href='file:///f%3A/desarrollo%20software/segwork/segwork/data/dataset.py?line=46'>47</a>\u001b[0m     image \u001b[39m=\u001b[39m \u001b[39mself\u001b[39;49m\u001b[39m.\u001b[39;49mload_image(idx)\n\u001b[0;32m     <a href='file:///f%3A/desarrollo%20software/segwork/segwork/data/dataset.py?line=47'>48</a>\u001b[0m     label \u001b[39m=\u001b[39m \u001b[39mself\u001b[39m\u001b[39m.\u001b[39mload_label(idx)\n\u001b[0;32m     <a href='file:///f%3A/desarrollo%20software/segwork/segwork/data/dataset.py?line=49'>50</a>\u001b[0m     \u001b[39mif\u001b[39;00m \u001b[39mself\u001b[39m\u001b[39m.\u001b[39mtransform:\n",
      "File \u001b[1;32mf:\\desarrollo software\\segwork\\segwork\\data\\drone_dataset.py:41\u001b[0m, in \u001b[0;36mDroneDataset.load_image\u001b[1;34m(self, idx)\u001b[0m\n\u001b[0;32m     <a href='file:///f%3A/desarrollo%20software/segwork/segwork/data/drone_dataset.py?line=39'>40</a>\u001b[0m \u001b[39mdef\u001b[39;00m \u001b[39mload_image\u001b[39m(\u001b[39mself\u001b[39m, idx:\u001b[39mint\u001b[39m):\n\u001b[1;32m---> <a href='file:///f%3A/desarrollo%20software/segwork/segwork/data/drone_dataset.py?line=40'>41</a>\u001b[0m     \u001b[39mreturn\u001b[39;00m Image\u001b[39m.\u001b[39;49mopen(\u001b[39mself\u001b[39;49m\u001b[39m.\u001b[39;49mimages[idx])\u001b[39m.\u001b[39;49mconvert(\u001b[39m\"\u001b[39;49m\u001b[39mRGB\u001b[39;49m\u001b[39m\"\u001b[39;49m)\n",
      "File \u001b[1;32mf:\\Desarrollo software\\segwork\\.venv\\lib\\site-packages\\PIL\\Image.py:889\u001b[0m, in \u001b[0;36mImage.convert\u001b[1;34m(self, mode, matrix, dither, palette, colors)\u001b[0m\n\u001b[0;32m    <a href='file:///f%3A/Desarrollo%20software/segwork/.venv/lib/site-packages/PIL/Image.py?line=846'>847</a>\u001b[0m \u001b[39mdef\u001b[39;00m \u001b[39mconvert\u001b[39m(\u001b[39mself\u001b[39m, mode\u001b[39m=\u001b[39m\u001b[39mNone\u001b[39;00m, matrix\u001b[39m=\u001b[39m\u001b[39mNone\u001b[39;00m, dither\u001b[39m=\u001b[39m\u001b[39mNone\u001b[39;00m, palette\u001b[39m=\u001b[39mWEB, colors\u001b[39m=\u001b[39m\u001b[39m256\u001b[39m):\n\u001b[0;32m    <a href='file:///f%3A/Desarrollo%20software/segwork/.venv/lib/site-packages/PIL/Image.py?line=847'>848</a>\u001b[0m     \u001b[39m\"\"\"\u001b[39;00m\n\u001b[0;32m    <a href='file:///f%3A/Desarrollo%20software/segwork/.venv/lib/site-packages/PIL/Image.py?line=848'>849</a>\u001b[0m \u001b[39m    Returns a converted copy of this image. For the \"P\" mode, this\u001b[39;00m\n\u001b[0;32m    <a href='file:///f%3A/Desarrollo%20software/segwork/.venv/lib/site-packages/PIL/Image.py?line=849'>850</a>\u001b[0m \u001b[39m    method translates pixels through the palette.  If mode is\u001b[39;00m\n\u001b[1;32m   (...)\u001b[0m\n\u001b[0;32m    <a href='file:///f%3A/Desarrollo%20software/segwork/.venv/lib/site-packages/PIL/Image.py?line=885'>886</a>\u001b[0m \u001b[39m    :returns: An :py:class:`~PIL.Image.Image` object.\u001b[39;00m\n\u001b[0;32m    <a href='file:///f%3A/Desarrollo%20software/segwork/.venv/lib/site-packages/PIL/Image.py?line=886'>887</a>\u001b[0m \u001b[39m    \"\"\"\u001b[39;00m\n\u001b[1;32m--> <a href='file:///f%3A/Desarrollo%20software/segwork/.venv/lib/site-packages/PIL/Image.py?line=888'>889</a>\u001b[0m     \u001b[39mself\u001b[39;49m\u001b[39m.\u001b[39;49mload()\n\u001b[0;32m    <a href='file:///f%3A/Desarrollo%20software/segwork/.venv/lib/site-packages/PIL/Image.py?line=890'>891</a>\u001b[0m     has_transparency \u001b[39m=\u001b[39m \u001b[39mself\u001b[39m\u001b[39m.\u001b[39minfo\u001b[39m.\u001b[39mget(\u001b[39m\"\u001b[39m\u001b[39mtransparency\u001b[39m\u001b[39m\"\u001b[39m) \u001b[39mis\u001b[39;00m \u001b[39mnot\u001b[39;00m \u001b[39mNone\u001b[39;00m\n\u001b[0;32m    <a href='file:///f%3A/Desarrollo%20software/segwork/.venv/lib/site-packages/PIL/Image.py?line=891'>892</a>\u001b[0m     \u001b[39mif\u001b[39;00m \u001b[39mnot\u001b[39;00m mode \u001b[39mand\u001b[39;00m \u001b[39mself\u001b[39m\u001b[39m.\u001b[39mmode \u001b[39m==\u001b[39m \u001b[39m\"\u001b[39m\u001b[39mP\u001b[39m\u001b[39m\"\u001b[39m:\n\u001b[0;32m    <a href='file:///f%3A/Desarrollo%20software/segwork/.venv/lib/site-packages/PIL/Image.py?line=892'>893</a>\u001b[0m         \u001b[39m# determine default mode\u001b[39;00m\n",
      "File \u001b[1;32mf:\\Desarrollo software\\segwork\\.venv\\lib\\site-packages\\PIL\\ImageFile.py:253\u001b[0m, in \u001b[0;36mImageFile.load\u001b[1;34m(self)\u001b[0m\n\u001b[0;32m    <a href='file:///f%3A/Desarrollo%20software/segwork/.venv/lib/site-packages/PIL/ImageFile.py?line=246'>247</a>\u001b[0m         \u001b[39mraise\u001b[39;00m \u001b[39mOSError\u001b[39;00m(\n\u001b[0;32m    <a href='file:///f%3A/Desarrollo%20software/segwork/.venv/lib/site-packages/PIL/ImageFile.py?line=247'>248</a>\u001b[0m             \u001b[39m\"\u001b[39m\u001b[39mimage file is truncated \u001b[39m\u001b[39m\"\u001b[39m\n\u001b[0;32m    <a href='file:///f%3A/Desarrollo%20software/segwork/.venv/lib/site-packages/PIL/ImageFile.py?line=248'>249</a>\u001b[0m             \u001b[39mf\u001b[39m\u001b[39m\"\u001b[39m\u001b[39m(\u001b[39m\u001b[39m{\u001b[39;00m\u001b[39mlen\u001b[39m(b)\u001b[39m}\u001b[39;00m\u001b[39m bytes not processed)\u001b[39m\u001b[39m\"\u001b[39m\n\u001b[0;32m    <a href='file:///f%3A/Desarrollo%20software/segwork/.venv/lib/site-packages/PIL/ImageFile.py?line=249'>250</a>\u001b[0m         )\n\u001b[0;32m    <a href='file:///f%3A/Desarrollo%20software/segwork/.venv/lib/site-packages/PIL/ImageFile.py?line=251'>252</a>\u001b[0m b \u001b[39m=\u001b[39m b \u001b[39m+\u001b[39m s\n\u001b[1;32m--> <a href='file:///f%3A/Desarrollo%20software/segwork/.venv/lib/site-packages/PIL/ImageFile.py?line=252'>253</a>\u001b[0m n, err_code \u001b[39m=\u001b[39m decoder\u001b[39m.\u001b[39;49mdecode(b)\n\u001b[0;32m    <a href='file:///f%3A/Desarrollo%20software/segwork/.venv/lib/site-packages/PIL/ImageFile.py?line=253'>254</a>\u001b[0m \u001b[39mif\u001b[39;00m n \u001b[39m<\u001b[39m \u001b[39m0\u001b[39m:\n\u001b[0;32m    <a href='file:///f%3A/Desarrollo%20software/segwork/.venv/lib/site-packages/PIL/ImageFile.py?line=254'>255</a>\u001b[0m     \u001b[39mbreak\u001b[39;00m\n",
      "\u001b[1;31mKeyboardInterrupt\u001b[0m: "
     ]
    }
   ],
   "source": [
    "trainer.run(train_loader, max_epochs=cfg.TRAIN.MAX_EPOCHS)"
   ]
  },
  {
   "cell_type": "code",
   "execution_count": 21,
   "metadata": {},
   "outputs": [
    {
     "ename": "AttributeError",
     "evalue": "module 'ignite.engine.utils' has no attribute 'setup_logger'",
     "output_type": "error",
     "traceback": [
      "\u001b[1;31m---------------------------------------------------------------------------\u001b[0m",
      "\u001b[1;31mAttributeError\u001b[0m                            Traceback (most recent call last)",
      "\u001b[1;32mf:\\Desarrollo software\\segwork\\notebooks\\ignite.ipynb Cell 30'\u001b[0m in \u001b[0;36m<cell line: 1>\u001b[1;34m()\u001b[0m\n\u001b[1;32m----> <a href='vscode-notebook-cell:/f%3A/Desarrollo%20software/segwork/notebooks/ignite.ipynb#ch0000037?line=0'>1</a>\u001b[0m logger \u001b[39m=\u001b[39m ign\u001b[39m.\u001b[39;49mutils\u001b[39m.\u001b[39;49msetup_logger()\n",
      "\u001b[1;31mAttributeError\u001b[0m: module 'ignite.engine.utils' has no attribute 'setup_logger'"
     ]
    }
   ],
   "source": [
    "logger = ign.utils.setup_logger()"
   ]
  },
  {
   "cell_type": "code",
   "execution_count": 21,
   "metadata": {},
   "outputs": [],
   "source": [
    "cm = ign.metrics.ConfusionMatrix(num_classes=20)"
   ]
  },
  {
   "cell_type": "code",
   "execution_count": 39,
   "metadata": {},
   "outputs": [],
   "source": []
  },
  {
   "cell_type": "code",
   "execution_count": 43,
   "metadata": {},
   "outputs": [
    {
     "ename": "ValueError",
     "evalue": "y_pred does not have correct number of classes: 256 vs 20",
     "output_type": "error",
     "traceback": [
      "\u001b[1;31m---------------------------------------------------------------------------\u001b[0m",
      "\u001b[1;31mValueError\u001b[0m                                Traceback (most recent call last)",
      "\u001b[1;32mf:\\Desarrollo software\\segwork\\notebooks\\ignite.ipynb Cell 40'\u001b[0m in \u001b[0;36m<cell line: 1>\u001b[1;34m()\u001b[0m\n\u001b[1;32m----> <a href='vscode-notebook-cell:/f%3A/Desarrollo%20software/segwork/notebooks/ignite.ipynb#ch0000040?line=0'>1</a>\u001b[0m cm\u001b[39m.\u001b[39;49mupdate((label, label2))\n",
      "File \u001b[1;32mf:\\Desarrollo software\\segwork\\.venv\\lib\\site-packages\\ignite\\metrics\\metric.py:596\u001b[0m, in \u001b[0;36mreinit__is_reduced.<locals>.wrapper\u001b[1;34m(self, *args, **kwargs)\u001b[0m\n\u001b[0;32m    <a href='file:///f%3A/Desarrollo%20software/segwork/.venv/lib/site-packages/ignite/metrics/metric.py?line=593'>594</a>\u001b[0m \u001b[39m@wraps\u001b[39m(func)\n\u001b[0;32m    <a href='file:///f%3A/Desarrollo%20software/segwork/.venv/lib/site-packages/ignite/metrics/metric.py?line=594'>595</a>\u001b[0m \u001b[39mdef\u001b[39;00m \u001b[39mwrapper\u001b[39m(\u001b[39mself\u001b[39m: Metric, \u001b[39m*\u001b[39margs: Any, \u001b[39m*\u001b[39m\u001b[39m*\u001b[39mkwargs: Any) \u001b[39m-\u001b[39m\u001b[39m>\u001b[39m \u001b[39mNone\u001b[39;00m:\n\u001b[1;32m--> <a href='file:///f%3A/Desarrollo%20software/segwork/.venv/lib/site-packages/ignite/metrics/metric.py?line=595'>596</a>\u001b[0m     func(\u001b[39mself\u001b[39m, \u001b[39m*\u001b[39margs, \u001b[39m*\u001b[39m\u001b[39m*\u001b[39mkwargs)\n\u001b[0;32m    <a href='file:///f%3A/Desarrollo%20software/segwork/.venv/lib/site-packages/ignite/metrics/metric.py?line=596'>597</a>\u001b[0m     \u001b[39mself\u001b[39m\u001b[39m.\u001b[39m_is_reduced \u001b[39m=\u001b[39m \u001b[39mFalse\u001b[39;00m\n",
      "File \u001b[1;32mf:\\Desarrollo software\\segwork\\.venv\\lib\\site-packages\\ignite\\metrics\\confusion_matrix.py:155\u001b[0m, in \u001b[0;36mConfusionMatrix.update\u001b[1;34m(self, output)\u001b[0m\n\u001b[0;32m    <a href='file:///f%3A/Desarrollo%20software/segwork/.venv/lib/site-packages/ignite/metrics/confusion_matrix.py?line=152'>153</a>\u001b[0m \u001b[39m@reinit__is_reduced\u001b[39m\n\u001b[0;32m    <a href='file:///f%3A/Desarrollo%20software/segwork/.venv/lib/site-packages/ignite/metrics/confusion_matrix.py?line=153'>154</a>\u001b[0m \u001b[39mdef\u001b[39;00m \u001b[39mupdate\u001b[39m(\u001b[39mself\u001b[39m, output: Sequence[torch\u001b[39m.\u001b[39mTensor]) \u001b[39m-\u001b[39m\u001b[39m>\u001b[39m \u001b[39mNone\u001b[39;00m:\n\u001b[1;32m--> <a href='file:///f%3A/Desarrollo%20software/segwork/.venv/lib/site-packages/ignite/metrics/confusion_matrix.py?line=154'>155</a>\u001b[0m     \u001b[39mself\u001b[39;49m\u001b[39m.\u001b[39;49m_check_shape(output)\n\u001b[0;32m    <a href='file:///f%3A/Desarrollo%20software/segwork/.venv/lib/site-packages/ignite/metrics/confusion_matrix.py?line=155'>156</a>\u001b[0m     y_pred, y \u001b[39m=\u001b[39m output[\u001b[39m0\u001b[39m]\u001b[39m.\u001b[39mdetach(), output[\u001b[39m1\u001b[39m]\u001b[39m.\u001b[39mdetach()\n\u001b[0;32m    <a href='file:///f%3A/Desarrollo%20software/segwork/.venv/lib/site-packages/ignite/metrics/confusion_matrix.py?line=157'>158</a>\u001b[0m     \u001b[39mself\u001b[39m\u001b[39m.\u001b[39m_num_examples \u001b[39m+\u001b[39m\u001b[39m=\u001b[39m y_pred\u001b[39m.\u001b[39mshape[\u001b[39m0\u001b[39m]\n",
      "File \u001b[1;32mf:\\Desarrollo software\\segwork\\.venv\\lib\\site-packages\\ignite\\metrics\\confusion_matrix.py:135\u001b[0m, in \u001b[0;36mConfusionMatrix._check_shape\u001b[1;34m(self, output)\u001b[0m\n\u001b[0;32m    <a href='file:///f%3A/Desarrollo%20software/segwork/.venv/lib/site-packages/ignite/metrics/confusion_matrix.py?line=128'>129</a>\u001b[0m     \u001b[39mraise\u001b[39;00m \u001b[39mValueError\u001b[39;00m(\n\u001b[0;32m    <a href='file:///f%3A/Desarrollo%20software/segwork/.venv/lib/site-packages/ignite/metrics/confusion_matrix.py?line=129'>130</a>\u001b[0m         \u001b[39mf\u001b[39m\u001b[39m\"\u001b[39m\u001b[39my_pred must have shape (batch_size, num_classes (currently set to \u001b[39m\u001b[39m{\u001b[39;00m\u001b[39mself\u001b[39m\u001b[39m.\u001b[39mnum_classes\u001b[39m}\u001b[39;00m\u001b[39m), ...), \u001b[39m\u001b[39m\"\u001b[39m\n\u001b[0;32m    <a href='file:///f%3A/Desarrollo%20software/segwork/.venv/lib/site-packages/ignite/metrics/confusion_matrix.py?line=130'>131</a>\u001b[0m         \u001b[39mf\u001b[39m\u001b[39m\"\u001b[39m\u001b[39mbut given \u001b[39m\u001b[39m{\u001b[39;00my_pred\u001b[39m.\u001b[39mshape\u001b[39m}\u001b[39;00m\u001b[39m\"\u001b[39m\n\u001b[0;32m    <a href='file:///f%3A/Desarrollo%20software/segwork/.venv/lib/site-packages/ignite/metrics/confusion_matrix.py?line=131'>132</a>\u001b[0m     )\n\u001b[0;32m    <a href='file:///f%3A/Desarrollo%20software/segwork/.venv/lib/site-packages/ignite/metrics/confusion_matrix.py?line=133'>134</a>\u001b[0m \u001b[39mif\u001b[39;00m y_pred\u001b[39m.\u001b[39mshape[\u001b[39m1\u001b[39m] \u001b[39m!=\u001b[39m \u001b[39mself\u001b[39m\u001b[39m.\u001b[39mnum_classes:\n\u001b[1;32m--> <a href='file:///f%3A/Desarrollo%20software/segwork/.venv/lib/site-packages/ignite/metrics/confusion_matrix.py?line=134'>135</a>\u001b[0m     \u001b[39mraise\u001b[39;00m \u001b[39mValueError\u001b[39;00m(\u001b[39mf\u001b[39m\u001b[39m\"\u001b[39m\u001b[39my_pred does not have correct number of classes: \u001b[39m\u001b[39m{\u001b[39;00my_pred\u001b[39m.\u001b[39mshape[\u001b[39m1\u001b[39m]\u001b[39m}\u001b[39;00m\u001b[39m vs \u001b[39m\u001b[39m{\u001b[39;00m\u001b[39mself\u001b[39m\u001b[39m.\u001b[39mnum_classes\u001b[39m}\u001b[39;00m\u001b[39m\"\u001b[39m)\n\u001b[0;32m    <a href='file:///f%3A/Desarrollo%20software/segwork/.venv/lib/site-packages/ignite/metrics/confusion_matrix.py?line=136'>137</a>\u001b[0m \u001b[39mif\u001b[39;00m \u001b[39mnot\u001b[39;00m (y\u001b[39m.\u001b[39mndimension() \u001b[39m+\u001b[39m \u001b[39m1\u001b[39m \u001b[39m==\u001b[39m y_pred\u001b[39m.\u001b[39mndimension()):\n\u001b[0;32m    <a href='file:///f%3A/Desarrollo%20software/segwork/.venv/lib/site-packages/ignite/metrics/confusion_matrix.py?line=137'>138</a>\u001b[0m     \u001b[39mraise\u001b[39;00m \u001b[39mValueError\u001b[39;00m(\n\u001b[0;32m    <a href='file:///f%3A/Desarrollo%20software/segwork/.venv/lib/site-packages/ignite/metrics/confusion_matrix.py?line=138'>139</a>\u001b[0m         \u001b[39mf\u001b[39m\u001b[39m\"\u001b[39m\u001b[39my_pred must have shape (batch_size, num_classes (currently set to \u001b[39m\u001b[39m{\u001b[39;00m\u001b[39mself\u001b[39m\u001b[39m.\u001b[39mnum_classes\u001b[39m}\u001b[39;00m\u001b[39m), ...) \u001b[39m\u001b[39m\"\u001b[39m\n\u001b[0;32m    <a href='file:///f%3A/Desarrollo%20software/segwork/.venv/lib/site-packages/ignite/metrics/confusion_matrix.py?line=139'>140</a>\u001b[0m         \u001b[39m\"\u001b[39m\u001b[39mand y must have shape of (batch_size, ...), \u001b[39m\u001b[39m\"\u001b[39m\n\u001b[0;32m    <a href='file:///f%3A/Desarrollo%20software/segwork/.venv/lib/site-packages/ignite/metrics/confusion_matrix.py?line=140'>141</a>\u001b[0m         \u001b[39mf\u001b[39m\u001b[39m\"\u001b[39m\u001b[39mbut given \u001b[39m\u001b[39m{\u001b[39;00my\u001b[39m.\u001b[39mshape\u001b[39m}\u001b[39;00m\u001b[39m vs \u001b[39m\u001b[39m{\u001b[39;00my_pred\u001b[39m.\u001b[39mshape\u001b[39m}\u001b[39;00m\u001b[39m.\u001b[39m\u001b[39m\"\u001b[39m\n\u001b[0;32m    <a href='file:///f%3A/Desarrollo%20software/segwork/.venv/lib/site-packages/ignite/metrics/confusion_matrix.py?line=141'>142</a>\u001b[0m     )\n",
      "\u001b[1;31mValueError\u001b[0m: y_pred does not have correct number of classes: 256 vs 20"
     ]
    }
   ],
   "source": [
    "cm.update((label, label2))"
   ]
  }
 ],
 "metadata": {
  "interpreter": {
   "hash": "f915bd14e41f75defdaded59260e23886f79ad3e68b01e8dfe9aedb79f73e220"
  },
  "kernelspec": {
   "display_name": "Python 3.9.9 ('.venv': venv)",
   "language": "python",
   "name": "python3"
  },
  "language_info": {
   "codemirror_mode": {
    "name": "ipython",
    "version": 3
   },
   "file_extension": ".py",
   "mimetype": "text/x-python",
   "name": "python",
   "nbconvert_exporter": "python",
   "pygments_lexer": "ipython3",
   "version": "3.9.9"
  },
  "orig_nbformat": 4
 },
 "nbformat": 4,
 "nbformat_minor": 2
}
