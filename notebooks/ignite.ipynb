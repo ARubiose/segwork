{
 "cells": [
  {
   "cell_type": "code",
   "execution_count": 159,
   "metadata": {},
   "outputs": [
    {
     "name": "stdout",
     "output_type": "stream",
     "text": [
      "torch.Size([3, 1])\n",
      "tensor([[ 4, 19, 13,  0],\n",
      "        [ 3, 19,  7,  3],\n",
      "        [17,  3,  1,  6],\n",
      "        [16, 19, 18, 16]], dtype=torch.uint8)\n",
      "tensor([[[156, 108, 254, 198],\n",
      "         [221,  44, 236, 209],\n",
      "         [179, 206, 109,  59],\n",
      "         [249, 150, 136, 192]],\n",
      "\n",
      "        [[173, 135, 130, 225],\n",
      "         [ 67, 104, 101, 103],\n",
      "         [143, 123, 226,   4],\n",
      "         [ 16, 227, 238,  25]],\n",
      "\n",
      "        [[ 47,  61, 115, 149],\n",
      "         [173,  31,  26, 185],\n",
      "         [ 23, 196, 206,  47],\n",
      "         [139,  91, 243, 129]]], dtype=torch.uint8)\n",
      "tensor([[249, 192],\n",
      "        [ 16,  25],\n",
      "        [139, 129]], dtype=torch.uint8)\n"
     ]
    },
    {
     "data": {
      "text/plain": [
       "tensor([[[156, 108, 254, 198],\n",
       "         [221,  44, 236, 209],\n",
       "         [179, 206, 109,  59],\n",
       "         [  3, 150, 136,   3]],\n",
       "\n",
       "        [[173, 135, 130, 225],\n",
       "         [ 67, 104, 101, 103],\n",
       "         [143, 123, 226,   4],\n",
       "         [  4, 227, 238,   4]],\n",
       "\n",
       "        [[ 47,  61, 115, 149],\n",
       "         [173,  31,  26, 185],\n",
       "         [ 23, 196, 206,  47],\n",
       "         [  5,  91, 243,   5]]], dtype=torch.uint8)"
      ]
     },
     "execution_count": 159,
     "metadata": {},
     "output_type": "execute_result"
    }
   ],
   "source": [
    "import torch\n",
    "torch.manual_seed(0)\n",
    "\n",
    "dtype = torch.uint8\n",
    "h, w = (4,4)\n",
    "rgb = (3,4,9)\n",
    "label = torch.randint(high=20, size=(h,w), dtype=dtype)\n",
    "color = torch.tensor(rgb, dtype=dtype).unsqueeze(1)\n",
    "print(color.size())\n",
    "idx = 16\n",
    "print(label)\n",
    "\n",
    "color_mask = torch.randint(high=255, size=(3,h,w), dtype=dtype)\n",
    "print(color_mask)\n",
    "\n",
    "validx = label == torch.tensor((idx), dtype=dtype)\n",
    "# validx = validx.repeat(3,1,1)\n",
    "# print('Validx', validx)\n",
    "\n",
    "print(color_mask[:, validx])\n",
    "color_mask[:, validx] = color\n",
    "# selected_values = color_mask[validx]\n",
    "# print('Selected_values', selected_values)\n",
    "\n",
    "color_mask\n",
    "# print(selected_values)\n",
    "# print(validx.dtype)\n",
    "\n",
    "# selected_values = color\n",
    "# print(selected_values)\n",
    "# color_mask"
   ]
  },
  {
   "cell_type": "code",
   "execution_count": 121,
   "metadata": {},
   "outputs": [
    {
     "data": {
      "text/plain": [
       "tensor([[[0.5023, 1.0234, 1.3719, 0.9549, 0.8926],\n",
       "         [0.9254, 0.5992, 1.2001, 0.2866, 0.6278],\n",
       "         [1.0996, 1.1748, 1.2150, 0.6607, 1.2522],\n",
       "         [1.5924, 1.4105, 1.3366, 1.5906, 1.2740],\n",
       "         [1.0309, 0.3776, 1.1572, 1.1933, 1.1658]],\n",
       "\n",
       "        [[0.9555, 1.1448, 0.9743, 0.3217, 0.8711],\n",
       "         [0.2774, 0.4277, 1.5511, 1.0544, 0.4756],\n",
       "         [1.4515, 0.8644, 0.9316, 0.7280, 1.2935],\n",
       "         [1.0218, 1.6569, 1.5704, 1.8326, 1.1508],\n",
       "         [0.0560, 0.4386, 1.5901, 1.1014, 0.3614]],\n",
       "\n",
       "        [[0.2325, 1.1740, 1.2117, 0.5384, 0.6992],\n",
       "         [0.1139, 0.8847, 0.7303, 0.2886, 0.9468],\n",
       "         [1.4330, 0.7438, 1.3106, 0.6526, 1.5549],\n",
       "         [1.6606, 1.0520, 1.1931, 1.4973, 1.0368],\n",
       "         [0.6694, 0.9592, 1.3704, 0.7528, 0.9881]]])"
      ]
     },
     "execution_count": 121,
     "metadata": {},
     "output_type": "execute_result"
    }
   ],
   "source": [
    "x = torch.rand((3,5,5))\n",
    "y = torch.rand((1,5,5))"
   ]
  }
 ],
 "metadata": {
  "interpreter": {
   "hash": "f915bd14e41f75defdaded59260e23886f79ad3e68b01e8dfe9aedb79f73e220"
  },
  "kernelspec": {
   "display_name": "Python 3.9.9 ('.venv': venv)",
   "language": "python",
   "name": "python3"
  },
  "language_info": {
   "name": "python",
   "version": "3.9.9"
  },
  "orig_nbformat": 4
 },
 "nbformat": 4,
 "nbformat_minor": 2
}
