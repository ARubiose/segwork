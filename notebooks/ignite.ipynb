{
 "cells": [
  {
   "cell_type": "markdown",
   "metadata": {},
   "source": [
    "### Training a Network with Ignite"
   ]
  },
  {
   "cell_type": "code",
   "execution_count": 1,
   "metadata": {},
   "outputs": [],
   "source": [
    "import os\n",
    "ROOT_PATH = os.path.abspath(os.pardir)\n",
    "\n",
    "import torchvision\n",
    "import torchvision.transforms.transforms as T\n",
    "\n",
    "import torch\n",
    "import torch.nn as nn\n",
    "from torch.utils.data  import DataLoader\n",
    "\n",
    "import ignite\n",
    "import ignite.engine as ign\n",
    "import ignite.metrics as igm\n",
    "\n",
    "import segmentation_models_pytorch as smp\n",
    "\n",
    "from segwork.config.config import get_experiment_cfg\n",
    "from segwork.data import DroneDataset, ToTensor\n",
    "from segwork.registry import ConfigurableRegistry\n",
    "from segwork.registry import models_reg"
   ]
  },
  {
   "cell_type": "markdown",
   "metadata": {},
   "source": [
    "#### Read configuration"
   ]
  },
  {
   "cell_type": "code",
   "execution_count": 8,
   "metadata": {},
   "outputs": [
    {
     "data": {
      "text/plain": [
       "{'NAME': 'ExperimentoA',\n",
       " 'DATASET': CfgNode({'KEY': 'drone', 'KEY_VAL': 'drone', 'TRANSFORM': CfgNode({'TRANSFORM': 'transformationA', 'TRANSFORM_ARGS': CfgNode({'height': 1000, 'width': 1024}), 'TARGET_TRANSFORM': 'transformationA', 'TARGET_TRANSFORM_ARGS': CfgNode({'height': 256, 'width': 512})})}),\n",
       " 'DATALOADER': CfgNode({'BATCH_SIZE': 2, 'VAL_BATCH_SIZE': 2, 'WORKERS': 0}),\n",
       " 'MODEL': CfgNode({'KEY': 'unet', 'ARGS': CfgNode({'encoder_name': 'resnet34', 'classes': 24}), 'DEVICE': 'cuda'}),\n",
       " 'OPTIM': CfgNode({'KEY': 'sgd', 'ARGS': CfgNode({'lr': 0.1, 'momentum': 0.9}), 'LOSS': CfgNode({'KEY': 'crossentropyloss', 'ARGS': CfgNode({})})}),\n",
       " 'LOGGER': CfgNode({'LOG_INTERVAL': 10}),\n",
       " 'TRAIN': CfgNode({'MAX_EPOCHS': 100}),\n",
       " 'VALIDATION': CfgNode({'METRICS_KEYS': ['loss'], 'ARGS': CfgNode({'accuracy': CfgNode({})})})}"
      ]
     },
     "execution_count": 8,
     "metadata": {},
     "output_type": "execute_result"
    }
   ],
   "source": [
    "experiment_name = 'ExperimentA'\n",
    "dir_path = os.path.join(ROOT_PATH, 'config')\n",
    "file_path = os.path.join(dir_path, f'{experiment_name}.yaml')\n",
    "\n",
    "cfg = get_experiment_cfg(file_path)\n",
    "dict(cfg)\n"
   ]
  },
  {
   "cell_type": "code",
   "execution_count": 3,
   "metadata": {},
   "outputs": [
    {
     "name": "stdout",
     "output_type": "stream",
     "text": [
      "Config file for experiment: ExperimentoA\n"
     ]
    }
   ],
   "source": [
    "# Configuration file\n",
    "print(f\"Config file for experiment: {cfg.get('NAME', None)}\")"
   ]
  },
  {
   "cell_type": "markdown",
   "metadata": {},
   "source": [
    "#### Data pipeline\n",
    "Define modular components.\n",
    "Components can be added when they are defined or later."
   ]
  },
  {
   "cell_type": "code",
   "execution_count": 3,
   "metadata": {},
   "outputs": [],
   "source": [
    "data_cfg = cfg.DATASET\n",
    "\n",
    "dataset_reg = ConfigurableRegistry(\n",
    "    class_key='dataset',\n",
    "    unique = True,\n",
    "    additional_args=['transform', 'target_transform'],\n",
    "    initial_registry=dict(\n",
    "\n",
    "        # Aerial drone dataset\n",
    "        drone = dict(\n",
    "            dataset = DroneDataset,\n",
    "            _default_kwargs = dict(\n",
    "                root = os.path.join(ROOT_PATH, 'data', 'semantic_drone_dataset'),\n",
    "                pil_target = False,\n",
    "                transform = T.ToTensor(),\n",
    "                target_transform = T.ToTensor()\n",
    "            )\n",
    "        ), \n",
    "    ),\n",
    ")"
   ]
  },
  {
   "cell_type": "code",
   "execution_count": 4,
   "metadata": {},
   "outputs": [],
   "source": [
    "dataset_reg['voc'] = dict(\n",
    "    dataset = torchvision.datasets.VOCSegmentation,\n",
    "    _default_kwargs = dict(\n",
    "        root = os.path.join(ROOT_PATH, 'data', 'PASCALVOC'),\n",
    "        transform = nn.Sequential(ToTensor(), T.Resize(size=(288, 512)))\n",
    "        \n",
    "    )\n",
    ")"
   ]
  },
  {
   "cell_type": "code",
   "execution_count": 32,
   "metadata": {},
   "outputs": [
    {
     "data": {
      "text/plain": [
       "{'dataset': torchvision.datasets.voc.VOCSegmentation,\n",
       " '_default_kwargs': {'root': 'f:\\\\Desarrollo software\\\\segwork\\\\data\\\\PASCALVOC',\n",
       "  'transform': Sequential(\n",
       "    (0): ToTensor()\n",
       "    (1): Resize(size=(288, 512), interpolation=bilinear, max_size=None, antialias=None)\n",
       "  )}}"
      ]
     },
     "execution_count": 32,
     "metadata": {},
     "output_type": "execute_result"
    }
   ],
   "source": [
    "dataset_reg['voc']"
   ]
  },
  {
   "cell_type": "markdown",
   "metadata": {},
   "source": [
    "No additional modular components"
   ]
  },
  {
   "cell_type": "code",
   "execution_count": 33,
   "metadata": {},
   "outputs": [
    {
     "name": "stdout",
     "output_type": "stream",
     "text": [
      "Image has type: <class 'torch.Tensor'>. With size torch.Size([3, 4000, 6000])\n",
      "Label has type: <class 'torch.Tensor'>. With size torch.Size([1, 4000, 6000])\n"
     ]
    }
   ],
   "source": [
    "\n",
    "train_dataset = dataset_reg.get_instance(data_cfg.KEY)\n",
    "val_dataset = dataset_reg.get_instance(data_cfg.KEY_VAL)\n",
    "\n",
    "img, label = train_dataset[0]\n",
    "print(f'Image has type: {type(img)}. With size {img.size()}')\n",
    "print(f'Label has type: {type(label)}. With size {label.size()}')\n"
   ]
  },
  {
   "cell_type": "markdown",
   "metadata": {},
   "source": [
    "With different transformations. Define your transformation repository."
   ]
  },
  {
   "cell_type": "code",
   "execution_count": 5,
   "metadata": {},
   "outputs": [],
   "source": [
    "transformation_reg = ConfigurableRegistry(\n",
    "    class_key='transformation',\n",
    "    unique = True,\n",
    "    initial_registry=dict(\n",
    "\n",
    "        # Basic transformation\n",
    "        totensor = dict(\n",
    "            transformation = ToTensor,\n",
    "        ), \n",
    "    )\n",
    ")"
   ]
  },
  {
   "cell_type": "code",
   "execution_count": 6,
   "metadata": {},
   "outputs": [],
   "source": [
    "@transformation_reg.register\n",
    "class Transformation_A(nn.Sequential):\n",
    "    \"\"\"Transformation composed by ToTensor and Resize\"\"\"\n",
    "\n",
    "    _register_name = 'transformationA'\n",
    "\n",
    "    _default_kwargs = {\n",
    "        \"height\" : 256,\n",
    "        \"width\" : 512\n",
    "    }\n",
    "\n",
    "    def __init__(self, height:int, width:int):\n",
    "        super().__init__()\n",
    "        self.size = (height, width)\n",
    "        self.add_module('totensor', ToTensor())\n",
    "        self.add_module('resize', T.Resize(size=self.size))"
   ]
  },
  {
   "cell_type": "code",
   "execution_count": 36,
   "metadata": {},
   "outputs": [
    {
     "data": {
      "text/plain": [
       "ConfigurableRegistry\n",
       "\tattr_name: _register_name\n",
       "\tunique: True\n",
       "\tNumber of registered classes: 2 \n",
       "\tRegistered classes: ['totensor', 'transformationA']\n",
       "\tClass key: transformation\n",
       "\tAttribute args: _default_args\n",
       "\tAttribute kwargs: _default_kwargs\n",
       "\tAdditional info from attributes: []"
      ]
     },
     "execution_count": 36,
     "metadata": {},
     "output_type": "execute_result"
    }
   ],
   "source": [
    "transformation_reg"
   ]
  },
  {
   "cell_type": "code",
   "execution_count": 9,
   "metadata": {},
   "outputs": [
    {
     "name": "stdout",
     "output_type": "stream",
     "text": [
      "Image has type: <class 'torch.Tensor'>. With size torch.Size([3, 1000, 1024])\n",
      "Label has type: <class 'torch.Tensor'>. With size torch.Size([1, 256, 512])\n"
     ]
    }
   ],
   "source": [
    "transform_cfg = cfg.DATASET.TRANSFORM\n",
    "\n",
    "transform = transformation_reg.get_instance(transform_cfg.TRANSFORM, **transform_cfg.TRANSFORM_ARGS) \n",
    "target_transform = transformation_reg.get_instance(transform_cfg.TARGET_TRANSFORM, **transform_cfg.TARGET_TRANSFORM_ARGS)\n",
    "\n",
    "train_dataset = dataset_reg.get_instance(data_cfg.KEY, transform=transform, target_transform=target_transform)\n",
    "val_dataset = dataset_reg.get_instance(data_cfg.KEY)\n",
    "\n",
    "img, label = train_dataset[0]\n",
    "print(f'Image has type: {type(img)}. With size {img.size()}')\n",
    "print(f'Label has type: {type(label)}. With size {label.size()}')"
   ]
  },
  {
   "cell_type": "code",
   "execution_count": 12,
   "metadata": {},
   "outputs": [
    {
     "data": {
      "text/plain": [
       "Dataset DroneDataset\n",
       "    Number of datapoints: 400\n",
       "    Root location: f:\\Desarrollo software\\segwork\\data\\semantic_drone_dataset\n",
       "    StandardTransform\n",
       "Transform: Transformation_A(\n",
       "             (totensor): ToTensor()\n",
       "             (resize): Resize(size=(256, 512), interpolation=bilinear, max_size=None, antialias=None)\n",
       "           )\n",
       "Target transform: Transformation_A(\n",
       "                    (totensor): ToTensor()\n",
       "                    (resize): Resize(size=(256, 512), interpolation=bilinear, max_size=None, antialias=None)\n",
       "                  )"
      ]
     },
     "execution_count": 12,
     "metadata": {},
     "output_type": "execute_result"
    }
   ],
   "source": [
    "train_dataset"
   ]
  },
  {
   "cell_type": "code",
   "execution_count": 15,
   "metadata": {},
   "outputs": [],
   "source": [
    "dataloader_cfg = cfg.DATALOADER\n",
    "\n",
    "# Parameters can be passed through this method **cfg.DATALOADER.ARGS\n",
    "def get_data_loaders(batch_size:int, val_batch_size:int, num_workers:int, *args, **kwargs):\n",
    "    train_loader = DataLoader(train_dataset, batch_size=batch_size, num_workers=num_workers, *args, **kwargs)\n",
    "    val_loader = DataLoader(val_dataset, batch_size=val_batch_size, num_workers=num_workers)\n",
    "    return (train_loader, val_loader)\n"
   ]
  },
  {
   "cell_type": "markdown",
   "metadata": {},
   "source": [
    "#### Define other registers for modular components\n",
    "When you want to test other component, just add it to the initial registry or use the decorator when defining the class"
   ]
  },
  {
   "cell_type": "code",
   "execution_count": 10,
   "metadata": {},
   "outputs": [],
   "source": [
    "metrics_reg = ConfigurableRegistry(\n",
    "    class_key='metric',\n",
    "    unique = True,\n",
    "    initial_registry=dict(\n",
    "\n",
    "        # Accuracy class from Ignite\n",
    "        accuracy = dict(\n",
    "            metric = igm.Accuracy,\n",
    "        ), \n",
    "        \n",
    "        # Other metrics...\n",
    "    ),\n",
    ")"
   ]
  },
  {
   "cell_type": "code",
   "execution_count": 11,
   "metadata": {},
   "outputs": [],
   "source": [
    "loss_reg = ConfigurableRegistry(\n",
    "    class_key='loss',\n",
    "    unique = True,\n",
    "    initial_registry=dict(\n",
    "\n",
    "        # Loss from ignite\n",
    "        crossentropyloss = dict(\n",
    "            loss = torch.nn.CrossEntropyLoss,\n",
    "        ),\n",
    "        \n",
    "        # Dice loss from smp\n",
    "        diceloss = dict(\n",
    "            loss = smp.losses.DiceLoss,\n",
    "            _default_kwargs = {\n",
    "                \"mode\" : 'multiclass'\n",
    "            }\n",
    "        ), \n",
    "    ),\n",
    ")"
   ]
  },
  {
   "cell_type": "code",
   "execution_count": 17,
   "metadata": {},
   "outputs": [],
   "source": [
    "loss_reg['loss']"
   ]
  },
  {
   "cell_type": "code",
   "execution_count": 13,
   "metadata": {},
   "outputs": [],
   "source": [
    "optim_reg = ConfigurableRegistry(\n",
    "    class_key='algorithm',\n",
    "    unique = True,\n",
    "    additional_args=['required_args'],\n",
    "    initial_registry=dict(\n",
    "        \n",
    "        sgd = dict(\n",
    "            algorithm = torch.optim.SGD,\n",
    "            _default_kwargs = {\n",
    "                \"lr\" : 0.01,\n",
    "                \"momentum\" : 0.9\n",
    "            },\n",
    "            required_args = ['Model parameters']\n",
    "        ), \n",
    "    ),\n",
    ")"
   ]
  },
  {
   "cell_type": "markdown",
   "metadata": {},
   "source": [
    "#### Training step"
   ]
  },
  {
   "cell_type": "markdown",
   "metadata": {},
   "source": [
    "##### Basic supervised training"
   ]
  },
  {
   "cell_type": "code",
   "execution_count": 18,
   "metadata": {},
   "outputs": [],
   "source": [
    "def run():\n",
    "\n",
    "     # Get dataloaders\n",
    "     print(f'Getting dataloaders...')\n",
    "     train_loader, val_loader = get_data_loaders(\n",
    "          batch_size=dataloader_cfg.BATCH_SIZE, \n",
    "          val_batch_size=dataloader_cfg.VAL_BATCH_SIZE,\n",
    "          num_workers=dataloader_cfg.WORKERS)\n",
    "\n",
    "     # Get model and place it in device\n",
    "     print(f'Getting model...')\n",
    "     model = models_reg.get_instance(cfg.MODEL.KEY, **cfg.MODEL.ARGS)\n",
    "     model.to(cfg.MODEL.DEVICE)\n",
    "\n",
    "     # Optimizer - Can be easily include in a custom registry\n",
    "     print(f'Getting optimizer and loss function...')\n",
    "     optimizer = optim_reg.get_instance(cfg.OPTIM.KEY, model.parameters(), **cfg.OPTIM.ARGS)\n",
    "     criterion = loss_reg.get_instance(cfg.OPTIM.LOSS.KEY, **cfg.OPTIM.LOSS.ARGS)\n",
    "\n",
    "     # TRAINER AND EVALUATOR\n",
    "     print(f'Getting trainer...')\n",
    "     trainer = ign.create_supervised_trainer(model, optimizer, criterion, device=cfg.MODEL.DEVICE)\n",
    "\n",
    "     print(f'Getting validation metrics...')\n",
    "     val_metrics = dict()\n",
    "     for metric in cfg.VALIDATION.METRICS_KEYS:\n",
    "          val_metrics.update( metric = metrics_reg.get_instance(metric, **cfg.VALIDATION.ARGS[metric]))\n",
    "     \n",
    "     print(f'Getting evaluators...')\n",
    "     train_evaluator = ign.create_supervised_evaluator(\n",
    "     model, metrics=val_metrics, device=cfg.MODEL.DEVICE\n",
    "     )\n",
    "     val_evaluator = ign.create_supervised_evaluator(\n",
    "     model, metrics=val_metrics, device=cfg.MODEL.DEVICE\n",
    "     )\n",
    "\n",
    "     # Log results\n",
    "     print(f'Setting events...')\n",
    "     _set_events(trainer, train_evaluator, train_loader, val_loader, cfg.LOGGER.LOG_INTERVAL)\n",
    "     trainer.run(train_loader, max_epochs=cfg.TRAIN.MAX_EPOCHS)"
   ]
  },
  {
   "cell_type": "code",
   "execution_count": 19,
   "metadata": {},
   "outputs": [],
   "source": [
    "def _set_events(trainer:ign.Engine, evaluator:ign.Engine, train_loader:DataLoader, val_loader:DataLoader, log_interval:int):\n",
    "    @trainer.on(ign.Events.ITERATION_COMPLETED(every=log_interval))\n",
    "    def log_training_loss(trainer):\n",
    "        print(f\"Epoch[{trainer.state.epoch}] Loss: {trainer.state.output:.2f}\")\n",
    "\n",
    "    @trainer.on(ign.Events.EPOCH_COMPLETED)\n",
    "    def log_training_results(trainer):\n",
    "        evaluator.run(train_loader)\n",
    "        metrics = evaluator.state.metrics\n",
    "        print(f\"Training Results - Epoch: {trainer.state.epoch}  Avg accuracy: {metrics['accuracy']:.2f} Avg loss: {metrics['loss']:.2f}\")\n",
    "\n",
    "    @trainer.on(ign.Events.EPOCH_COMPLETED)\n",
    "    def log_validation_results(trainer):\n",
    "        evaluator.run(val_loader)\n",
    "        metrics = evaluator.state.metrics\n",
    "        print(f\"Validation Results - Epoch: {trainer.state.epoch}  Avg accuracy: {metrics['accuracy']:.2f} Avg loss: {metrics['loss']:.2f}\")"
   ]
  },
  {
   "cell_type": "code",
   "execution_count": 22,
   "metadata": {},
   "outputs": [],
   "source": [
    "# def main():\n",
    "#     run()\n",
    "\n",
    "# main()"
   ]
  },
  {
   "cell_type": "markdown",
   "metadata": {},
   "source": [
    "##### Training step - Custom"
   ]
  },
  {
   "cell_type": "code",
   "execution_count": 16,
   "metadata": {},
   "outputs": [
    {
     "name": "stdout",
     "output_type": "stream",
     "text": [
      "Getting model...\n",
      "Moving model to cuda...\n",
      "Getting data loaders...\n",
      "Getting optimizer and loss function...\n",
      "Getting validation metrics...\n"
     ]
    },
    {
     "ename": "KeyError",
     "evalue": "'loss'",
     "output_type": "error",
     "traceback": [
      "\u001b[1;31m---------------------------------------------------------------------------\u001b[0m",
      "\u001b[1;31mKeyError\u001b[0m                                  Traceback (most recent call last)",
      "\u001b[1;32mf:\\Desarrollo software\\segwork\\notebooks\\ignite.ipynb Cell 30'\u001b[0m in \u001b[0;36m<cell line: 21>\u001b[1;34m()\u001b[0m\n\u001b[0;32m     <a href='vscode-notebook-cell:/f%3A/Desarrollo%20software/segwork/notebooks/ignite.ipynb#ch0000029?line=19'>20</a>\u001b[0m val_metrics \u001b[39m=\u001b[39m \u001b[39mdict\u001b[39m()\n\u001b[0;32m     <a href='vscode-notebook-cell:/f%3A/Desarrollo%20software/segwork/notebooks/ignite.ipynb#ch0000029?line=20'>21</a>\u001b[0m \u001b[39mfor\u001b[39;00m metric \u001b[39min\u001b[39;00m cfg\u001b[39m.\u001b[39mVALIDATION\u001b[39m.\u001b[39mMETRICS_KEYS:\n\u001b[1;32m---> <a href='vscode-notebook-cell:/f%3A/Desarrollo%20software/segwork/notebooks/ignite.ipynb#ch0000029?line=21'>22</a>\u001b[0m     val_metrics\u001b[39m.\u001b[39mupdate( metric \u001b[39m=\u001b[39m metrics_reg\u001b[39m.\u001b[39mget_instance(metric, \u001b[39m*\u001b[39m\u001b[39m*\u001b[39mcfg\u001b[39m.\u001b[39;49mVALIDATION\u001b[39m.\u001b[39;49mARGS[metric]))\n",
      "\u001b[1;31mKeyError\u001b[0m: 'loss'"
     ]
    }
   ],
   "source": [
    "# Get model and place it in device\n",
    "print(f'Getting model...')\n",
    "model = models_reg.get_instance(cfg.MODEL.KEY, **cfg.MODEL.ARGS)\n",
    "device = cfg.MODEL.DEVICE\n",
    "print(f'Moving model to {device}...')\n",
    "model.to(device)\n",
    "\n",
    "# Data loaders\n",
    "print(f'Getting data loaders...')\n",
    "train_loader = DataLoader(train_dataset, batch_size=dataloader_cfg.BATCH_SIZE, num_workers=dataloader_cfg.WORKERS)\n",
    "val_loader = DataLoader(val_dataset, batch_size=dataloader_cfg.VAL_BATCH_SIZE)\n",
    "\n",
    "# Optimizer - Can be easily include in a custom registry\n",
    "print(f'Getting optimizer and loss function...')\n",
    "optimizer = optim_reg.get_instance(cfg.OPTIM.KEY, model.parameters(), **cfg.OPTIM.ARGS)\n",
    "criterion = loss_reg.get_instance(cfg.OPTIM.LOSS.KEY, **cfg.OPTIM.LOSS.ARGS)\n",
    "\n",
    "# Val metrics\n",
    "print(f'Getting validation metrics...')\n",
    "val_metrics = dict()\n",
    "for metric in cfg.VALIDATION.METRICS_KEYS:\n",
    "    val_metrics.update( metric = metrics_reg.get_instance(metric, **cfg.VALIDATION.ARGS[metric]))"
   ]
  },
  {
   "cell_type": "code",
   "execution_count": 24,
   "metadata": {},
   "outputs": [],
   "source": [
    "def train_step(engine, batch):\n",
    "    model.train()\n",
    "    optimizer.zero_grad()\n",
    "    x, y = batch[0].to(device), batch[1].to(device)\n",
    "    y_pred = model(x)\n",
    "    y = y.squeeze(1).long() # Minimum change\n",
    "    loss = criterion(y_pred, y)\n",
    "    loss.backward()\n",
    "    optimizer.step()\n",
    "    return loss.item()\n",
    "\n",
    "trainer = ign.Engine(train_step)\n",
    "\n",
    "def validation_step(engine, batch):\n",
    "    model.eval()\n",
    "    with torch.no_grad():\n",
    "        x, y = batch[0].to(device), batch[1].to(device)\n",
    "        y_pred = model(x)\n",
    "        y = y.squeeze(1).long()\n",
    "        return y_pred, y\n",
    "\n",
    "evaluator = ign.Engine(validation_step)\n",
    "\n",
    "# Attach metrics to the evaluators\n",
    "for name, metric in val_metrics.items():\n",
    "    metric.attach(evaluator, name)\n",
    "\n",
    "for name, metric in val_metrics.items():\n",
    "    metric.attach(evaluator, name)"
   ]
  },
  {
   "cell_type": "code",
   "execution_count": 25,
   "metadata": {},
   "outputs": [],
   "source": [
    "@trainer.on(ign.Events.ITERATION_COMPLETED(every=cfg.LOGGER.LOG_INTERVAL))\n",
    "def log_training_loss(engine):\n",
    "    print(f\"Epoch[{engine.state.epoch}], Iter[{engine.state.iteration}] Loss: {engine.state.output:.2f}\")\n",
    "\n",
    "@trainer.on(ign.Events.EPOCH_COMPLETED)\n",
    "def log_training_results(trainer):\n",
    "    evaluator.run(train_loader)\n",
    "    metrics = evaluator.state.metrics\n",
    "    print(f\"Training Results - Epoch: {trainer.state.epoch}  Avg accuracy: {metrics['accuracy']:.2f} Avg loss: {metrics['loss']:.2f}\")\n",
    "\n",
    "@trainer.on(ign.Events.EPOCH_COMPLETED)\n",
    "def log_validation_results(trainer):\n",
    "    evaluator.run(val_loader)\n",
    "    metrics = evaluator.state.metrics\n",
    "    print(f\"Validation Results - Epoch: {trainer.state.epoch}  Avg accuracy: {metrics['accuracy']:.2f} Avg loss: {metrics['loss']:.2f}\")"
   ]
  },
  {
   "cell_type": "code",
   "execution_count": 26,
   "metadata": {},
   "outputs": [
    {
     "data": {
      "text/plain": [
       "<ignite.engine.events.RemovableEventHandle at 0x2aa68a0fa00>"
      ]
     },
     "execution_count": 26,
     "metadata": {},
     "output_type": "execute_result"
    }
   ],
   "source": [
    "# Score function to return current value of any metric we defined above in val_metrics\n",
    "def score_function(engine):\n",
    "    return engine.state.metrics[\"accuracy\"]\n",
    "\n",
    "# Checkpoint to store n_saved best models wrt score function\n",
    "model_checkpoint = ignite.handlers.ModelCheckpoint(\n",
    "    \"checkpoint\",\n",
    "    n_saved=2,\n",
    "    filename_prefix=\"best\",\n",
    "    score_function=score_function,\n",
    "    score_name=\"accuracy\",\n",
    "    global_step_transform=ignite.handlers.global_step_from_engine(trainer), # helps fetch the trainer's state\n",
    ")\n",
    "  \n",
    "# Save the model after every epoch of val_evaluator is completed\n",
    "evaluator.add_event_handler(ign.Events.COMPLETED, model_checkpoint, {\"model\": model})"
   ]
  },
  {
   "cell_type": "code",
   "execution_count": 27,
   "metadata": {},
   "outputs": [
    {
     "name": "stdout",
     "output_type": "stream",
     "text": [
      "Epoch[1], Iter[10] Loss: 1.71\n",
      "Epoch[1], Iter[20] Loss: 1.86\n",
      "Epoch[1], Iter[30] Loss: 1.34\n",
      "Epoch[1], Iter[40] Loss: 1.41\n",
      "Epoch[1], Iter[50] Loss: 1.52\n",
      "Epoch[1], Iter[60] Loss: 1.31\n",
      "Epoch[1], Iter[70] Loss: 1.00\n",
      "Epoch[1], Iter[80] Loss: 1.12\n",
      "Epoch[1], Iter[90] Loss: 1.26\n",
      "Epoch[1], Iter[100] Loss: 1.12\n",
      "Epoch[1], Iter[110] Loss: 0.96\n",
      "Epoch[1], Iter[120] Loss: 0.97\n",
      "Epoch[1], Iter[130] Loss: 0.94\n",
      "Epoch[1], Iter[140] Loss: 0.54\n",
      "Epoch[1], Iter[150] Loss: 0.96\n",
      "Epoch[1], Iter[160] Loss: 2.01\n",
      "Epoch[1], Iter[170] Loss: 0.96\n",
      "Epoch[1], Iter[180] Loss: 0.65\n",
      "Epoch[1], Iter[190] Loss: 0.75\n",
      "Epoch[1], Iter[200] Loss: 2.27\n"
     ]
    },
    {
     "name": "stderr",
     "output_type": "stream",
     "text": [
      "Current run is terminating due to exception: y and y_pred must have compatible shapes.\n",
      "Engine run is terminating due to exception: y and y_pred must have compatible shapes.\n",
      "Engine run is terminating due to exception: y and y_pred must have compatible shapes.\n"
     ]
    },
    {
     "ename": "ValueError",
     "evalue": "y and y_pred must have compatible shapes.",
     "output_type": "error",
     "traceback": [
      "\u001b[1;31m---------------------------------------------------------------------------\u001b[0m",
      "\u001b[1;31mValueError\u001b[0m                                Traceback (most recent call last)",
      "\u001b[1;32mf:\\Desarrollo software\\segwork\\notebooks\\ignite.ipynb Cell 34'\u001b[0m in \u001b[0;36m<cell line: 1>\u001b[1;34m()\u001b[0m\n\u001b[1;32m----> <a href='vscode-notebook-cell:/f%3A/Desarrollo%20software/segwork/notebooks/ignite.ipynb#ch0000033?line=0'>1</a>\u001b[0m trainer\u001b[39m.\u001b[39;49mrun(train_loader, max_epochs\u001b[39m=\u001b[39;49mcfg\u001b[39m.\u001b[39;49mTRAIN\u001b[39m.\u001b[39;49mMAX_EPOCHS)\n",
      "File \u001b[1;32mf:\\Desarrollo software\\segwork\\.venv\\lib\\site-packages\\ignite\\engine\\engine.py:704\u001b[0m, in \u001b[0;36mEngine.run\u001b[1;34m(self, data, max_epochs, epoch_length, seed)\u001b[0m\n\u001b[0;32m    <a href='file:///f%3A/Desarrollo%20software/segwork/.venv/lib/site-packages/ignite/engine/engine.py?line=700'>701</a>\u001b[0m         \u001b[39mraise\u001b[39;00m \u001b[39mValueError\u001b[39;00m(\u001b[39m\"\u001b[39m\u001b[39mepoch_length should be provided if data is None\u001b[39m\u001b[39m\"\u001b[39m)\n\u001b[0;32m    <a href='file:///f%3A/Desarrollo%20software/segwork/.venv/lib/site-packages/ignite/engine/engine.py?line=702'>703</a>\u001b[0m \u001b[39mself\u001b[39m\u001b[39m.\u001b[39mstate\u001b[39m.\u001b[39mdataloader \u001b[39m=\u001b[39m data\n\u001b[1;32m--> <a href='file:///f%3A/Desarrollo%20software/segwork/.venv/lib/site-packages/ignite/engine/engine.py?line=703'>704</a>\u001b[0m \u001b[39mreturn\u001b[39;00m \u001b[39mself\u001b[39;49m\u001b[39m.\u001b[39;49m_internal_run()\n",
      "File \u001b[1;32mf:\\Desarrollo software\\segwork\\.venv\\lib\\site-packages\\ignite\\engine\\engine.py:783\u001b[0m, in \u001b[0;36mEngine._internal_run\u001b[1;34m(self)\u001b[0m\n\u001b[0;32m    <a href='file:///f%3A/Desarrollo%20software/segwork/.venv/lib/site-packages/ignite/engine/engine.py?line=780'>781</a>\u001b[0m     \u001b[39mself\u001b[39m\u001b[39m.\u001b[39m_dataloader_iter \u001b[39m=\u001b[39m \u001b[39mNone\u001b[39;00m\n\u001b[0;32m    <a href='file:///f%3A/Desarrollo%20software/segwork/.venv/lib/site-packages/ignite/engine/engine.py?line=781'>782</a>\u001b[0m     \u001b[39mself\u001b[39m\u001b[39m.\u001b[39mlogger\u001b[39m.\u001b[39merror(\u001b[39mf\u001b[39m\u001b[39m\"\u001b[39m\u001b[39mEngine run is terminating due to exception: \u001b[39m\u001b[39m{\u001b[39;00me\u001b[39m}\u001b[39;00m\u001b[39m\"\u001b[39m)\n\u001b[1;32m--> <a href='file:///f%3A/Desarrollo%20software/segwork/.venv/lib/site-packages/ignite/engine/engine.py?line=782'>783</a>\u001b[0m     \u001b[39mself\u001b[39;49m\u001b[39m.\u001b[39;49m_handle_exception(e)\n\u001b[0;32m    <a href='file:///f%3A/Desarrollo%20software/segwork/.venv/lib/site-packages/ignite/engine/engine.py?line=784'>785</a>\u001b[0m \u001b[39mself\u001b[39m\u001b[39m.\u001b[39m_dataloader_iter \u001b[39m=\u001b[39m \u001b[39mNone\u001b[39;00m\n\u001b[0;32m    <a href='file:///f%3A/Desarrollo%20software/segwork/.venv/lib/site-packages/ignite/engine/engine.py?line=785'>786</a>\u001b[0m \u001b[39mreturn\u001b[39;00m \u001b[39mself\u001b[39m\u001b[39m.\u001b[39mstate\n",
      "File \u001b[1;32mf:\\Desarrollo software\\segwork\\.venv\\lib\\site-packages\\ignite\\engine\\engine.py:466\u001b[0m, in \u001b[0;36mEngine._handle_exception\u001b[1;34m(self, e)\u001b[0m\n\u001b[0;32m    <a href='file:///f%3A/Desarrollo%20software/segwork/.venv/lib/site-packages/ignite/engine/engine.py?line=463'>464</a>\u001b[0m     \u001b[39mself\u001b[39m\u001b[39m.\u001b[39m_fire_event(Events\u001b[39m.\u001b[39mEXCEPTION_RAISED, e)\n\u001b[0;32m    <a href='file:///f%3A/Desarrollo%20software/segwork/.venv/lib/site-packages/ignite/engine/engine.py?line=464'>465</a>\u001b[0m \u001b[39melse\u001b[39;00m:\n\u001b[1;32m--> <a href='file:///f%3A/Desarrollo%20software/segwork/.venv/lib/site-packages/ignite/engine/engine.py?line=465'>466</a>\u001b[0m     \u001b[39mraise\u001b[39;00m e\n",
      "File \u001b[1;32mf:\\Desarrollo software\\segwork\\.venv\\lib\\site-packages\\ignite\\engine\\engine.py:760\u001b[0m, in \u001b[0;36mEngine._internal_run\u001b[1;34m(self)\u001b[0m\n\u001b[0;32m    <a href='file:///f%3A/Desarrollo%20software/segwork/.venv/lib/site-packages/ignite/engine/engine.py?line=757'>758</a>\u001b[0m     \u001b[39mself\u001b[39m\u001b[39m.\u001b[39m_fire_event(Events\u001b[39m.\u001b[39mTERMINATE)\n\u001b[0;32m    <a href='file:///f%3A/Desarrollo%20software/segwork/.venv/lib/site-packages/ignite/engine/engine.py?line=758'>759</a>\u001b[0m \u001b[39melse\u001b[39;00m:\n\u001b[1;32m--> <a href='file:///f%3A/Desarrollo%20software/segwork/.venv/lib/site-packages/ignite/engine/engine.py?line=759'>760</a>\u001b[0m     \u001b[39mself\u001b[39;49m\u001b[39m.\u001b[39;49m_fire_event(Events\u001b[39m.\u001b[39;49mEPOCH_COMPLETED)\n\u001b[0;32m    <a href='file:///f%3A/Desarrollo%20software/segwork/.venv/lib/site-packages/ignite/engine/engine.py?line=760'>761</a>\u001b[0m time_taken \u001b[39m+\u001b[39m\u001b[39m=\u001b[39m time\u001b[39m.\u001b[39mtime() \u001b[39m-\u001b[39m handlers_start_time\n\u001b[0;32m    <a href='file:///f%3A/Desarrollo%20software/segwork/.venv/lib/site-packages/ignite/engine/engine.py?line=761'>762</a>\u001b[0m \u001b[39m# update time wrt handlers\u001b[39;00m\n",
      "File \u001b[1;32mf:\\Desarrollo software\\segwork\\.venv\\lib\\site-packages\\ignite\\engine\\engine.py:421\u001b[0m, in \u001b[0;36mEngine._fire_event\u001b[1;34m(self, event_name, *event_args, **event_kwargs)\u001b[0m\n\u001b[0;32m    <a href='file:///f%3A/Desarrollo%20software/segwork/.venv/lib/site-packages/ignite/engine/engine.py?line=418'>419</a>\u001b[0m kwargs\u001b[39m.\u001b[39mupdate(event_kwargs)\n\u001b[0;32m    <a href='file:///f%3A/Desarrollo%20software/segwork/.venv/lib/site-packages/ignite/engine/engine.py?line=419'>420</a>\u001b[0m first, others \u001b[39m=\u001b[39m ((args[\u001b[39m0\u001b[39m],), args[\u001b[39m1\u001b[39m:]) \u001b[39mif\u001b[39;00m (args \u001b[39mand\u001b[39;00m args[\u001b[39m0\u001b[39m] \u001b[39m==\u001b[39m \u001b[39mself\u001b[39m) \u001b[39melse\u001b[39;00m ((), args)\n\u001b[1;32m--> <a href='file:///f%3A/Desarrollo%20software/segwork/.venv/lib/site-packages/ignite/engine/engine.py?line=420'>421</a>\u001b[0m func(\u001b[39m*\u001b[39mfirst, \u001b[39m*\u001b[39m(event_args \u001b[39m+\u001b[39m others), \u001b[39m*\u001b[39m\u001b[39m*\u001b[39mkwargs)\n",
      "\u001b[1;32mf:\\Desarrollo software\\segwork\\notebooks\\ignite.ipynb Cell 32'\u001b[0m in \u001b[0;36mlog_training_results\u001b[1;34m(trainer)\u001b[0m\n\u001b[0;32m      <a href='vscode-notebook-cell:/f%3A/Desarrollo%20software/segwork/notebooks/ignite.ipynb#ch0000031?line=4'>5</a>\u001b[0m \u001b[39m@trainer\u001b[39m\u001b[39m.\u001b[39mon(ign\u001b[39m.\u001b[39mEvents\u001b[39m.\u001b[39mEPOCH_COMPLETED)\n\u001b[0;32m      <a href='vscode-notebook-cell:/f%3A/Desarrollo%20software/segwork/notebooks/ignite.ipynb#ch0000031?line=5'>6</a>\u001b[0m \u001b[39mdef\u001b[39;00m \u001b[39mlog_training_results\u001b[39m(trainer):\n\u001b[1;32m----> <a href='vscode-notebook-cell:/f%3A/Desarrollo%20software/segwork/notebooks/ignite.ipynb#ch0000031?line=6'>7</a>\u001b[0m     evaluator\u001b[39m.\u001b[39;49mrun(train_loader)\n\u001b[0;32m      <a href='vscode-notebook-cell:/f%3A/Desarrollo%20software/segwork/notebooks/ignite.ipynb#ch0000031?line=7'>8</a>\u001b[0m     metrics \u001b[39m=\u001b[39m evaluator\u001b[39m.\u001b[39mstate\u001b[39m.\u001b[39mmetrics\n\u001b[0;32m      <a href='vscode-notebook-cell:/f%3A/Desarrollo%20software/segwork/notebooks/ignite.ipynb#ch0000031?line=8'>9</a>\u001b[0m     \u001b[39mprint\u001b[39m(\u001b[39mf\u001b[39m\u001b[39m\"\u001b[39m\u001b[39mTraining Results - Epoch: \u001b[39m\u001b[39m{\u001b[39;00mtrainer\u001b[39m.\u001b[39mstate\u001b[39m.\u001b[39mepoch\u001b[39m}\u001b[39;00m\u001b[39m  Avg accuracy: \u001b[39m\u001b[39m{\u001b[39;00mmetrics[\u001b[39m'\u001b[39m\u001b[39maccuracy\u001b[39m\u001b[39m'\u001b[39m]\u001b[39m:\u001b[39;00m\u001b[39m.2f\u001b[39m\u001b[39m}\u001b[39;00m\u001b[39m Avg loss: \u001b[39m\u001b[39m{\u001b[39;00mmetrics[\u001b[39m'\u001b[39m\u001b[39mloss\u001b[39m\u001b[39m'\u001b[39m]\u001b[39m:\u001b[39;00m\u001b[39m.2f\u001b[39m\u001b[39m}\u001b[39;00m\u001b[39m\"\u001b[39m)\n",
      "File \u001b[1;32mf:\\Desarrollo software\\segwork\\.venv\\lib\\site-packages\\ignite\\engine\\engine.py:704\u001b[0m, in \u001b[0;36mEngine.run\u001b[1;34m(self, data, max_epochs, epoch_length, seed)\u001b[0m\n\u001b[0;32m    <a href='file:///f%3A/Desarrollo%20software/segwork/.venv/lib/site-packages/ignite/engine/engine.py?line=700'>701</a>\u001b[0m         \u001b[39mraise\u001b[39;00m \u001b[39mValueError\u001b[39;00m(\u001b[39m\"\u001b[39m\u001b[39mepoch_length should be provided if data is None\u001b[39m\u001b[39m\"\u001b[39m)\n\u001b[0;32m    <a href='file:///f%3A/Desarrollo%20software/segwork/.venv/lib/site-packages/ignite/engine/engine.py?line=702'>703</a>\u001b[0m \u001b[39mself\u001b[39m\u001b[39m.\u001b[39mstate\u001b[39m.\u001b[39mdataloader \u001b[39m=\u001b[39m data\n\u001b[1;32m--> <a href='file:///f%3A/Desarrollo%20software/segwork/.venv/lib/site-packages/ignite/engine/engine.py?line=703'>704</a>\u001b[0m \u001b[39mreturn\u001b[39;00m \u001b[39mself\u001b[39;49m\u001b[39m.\u001b[39;49m_internal_run()\n",
      "File \u001b[1;32mf:\\Desarrollo software\\segwork\\.venv\\lib\\site-packages\\ignite\\engine\\engine.py:783\u001b[0m, in \u001b[0;36mEngine._internal_run\u001b[1;34m(self)\u001b[0m\n\u001b[0;32m    <a href='file:///f%3A/Desarrollo%20software/segwork/.venv/lib/site-packages/ignite/engine/engine.py?line=780'>781</a>\u001b[0m     \u001b[39mself\u001b[39m\u001b[39m.\u001b[39m_dataloader_iter \u001b[39m=\u001b[39m \u001b[39mNone\u001b[39;00m\n\u001b[0;32m    <a href='file:///f%3A/Desarrollo%20software/segwork/.venv/lib/site-packages/ignite/engine/engine.py?line=781'>782</a>\u001b[0m     \u001b[39mself\u001b[39m\u001b[39m.\u001b[39mlogger\u001b[39m.\u001b[39merror(\u001b[39mf\u001b[39m\u001b[39m\"\u001b[39m\u001b[39mEngine run is terminating due to exception: \u001b[39m\u001b[39m{\u001b[39;00me\u001b[39m}\u001b[39;00m\u001b[39m\"\u001b[39m)\n\u001b[1;32m--> <a href='file:///f%3A/Desarrollo%20software/segwork/.venv/lib/site-packages/ignite/engine/engine.py?line=782'>783</a>\u001b[0m     \u001b[39mself\u001b[39;49m\u001b[39m.\u001b[39;49m_handle_exception(e)\n\u001b[0;32m    <a href='file:///f%3A/Desarrollo%20software/segwork/.venv/lib/site-packages/ignite/engine/engine.py?line=784'>785</a>\u001b[0m \u001b[39mself\u001b[39m\u001b[39m.\u001b[39m_dataloader_iter \u001b[39m=\u001b[39m \u001b[39mNone\u001b[39;00m\n\u001b[0;32m    <a href='file:///f%3A/Desarrollo%20software/segwork/.venv/lib/site-packages/ignite/engine/engine.py?line=785'>786</a>\u001b[0m \u001b[39mreturn\u001b[39;00m \u001b[39mself\u001b[39m\u001b[39m.\u001b[39mstate\n",
      "File \u001b[1;32mf:\\Desarrollo software\\segwork\\.venv\\lib\\site-packages\\ignite\\engine\\engine.py:466\u001b[0m, in \u001b[0;36mEngine._handle_exception\u001b[1;34m(self, e)\u001b[0m\n\u001b[0;32m    <a href='file:///f%3A/Desarrollo%20software/segwork/.venv/lib/site-packages/ignite/engine/engine.py?line=463'>464</a>\u001b[0m     \u001b[39mself\u001b[39m\u001b[39m.\u001b[39m_fire_event(Events\u001b[39m.\u001b[39mEXCEPTION_RAISED, e)\n\u001b[0;32m    <a href='file:///f%3A/Desarrollo%20software/segwork/.venv/lib/site-packages/ignite/engine/engine.py?line=464'>465</a>\u001b[0m \u001b[39melse\u001b[39;00m:\n\u001b[1;32m--> <a href='file:///f%3A/Desarrollo%20software/segwork/.venv/lib/site-packages/ignite/engine/engine.py?line=465'>466</a>\u001b[0m     \u001b[39mraise\u001b[39;00m e\n",
      "File \u001b[1;32mf:\\Desarrollo software\\segwork\\.venv\\lib\\site-packages\\ignite\\engine\\engine.py:753\u001b[0m, in \u001b[0;36mEngine._internal_run\u001b[1;34m(self)\u001b[0m\n\u001b[0;32m    <a href='file:///f%3A/Desarrollo%20software/segwork/.venv/lib/site-packages/ignite/engine/engine.py?line=749'>750</a>\u001b[0m \u001b[39mif\u001b[39;00m \u001b[39mself\u001b[39m\u001b[39m.\u001b[39m_dataloader_iter \u001b[39mis\u001b[39;00m \u001b[39mNone\u001b[39;00m:\n\u001b[0;32m    <a href='file:///f%3A/Desarrollo%20software/segwork/.venv/lib/site-packages/ignite/engine/engine.py?line=750'>751</a>\u001b[0m     \u001b[39mself\u001b[39m\u001b[39m.\u001b[39m_setup_engine()\n\u001b[1;32m--> <a href='file:///f%3A/Desarrollo%20software/segwork/.venv/lib/site-packages/ignite/engine/engine.py?line=752'>753</a>\u001b[0m time_taken \u001b[39m=\u001b[39m \u001b[39mself\u001b[39;49m\u001b[39m.\u001b[39;49m_run_once_on_dataset()\n\u001b[0;32m    <a href='file:///f%3A/Desarrollo%20software/segwork/.venv/lib/site-packages/ignite/engine/engine.py?line=753'>754</a>\u001b[0m \u001b[39m# time is available for handlers but must be update after fire\u001b[39;00m\n\u001b[0;32m    <a href='file:///f%3A/Desarrollo%20software/segwork/.venv/lib/site-packages/ignite/engine/engine.py?line=754'>755</a>\u001b[0m \u001b[39mself\u001b[39m\u001b[39m.\u001b[39mstate\u001b[39m.\u001b[39mtimes[Events\u001b[39m.\u001b[39mEPOCH_COMPLETED\u001b[39m.\u001b[39mname] \u001b[39m=\u001b[39m time_taken\n",
      "File \u001b[1;32mf:\\Desarrollo software\\segwork\\.venv\\lib\\site-packages\\ignite\\engine\\engine.py:854\u001b[0m, in \u001b[0;36mEngine._run_once_on_dataset\u001b[1;34m(self)\u001b[0m\n\u001b[0;32m    <a href='file:///f%3A/Desarrollo%20software/segwork/.venv/lib/site-packages/ignite/engine/engine.py?line=851'>852</a>\u001b[0m \u001b[39mexcept\u001b[39;00m \u001b[39mException\u001b[39;00m \u001b[39mas\u001b[39;00m e:\n\u001b[0;32m    <a href='file:///f%3A/Desarrollo%20software/segwork/.venv/lib/site-packages/ignite/engine/engine.py?line=852'>853</a>\u001b[0m     \u001b[39mself\u001b[39m\u001b[39m.\u001b[39mlogger\u001b[39m.\u001b[39merror(\u001b[39mf\u001b[39m\u001b[39m\"\u001b[39m\u001b[39mCurrent run is terminating due to exception: \u001b[39m\u001b[39m{\u001b[39;00me\u001b[39m}\u001b[39;00m\u001b[39m\"\u001b[39m)\n\u001b[1;32m--> <a href='file:///f%3A/Desarrollo%20software/segwork/.venv/lib/site-packages/ignite/engine/engine.py?line=853'>854</a>\u001b[0m     \u001b[39mself\u001b[39;49m\u001b[39m.\u001b[39;49m_handle_exception(e)\n\u001b[0;32m    <a href='file:///f%3A/Desarrollo%20software/segwork/.venv/lib/site-packages/ignite/engine/engine.py?line=855'>856</a>\u001b[0m \u001b[39mreturn\u001b[39;00m time\u001b[39m.\u001b[39mtime() \u001b[39m-\u001b[39m start_time\n",
      "File \u001b[1;32mf:\\Desarrollo software\\segwork\\.venv\\lib\\site-packages\\ignite\\engine\\engine.py:466\u001b[0m, in \u001b[0;36mEngine._handle_exception\u001b[1;34m(self, e)\u001b[0m\n\u001b[0;32m    <a href='file:///f%3A/Desarrollo%20software/segwork/.venv/lib/site-packages/ignite/engine/engine.py?line=463'>464</a>\u001b[0m     \u001b[39mself\u001b[39m\u001b[39m.\u001b[39m_fire_event(Events\u001b[39m.\u001b[39mEXCEPTION_RAISED, e)\n\u001b[0;32m    <a href='file:///f%3A/Desarrollo%20software/segwork/.venv/lib/site-packages/ignite/engine/engine.py?line=464'>465</a>\u001b[0m \u001b[39melse\u001b[39;00m:\n\u001b[1;32m--> <a href='file:///f%3A/Desarrollo%20software/segwork/.venv/lib/site-packages/ignite/engine/engine.py?line=465'>466</a>\u001b[0m     \u001b[39mraise\u001b[39;00m e\n",
      "File \u001b[1;32mf:\\Desarrollo software\\segwork\\.venv\\lib\\site-packages\\ignite\\engine\\engine.py:841\u001b[0m, in \u001b[0;36mEngine._run_once_on_dataset\u001b[1;34m(self)\u001b[0m\n\u001b[0;32m    <a href='file:///f%3A/Desarrollo%20software/segwork/.venv/lib/site-packages/ignite/engine/engine.py?line=838'>839</a>\u001b[0m \u001b[39mself\u001b[39m\u001b[39m.\u001b[39m_fire_event(Events\u001b[39m.\u001b[39mITERATION_STARTED)\n\u001b[0;32m    <a href='file:///f%3A/Desarrollo%20software/segwork/.venv/lib/site-packages/ignite/engine/engine.py?line=839'>840</a>\u001b[0m \u001b[39mself\u001b[39m\u001b[39m.\u001b[39mstate\u001b[39m.\u001b[39moutput \u001b[39m=\u001b[39m \u001b[39mself\u001b[39m\u001b[39m.\u001b[39m_process_function(\u001b[39mself\u001b[39m, \u001b[39mself\u001b[39m\u001b[39m.\u001b[39mstate\u001b[39m.\u001b[39mbatch)\n\u001b[1;32m--> <a href='file:///f%3A/Desarrollo%20software/segwork/.venv/lib/site-packages/ignite/engine/engine.py?line=840'>841</a>\u001b[0m \u001b[39mself\u001b[39;49m\u001b[39m.\u001b[39;49m_fire_event(Events\u001b[39m.\u001b[39;49mITERATION_COMPLETED)\n\u001b[0;32m    <a href='file:///f%3A/Desarrollo%20software/segwork/.venv/lib/site-packages/ignite/engine/engine.py?line=842'>843</a>\u001b[0m \u001b[39mif\u001b[39;00m \u001b[39mself\u001b[39m\u001b[39m.\u001b[39mshould_terminate \u001b[39mor\u001b[39;00m \u001b[39mself\u001b[39m\u001b[39m.\u001b[39mshould_terminate_single_epoch:\n\u001b[0;32m    <a href='file:///f%3A/Desarrollo%20software/segwork/.venv/lib/site-packages/ignite/engine/engine.py?line=843'>844</a>\u001b[0m     \u001b[39mself\u001b[39m\u001b[39m.\u001b[39m_fire_event(Events\u001b[39m.\u001b[39mTERMINATE_SINGLE_EPOCH, iter_counter\u001b[39m=\u001b[39miter_counter)\n",
      "File \u001b[1;32mf:\\Desarrollo software\\segwork\\.venv\\lib\\site-packages\\ignite\\engine\\engine.py:421\u001b[0m, in \u001b[0;36mEngine._fire_event\u001b[1;34m(self, event_name, *event_args, **event_kwargs)\u001b[0m\n\u001b[0;32m    <a href='file:///f%3A/Desarrollo%20software/segwork/.venv/lib/site-packages/ignite/engine/engine.py?line=418'>419</a>\u001b[0m kwargs\u001b[39m.\u001b[39mupdate(event_kwargs)\n\u001b[0;32m    <a href='file:///f%3A/Desarrollo%20software/segwork/.venv/lib/site-packages/ignite/engine/engine.py?line=419'>420</a>\u001b[0m first, others \u001b[39m=\u001b[39m ((args[\u001b[39m0\u001b[39m],), args[\u001b[39m1\u001b[39m:]) \u001b[39mif\u001b[39;00m (args \u001b[39mand\u001b[39;00m args[\u001b[39m0\u001b[39m] \u001b[39m==\u001b[39m \u001b[39mself\u001b[39m) \u001b[39melse\u001b[39;00m ((), args)\n\u001b[1;32m--> <a href='file:///f%3A/Desarrollo%20software/segwork/.venv/lib/site-packages/ignite/engine/engine.py?line=420'>421</a>\u001b[0m func(\u001b[39m*\u001b[39mfirst, \u001b[39m*\u001b[39m(event_args \u001b[39m+\u001b[39m others), \u001b[39m*\u001b[39m\u001b[39m*\u001b[39mkwargs)\n",
      "File \u001b[1;32mf:\\Desarrollo software\\segwork\\.venv\\lib\\site-packages\\torch\\autograd\\grad_mode.py:27\u001b[0m, in \u001b[0;36m_DecoratorContextManager.__call__.<locals>.decorate_context\u001b[1;34m(*args, **kwargs)\u001b[0m\n\u001b[0;32m     <a href='file:///f%3A/Desarrollo%20software/segwork/.venv/lib/site-packages/torch/autograd/grad_mode.py?line=23'>24</a>\u001b[0m \u001b[39m@functools\u001b[39m\u001b[39m.\u001b[39mwraps(func)\n\u001b[0;32m     <a href='file:///f%3A/Desarrollo%20software/segwork/.venv/lib/site-packages/torch/autograd/grad_mode.py?line=24'>25</a>\u001b[0m \u001b[39mdef\u001b[39;00m \u001b[39mdecorate_context\u001b[39m(\u001b[39m*\u001b[39margs, \u001b[39m*\u001b[39m\u001b[39m*\u001b[39mkwargs):\n\u001b[0;32m     <a href='file:///f%3A/Desarrollo%20software/segwork/.venv/lib/site-packages/torch/autograd/grad_mode.py?line=25'>26</a>\u001b[0m     \u001b[39mwith\u001b[39;00m \u001b[39mself\u001b[39m\u001b[39m.\u001b[39mclone():\n\u001b[1;32m---> <a href='file:///f%3A/Desarrollo%20software/segwork/.venv/lib/site-packages/torch/autograd/grad_mode.py?line=26'>27</a>\u001b[0m         \u001b[39mreturn\u001b[39;00m func(\u001b[39m*\u001b[39margs, \u001b[39m*\u001b[39m\u001b[39m*\u001b[39mkwargs)\n",
      "File \u001b[1;32mf:\\Desarrollo software\\segwork\\.venv\\lib\\site-packages\\ignite\\metrics\\metric.py:311\u001b[0m, in \u001b[0;36mMetric.iteration_completed\u001b[1;34m(self, engine)\u001b[0m\n\u001b[0;32m    <a href='file:///f%3A/Desarrollo%20software/segwork/.venv/lib/site-packages/ignite/metrics/metric.py?line=308'>309</a>\u001b[0m         \u001b[39mself\u001b[39m\u001b[39m.\u001b[39mupdate((tensor_o1, tensor_o2))\n\u001b[0;32m    <a href='file:///f%3A/Desarrollo%20software/segwork/.venv/lib/site-packages/ignite/metrics/metric.py?line=309'>310</a>\u001b[0m \u001b[39melse\u001b[39;00m:\n\u001b[1;32m--> <a href='file:///f%3A/Desarrollo%20software/segwork/.venv/lib/site-packages/ignite/metrics/metric.py?line=310'>311</a>\u001b[0m     \u001b[39mself\u001b[39;49m\u001b[39m.\u001b[39;49mupdate(output)\n",
      "File \u001b[1;32mf:\\Desarrollo software\\segwork\\.venv\\lib\\site-packages\\ignite\\metrics\\metric.py:596\u001b[0m, in \u001b[0;36mreinit__is_reduced.<locals>.wrapper\u001b[1;34m(self, *args, **kwargs)\u001b[0m\n\u001b[0;32m    <a href='file:///f%3A/Desarrollo%20software/segwork/.venv/lib/site-packages/ignite/metrics/metric.py?line=593'>594</a>\u001b[0m \u001b[39m@wraps\u001b[39m(func)\n\u001b[0;32m    <a href='file:///f%3A/Desarrollo%20software/segwork/.venv/lib/site-packages/ignite/metrics/metric.py?line=594'>595</a>\u001b[0m \u001b[39mdef\u001b[39;00m \u001b[39mwrapper\u001b[39m(\u001b[39mself\u001b[39m: Metric, \u001b[39m*\u001b[39margs: Any, \u001b[39m*\u001b[39m\u001b[39m*\u001b[39mkwargs: Any) \u001b[39m-\u001b[39m\u001b[39m>\u001b[39m \u001b[39mNone\u001b[39;00m:\n\u001b[1;32m--> <a href='file:///f%3A/Desarrollo%20software/segwork/.venv/lib/site-packages/ignite/metrics/metric.py?line=595'>596</a>\u001b[0m     func(\u001b[39mself\u001b[39m, \u001b[39m*\u001b[39margs, \u001b[39m*\u001b[39m\u001b[39m*\u001b[39mkwargs)\n\u001b[0;32m    <a href='file:///f%3A/Desarrollo%20software/segwork/.venv/lib/site-packages/ignite/metrics/metric.py?line=596'>597</a>\u001b[0m     \u001b[39mself\u001b[39m\u001b[39m.\u001b[39m_is_reduced \u001b[39m=\u001b[39m \u001b[39mFalse\u001b[39;00m\n",
      "File \u001b[1;32mf:\\Desarrollo software\\segwork\\.venv\\lib\\site-packages\\ignite\\metrics\\accuracy.py:227\u001b[0m, in \u001b[0;36mAccuracy.update\u001b[1;34m(self, output)\u001b[0m\n\u001b[0;32m    <a href='file:///f%3A/Desarrollo%20software/segwork/.venv/lib/site-packages/ignite/metrics/accuracy.py?line=224'>225</a>\u001b[0m \u001b[39m@reinit__is_reduced\u001b[39m\n\u001b[0;32m    <a href='file:///f%3A/Desarrollo%20software/segwork/.venv/lib/site-packages/ignite/metrics/accuracy.py?line=225'>226</a>\u001b[0m \u001b[39mdef\u001b[39;00m \u001b[39mupdate\u001b[39m(\u001b[39mself\u001b[39m, output: Sequence[torch\u001b[39m.\u001b[39mTensor]) \u001b[39m-\u001b[39m\u001b[39m>\u001b[39m \u001b[39mNone\u001b[39;00m:\n\u001b[1;32m--> <a href='file:///f%3A/Desarrollo%20software/segwork/.venv/lib/site-packages/ignite/metrics/accuracy.py?line=226'>227</a>\u001b[0m     \u001b[39mself\u001b[39;49m\u001b[39m.\u001b[39;49m_check_shape(output)\n\u001b[0;32m    <a href='file:///f%3A/Desarrollo%20software/segwork/.venv/lib/site-packages/ignite/metrics/accuracy.py?line=227'>228</a>\u001b[0m     \u001b[39mself\u001b[39m\u001b[39m.\u001b[39m_check_type(output)\n\u001b[0;32m    <a href='file:///f%3A/Desarrollo%20software/segwork/.venv/lib/site-packages/ignite/metrics/accuracy.py?line=228'>229</a>\u001b[0m     y_pred, y \u001b[39m=\u001b[39m output[\u001b[39m0\u001b[39m]\u001b[39m.\u001b[39mdetach(), output[\u001b[39m1\u001b[39m]\u001b[39m.\u001b[39mdetach()\n",
      "File \u001b[1;32mf:\\Desarrollo software\\segwork\\.venv\\lib\\site-packages\\ignite\\metrics\\accuracy.py:44\u001b[0m, in \u001b[0;36m_BaseClassification._check_shape\u001b[1;34m(self, output)\u001b[0m\n\u001b[0;32m     <a href='file:///f%3A/Desarrollo%20software/segwork/.venv/lib/site-packages/ignite/metrics/accuracy.py?line=40'>41</a>\u001b[0m     y_pred_shape \u001b[39m=\u001b[39m (y_pred_shape[\u001b[39m0\u001b[39m],) \u001b[39m+\u001b[39m y_pred_shape[\u001b[39m2\u001b[39m:]\n\u001b[0;32m     <a href='file:///f%3A/Desarrollo%20software/segwork/.venv/lib/site-packages/ignite/metrics/accuracy.py?line=42'>43</a>\u001b[0m \u001b[39mif\u001b[39;00m \u001b[39mnot\u001b[39;00m (y_shape \u001b[39m==\u001b[39m y_pred_shape):\n\u001b[1;32m---> <a href='file:///f%3A/Desarrollo%20software/segwork/.venv/lib/site-packages/ignite/metrics/accuracy.py?line=43'>44</a>\u001b[0m     \u001b[39mraise\u001b[39;00m \u001b[39mValueError\u001b[39;00m(\u001b[39m\"\u001b[39m\u001b[39my and y_pred must have compatible shapes.\u001b[39m\u001b[39m\"\u001b[39m)\n\u001b[0;32m     <a href='file:///f%3A/Desarrollo%20software/segwork/.venv/lib/site-packages/ignite/metrics/accuracy.py?line=45'>46</a>\u001b[0m \u001b[39mif\u001b[39;00m \u001b[39mself\u001b[39m\u001b[39m.\u001b[39m_is_multilabel \u001b[39mand\u001b[39;00m \u001b[39mnot\u001b[39;00m (y\u001b[39m.\u001b[39mshape \u001b[39m==\u001b[39m y_pred\u001b[39m.\u001b[39mshape \u001b[39mand\u001b[39;00m y\u001b[39m.\u001b[39mndimension() \u001b[39m>\u001b[39m \u001b[39m1\u001b[39m \u001b[39mand\u001b[39;00m y\u001b[39m.\u001b[39mshape[\u001b[39m1\u001b[39m] \u001b[39m>\u001b[39m \u001b[39m1\u001b[39m):\n\u001b[0;32m     <a href='file:///f%3A/Desarrollo%20software/segwork/.venv/lib/site-packages/ignite/metrics/accuracy.py?line=46'>47</a>\u001b[0m     \u001b[39mraise\u001b[39;00m \u001b[39mValueError\u001b[39;00m(\n\u001b[0;32m     <a href='file:///f%3A/Desarrollo%20software/segwork/.venv/lib/site-packages/ignite/metrics/accuracy.py?line=47'>48</a>\u001b[0m         \u001b[39m\"\u001b[39m\u001b[39my and y_pred must have same shape of (batch_size, num_categories, ...) and num_categories > 1.\u001b[39m\u001b[39m\"\u001b[39m\n\u001b[0;32m     <a href='file:///f%3A/Desarrollo%20software/segwork/.venv/lib/site-packages/ignite/metrics/accuracy.py?line=48'>49</a>\u001b[0m     )\n",
      "\u001b[1;31mValueError\u001b[0m: y and y_pred must have compatible shapes."
     ]
    }
   ],
   "source": [
    "trainer.run(train_loader, max_epochs=cfg.TRAIN.MAX_EPOCHS)"
   ]
  },
  {
   "cell_type": "markdown",
   "metadata": {},
   "source": []
  }
 ],
 "metadata": {
  "interpreter": {
   "hash": "f915bd14e41f75defdaded59260e23886f79ad3e68b01e8dfe9aedb79f73e220"
  },
  "kernelspec": {
   "display_name": "Python 3.9.9 ('.venv': venv)",
   "language": "python",
   "name": "python3"
  },
  "language_info": {
   "codemirror_mode": {
    "name": "ipython",
    "version": 3
   },
   "file_extension": ".py",
   "mimetype": "text/x-python",
   "name": "python",
   "nbconvert_exporter": "python",
   "pygments_lexer": "ipython3",
   "version": "3.9.9"
  },
  "orig_nbformat": 4
 },
 "nbformat": 4,
 "nbformat_minor": 2
}
