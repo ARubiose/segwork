{
 "cells": [
  {
   "cell_type": "markdown",
   "metadata": {},
   "source": [
    "### How to use the PixelCounter and the WeightAlgorithm classes"
   ]
  },
  {
   "cell_type": "code",
   "execution_count": 6,
   "metadata": {},
   "outputs": [],
   "source": [
    "# Built-in\n",
    "import os\n",
    "import logging\n",
    "logging.basicConfig(level=logging.DEBUG)\n",
    "\n",
    "# Third-party packages\n",
    "import numpy as np\n",
    "from tqdm import tqdm\n",
    "\n",
    "# Segwork framework\n",
    "from segwork.data import DroneDataset, NumpyPixelCounter"
   ]
  },
  {
   "cell_type": "code",
   "execution_count": 7,
   "metadata": {},
   "outputs": [],
   "source": [
    "DATA_DIR = os.path.join('data')\n",
    "ASSETS_DIR = 'assets'"
   ]
  },
  {
   "cell_type": "code",
   "execution_count": 8,
   "metadata": {},
   "outputs": [],
   "source": [
    "# Instantiate dataset\n",
    "dataset = DroneDataset( \n",
    "    root = os.path.join(DATA_DIR, 'semantic_drone_dataset'),\n",
    "    pil_target=False,               # Target: numpy.ndarray\n",
    ")"
   ]
  },
  {
   "cell_type": "code",
   "execution_count": 9,
   "metadata": {},
   "outputs": [
    {
     "data": {
      "text/plain": [
       "Counter of pixels with 23 classes.\n",
       "Pixel count:\n",
       "[0 0 0 0 0 0 0 0 0 0 0 0 0 0 0 0 0 0 0 0 0 0 0].\n",
       "Class count:\n",
       "[0 0 0 0 0 0 0 0 0 0 0 0 0 0 0 0 0 0 0 0 0 0 0]"
      ]
     },
     "execution_count": 9,
     "metadata": {},
     "output_type": "execute_result"
    }
   ],
   "source": [
    "# The `num_classes = dataset.num_classes - 1` because background is not weighted.\n",
    "pixel_counter = \\\n",
    "    NumpyPixelCounter( num_classes=dataset.num_classes - 1, dtype=np.longlong)\n",
    "pixel_counter"
   ]
  },
  {
   "cell_type": "code",
   "execution_count": 5,
   "metadata": {},
   "outputs": [
    {
     "name": "stdout",
     "output_type": "stream",
     "text": [
      "Number of pixel per image: 24000000\n"
     ]
    },
    {
     "data": {
      "text/plain": [
       "(array([   33858, 15296778,   365294,  2688081,  2233916,        0,\n",
       "               0,        0,  1046133,        0,   743212,   218419,\n",
       "               0,        0,        0,   150142,        0,        0,\n",
       "               0,   572787,        0,        0,   651380], dtype=int64),\n",
       " array([24000000, 24000000, 24000000, 24000000, 24000000,        0,\n",
       "               0,        0, 24000000,        0, 24000000, 24000000,\n",
       "               0,        0,        0, 24000000,        0,        0,\n",
       "               0, 24000000,        0,        0, 24000000], dtype=int64))"
      ]
     },
     "execution_count": 5,
     "metadata": {},
     "output_type": "execute_result"
    }
   ],
   "source": [
    "print(f'Number of pixel per image: {dataset.HEIGHT * dataset.WIDTH}')\n",
    "label = dataset.load_weight_label(2)\n",
    "pixel_counter.update(label)"
   ]
  },
  {
   "cell_type": "code",
   "execution_count": 23,
   "metadata": {},
   "outputs": [
    {
     "name": "stderr",
     "output_type": "stream",
     "text": [
      "Weight file pixel_count.npz already exists, replacing file. Pass exist_ok=False attr to prevent it.\n"
     ]
    }
   ],
   "source": [
    "pixel_counter.save_counters(os.path.join(ASSETS_DIR, 'pixel_count.npz'))"
   ]
  },
  {
   "cell_type": "code",
   "execution_count": 21,
   "metadata": {},
   "outputs": [
    {
     "data": {
      "text/plain": [
       "Counter of pixels with 23 classes.\n",
       "Pixel count:\n",
       "[0 0 0 0 0 0 0 0 0 0 0 0 0 0 0 0 0 0 0 0 0 0 0].\n",
       "Class count:\n",
       "[0 0 0 0 0 0 0 0 0 0 0 0 0 0 0 0 0 0 0 0 0 0 0]"
      ]
     },
     "execution_count": 21,
     "metadata": {},
     "output_type": "execute_result"
    }
   ],
   "source": [
    "pixel_counter.reset_counters()"
   ]
  },
  {
   "cell_type": "code",
   "execution_count": 27,
   "metadata": {},
   "outputs": [
    {
     "data": {
      "text/plain": [
       "True"
      ]
     },
     "execution_count": 27,
     "metadata": {},
     "output_type": "execute_result"
    }
   ],
   "source": [
    "pixel_counter.load_counters(os.path.join(ASSETS_DIR, 'pixel_count_all.npz'))"
   ]
  },
  {
   "cell_type": "code",
   "execution_count": 10,
   "metadata": {},
   "outputs": [
    {
     "name": "stderr",
     "output_type": "stream",
     "text": [
      "  0%|          | 1/400 [00:00<02:44,  2.42it/s]\n"
     ]
    },
    {
     "ename": "FileNotFoundError",
     "evalue": "[Errno 2] No such file or directory: 'data\\\\semantic_drone_dataset\\\\training_set\\\\gt\\\\semantic\\\\label_numpy\\\\001.npy'",
     "output_type": "error",
     "traceback": [
      "\u001b[1;31m---------------------------------------------------------------------------\u001b[0m",
      "\u001b[1;31mFileNotFoundError\u001b[0m                         Traceback (most recent call last)",
      "\u001b[1;32m~\\AppData\\Local\\Temp\\ipykernel_16748\\4191241353.py\u001b[0m in \u001b[0;36m<module>\u001b[1;34m\u001b[0m\n\u001b[0;32m      1\u001b[0m \u001b[1;32mfor\u001b[0m \u001b[0midx\u001b[0m \u001b[1;32min\u001b[0m \u001b[0mtqdm\u001b[0m\u001b[1;33m(\u001b[0m\u001b[0mrange\u001b[0m\u001b[1;33m(\u001b[0m\u001b[0mdataset\u001b[0m\u001b[1;33m.\u001b[0m\u001b[0mnum_data_points\u001b[0m\u001b[1;33m)\u001b[0m\u001b[1;33m)\u001b[0m\u001b[1;33m:\u001b[0m\u001b[1;33m\u001b[0m\u001b[1;33m\u001b[0m\u001b[0m\n\u001b[1;32m----> 2\u001b[1;33m     \u001b[0mlabel\u001b[0m \u001b[1;33m=\u001b[0m \u001b[0mdataset\u001b[0m\u001b[1;33m.\u001b[0m\u001b[0mload_weight_label\u001b[0m\u001b[1;33m(\u001b[0m\u001b[0midx\u001b[0m\u001b[1;33m)\u001b[0m\u001b[1;33m\u001b[0m\u001b[1;33m\u001b[0m\u001b[0m\n\u001b[0m\u001b[0;32m      3\u001b[0m     \u001b[0mpixel_counter\u001b[0m\u001b[1;33m.\u001b[0m\u001b[0mupdate\u001b[0m\u001b[1;33m(\u001b[0m\u001b[0mlabel\u001b[0m\u001b[1;33m)\u001b[0m\u001b[1;33m\u001b[0m\u001b[1;33m\u001b[0m\u001b[0m\n",
      "\u001b[1;32mc:\\Users\\alvar\\Projects\\segwork\\segwork\\data\\drone_dataset.py\u001b[0m in \u001b[0;36mload_weight_label\u001b[1;34m(self, idx)\u001b[0m\n\u001b[0;32m     75\u001b[0m     \u001b[1;32mdef\u001b[0m \u001b[0mload_weight_label\u001b[0m\u001b[1;33m(\u001b[0m\u001b[0mself\u001b[0m\u001b[1;33m,\u001b[0m \u001b[0midx\u001b[0m\u001b[1;33m)\u001b[0m\u001b[1;33m:\u001b[0m\u001b[1;33m\u001b[0m\u001b[1;33m\u001b[0m\u001b[0m\n\u001b[0;32m     76\u001b[0m         \u001b[1;34m\"\"\"Load label to be used by the calculator\"\"\"\u001b[0m\u001b[1;33m\u001b[0m\u001b[1;33m\u001b[0m\u001b[0m\n\u001b[1;32m---> 77\u001b[1;33m         \u001b[1;32mreturn\u001b[0m \u001b[0mself\u001b[0m\u001b[1;33m.\u001b[0m\u001b[0mload_numpy_label\u001b[0m\u001b[1;33m(\u001b[0m\u001b[0midx\u001b[0m\u001b[1;33m)\u001b[0m\u001b[1;33m\u001b[0m\u001b[1;33m\u001b[0m\u001b[0m\n\u001b[0m\u001b[0;32m     78\u001b[0m \u001b[1;33m\u001b[0m\u001b[0m\n",
      "\u001b[1;32mc:\\Users\\alvar\\Projects\\segwork\\segwork\\data\\drone_dataset.py\u001b[0m in \u001b[0;36mload_numpy_label\u001b[1;34m(self, idx, *args, **kwargs)\u001b[0m\n\u001b[0;32m     71\u001b[0m         \u001b[0mfile_name\u001b[0m \u001b[1;33m=\u001b[0m \u001b[1;34mf'{idx:03d}.npy'\u001b[0m\u001b[1;33m\u001b[0m\u001b[1;33m\u001b[0m\u001b[0m\n\u001b[0;32m     72\u001b[0m         \u001b[0mpath_name\u001b[0m \u001b[1;33m=\u001b[0m \u001b[0mos\u001b[0m\u001b[1;33m.\u001b[0m\u001b[0mpath\u001b[0m\u001b[1;33m.\u001b[0m\u001b[0mjoin\u001b[0m\u001b[1;33m(\u001b[0m\u001b[0mself\u001b[0m\u001b[1;33m.\u001b[0m\u001b[0mTRAINING_LABELS_DIR_NUMPY\u001b[0m\u001b[1;33m,\u001b[0m \u001b[0mfile_name\u001b[0m\u001b[1;33m)\u001b[0m\u001b[1;33m\u001b[0m\u001b[1;33m\u001b[0m\u001b[0m\n\u001b[1;32m---> 73\u001b[1;33m         \u001b[1;32mreturn\u001b[0m \u001b[0mnp\u001b[0m\u001b[1;33m.\u001b[0m\u001b[0mload\u001b[0m\u001b[1;33m(\u001b[0m\u001b[0mpath_name\u001b[0m\u001b[1;33m,\u001b[0m \u001b[1;33m*\u001b[0m\u001b[0margs\u001b[0m\u001b[1;33m,\u001b[0m \u001b[1;33m**\u001b[0m\u001b[0mkwargs\u001b[0m\u001b[1;33m)\u001b[0m\u001b[1;33m\u001b[0m\u001b[1;33m\u001b[0m\u001b[0m\n\u001b[0m\u001b[0;32m     74\u001b[0m \u001b[1;33m\u001b[0m\u001b[0m\n\u001b[0;32m     75\u001b[0m     \u001b[1;32mdef\u001b[0m \u001b[0mload_weight_label\u001b[0m\u001b[1;33m(\u001b[0m\u001b[0mself\u001b[0m\u001b[1;33m,\u001b[0m \u001b[0midx\u001b[0m\u001b[1;33m)\u001b[0m\u001b[1;33m:\u001b[0m\u001b[1;33m\u001b[0m\u001b[1;33m\u001b[0m\u001b[0m\n",
      "\u001b[1;32mc:\\Users\\alvar\\Projects\\segwork\\.venv\\lib\\site-packages\\numpy\\lib\\npyio.py\u001b[0m in \u001b[0;36mload\u001b[1;34m(file, mmap_mode, allow_pickle, fix_imports, encoding)\u001b[0m\n\u001b[0;32m    415\u001b[0m             \u001b[0mown_fid\u001b[0m \u001b[1;33m=\u001b[0m \u001b[1;32mFalse\u001b[0m\u001b[1;33m\u001b[0m\u001b[1;33m\u001b[0m\u001b[0m\n\u001b[0;32m    416\u001b[0m         \u001b[1;32melse\u001b[0m\u001b[1;33m:\u001b[0m\u001b[1;33m\u001b[0m\u001b[1;33m\u001b[0m\u001b[0m\n\u001b[1;32m--> 417\u001b[1;33m             \u001b[0mfid\u001b[0m \u001b[1;33m=\u001b[0m \u001b[0mstack\u001b[0m\u001b[1;33m.\u001b[0m\u001b[0menter_context\u001b[0m\u001b[1;33m(\u001b[0m\u001b[0mopen\u001b[0m\u001b[1;33m(\u001b[0m\u001b[0mos_fspath\u001b[0m\u001b[1;33m(\u001b[0m\u001b[0mfile\u001b[0m\u001b[1;33m)\u001b[0m\u001b[1;33m,\u001b[0m \u001b[1;34m\"rb\"\u001b[0m\u001b[1;33m)\u001b[0m\u001b[1;33m)\u001b[0m\u001b[1;33m\u001b[0m\u001b[1;33m\u001b[0m\u001b[0m\n\u001b[0m\u001b[0;32m    418\u001b[0m             \u001b[0mown_fid\u001b[0m \u001b[1;33m=\u001b[0m \u001b[1;32mTrue\u001b[0m\u001b[1;33m\u001b[0m\u001b[1;33m\u001b[0m\u001b[0m\n\u001b[0;32m    419\u001b[0m \u001b[1;33m\u001b[0m\u001b[0m\n",
      "\u001b[1;31mFileNotFoundError\u001b[0m: [Errno 2] No such file or directory: 'data\\\\semantic_drone_dataset\\\\training_set\\\\gt\\\\semantic\\\\label_numpy\\\\001.npy'"
     ]
    }
   ],
   "source": [
    "for idx in tqdm(range(dataset.num_data_points)):\n",
    "    label = dataset.load_weight_label(idx)\n",
    "    pixel_counter.update(label)"
   ]
  },
  {
   "cell_type": "code",
   "execution_count": 7,
   "metadata": {},
   "outputs": [],
   "source": [
    "from segwork.data import balance as bl\n",
    "import importlib\n",
    "importlib.reload(bl)\n",
    "\n",
    "weight_algorithm = bl.NumpyMedianFrequencyWeight( pixel_counter = pixel_counter)"
   ]
  },
  {
   "cell_type": "code",
   "execution_count": 47,
   "metadata": {},
   "outputs": [
    {
     "data": {
      "text/plain": [
       "array([16.85484274,  0.09279877,  0.95600028,  0.12590574,  0.41609928,\n",
       "        0.462153  ,  2.69340118,  0.57643398,  0.46594422,  0.24907447,\n",
       "        1.        ,  2.487816  , 10.87277168,  2.03968625, 28.96594261,\n",
       "        3.21416904, 13.60558168,  0.74984716,  6.58144315,  0.83559121,\n",
       "        0.57470975,  6.68112193,  1.01167484])"
      ]
     },
     "execution_count": 47,
     "metadata": {},
     "output_type": "execute_result"
    }
   ],
   "source": [
    "weights = weight_algorithm.compute()\n",
    "weights"
   ]
  },
  {
   "cell_type": "code",
   "execution_count": 14,
   "metadata": {},
   "outputs": [
    {
     "name": "stderr",
     "output_type": "stream",
     "text": [
      "100%|██████████| 400/400 [02:12<00:00,  3.01it/s]\n"
     ]
    }
   ],
   "source": [
    "pixel_counter = NumpyPixelCounter( num_classes=dataset.num_classes - 1, dtype=np.longlong)\n",
    "weight_algorithm = bl.NumpyMedianFrequencyWeight( pixel_counter = pixel_counter)\n",
    "weights = dataset.compute_class_weights( weight_algorithm=weight_algorithm)"
   ]
  },
  {
   "cell_type": "code",
   "execution_count": 11,
   "metadata": {},
   "outputs": [
    {
     "name": "stderr",
     "output_type": "stream",
     "text": [
      "INFO:segwork.data.balance:Pixel counts loaded from pixel_count_all.npz\n"
     ]
    },
    {
     "data": {
      "text/plain": [
       "array([16.85484274,  0.09279877,  0.95600028,  0.12590574,  0.41609928,\n",
       "        0.462153  ,  2.69340118,  0.57643398,  0.46594422,  0.24907447,\n",
       "        1.        ,  2.487816  , 10.87277168,  2.03968625, 28.96594261,\n",
       "        3.21416904, 13.60558168,  0.74984716,  6.58144315,  0.83559121,\n",
       "        0.57470975,  6.68112193,  1.01167484])"
      ]
     },
     "execution_count": 11,
     "metadata": {},
     "output_type": "execute_result"
    }
   ],
   "source": [
    "pixel_counter = NumpyPixelCounter( num_classes=dataset.num_classes - 1, dtype=np.longlong)\n",
    "weight_algorithm = bl.NumpyMedianFrequencyWeight( pixel_counter = pixel_counter)\n",
    "weights = dataset.compute_class_weights( weight_algorithm=weight_algorithm, path='pixel_count_all.npz')\n",
    "weights"
   ]
  },
  {
   "cell_type": "markdown",
   "metadata": {},
   "source": [
    "### Pytorch calculator"
   ]
  },
  {
   "cell_type": "code",
   "execution_count": 1,
   "metadata": {},
   "outputs": [],
   "source": [
    "# Built-in\n",
    "import os\n",
    "import logging\n",
    "logging.basicConfig(level=logging.DEBUG)\n",
    "\n",
    "# Third-party packages\n",
    "import torch\n",
    "import torchvision\n",
    "import numpy as np\n",
    "from tqdm import tqdm\n",
    "\n",
    "# Segwork framework\n",
    "from segwork.data import DroneDataset, NumpyPixelCounter,  PytorchPixelCounter"
   ]
  },
  {
   "cell_type": "code",
   "execution_count": 2,
   "metadata": {},
   "outputs": [
    {
     "data": {
      "text/plain": [
       "Counter of pixels with 23 classes.\n",
       "Pixel count:\n",
       "tensor([0, 0, 0, 0, 0, 0, 0, 0, 0, 0, 0, 0, 0, 0, 0, 0, 0, 0, 0, 0, 0, 0, 0],\n",
       "       device='cuda:0').\n",
       "Class count:\n",
       "tensor([0, 0, 0, 0, 0, 0, 0, 0, 0, 0, 0, 0, 0, 0, 0, 0, 0, 0, 0, 0, 0, 0, 0],\n",
       "       device='cuda:0')"
      ]
     },
     "execution_count": 2,
     "metadata": {},
     "output_type": "execute_result"
    }
   ],
   "source": [
    "DATA_DIR = os.path.join(os.pardir, 'data')\n",
    "ASSETS_DIR = 'assets'\n",
    "# Instantiate dataset\n",
    "dataset = DroneDataset( \n",
    "    root = os.path.join(DATA_DIR, 'semantic_drone_dataset'),\n",
    "    pil_target=False,               # Target: numpy.ndarray\n",
    ")\n",
    "# The `num_classes = dataset.num_classes - 1` because background is not weighted.\n",
    "pixel_counter = PytorchPixelCounter( num_classes=dataset.num_classes - 1)\n",
    "pixel_counter"
   ]
  },
  {
   "cell_type": "code",
   "execution_count": 3,
   "metadata": {},
   "outputs": [
    {
     "name": "stdout",
     "output_type": "stream",
     "text": [
      "Number of pixel per image: 24000000\n"
     ]
    },
    {
     "data": {
      "text/plain": [
       "(tensor([   33858, 15296778,   365294,  2688081,  2233916,        0,        0,\n",
       "                0,  1046133,        0,   743212,   218419,        0,        0,\n",
       "                0,   150142,        0,        0,        0,   572787,        0,\n",
       "                0,   651380], device='cuda:0'),\n",
       " tensor([ True,  True,  True,  True,  True, False, False, False,  True, False,\n",
       "          True,  True, False, False, False,  True, False, False, False,  True,\n",
       "         False, False,  True], device='cuda:0'))"
      ]
     },
     "execution_count": 3,
     "metadata": {},
     "output_type": "execute_result"
    }
   ],
   "source": [
    "print(f'Number of pixel per image: {dataset.HEIGHT * dataset.WIDTH}')\n",
    "label = dataset.load_weight_label(2)\n",
    "pytorch_label = torch.from_numpy(label).to('cuda')\n",
    "pixel_counter.update(pytorch_label)"
   ]
  },
  {
   "cell_type": "code",
   "execution_count": 4,
   "metadata": {},
   "outputs": [],
   "source": [
    "pixel_counter.save_counters(os.path.join(ASSETS_DIR, 'pixel_counts.pt'))"
   ]
  },
  {
   "cell_type": "code",
   "execution_count": 6,
   "metadata": {},
   "outputs": [
    {
     "name": "stderr",
     "output_type": "stream",
     "text": [
      "INFO:segwork.data.balance:Pixel counts loaded from assets\\pixel_counts.pt\n"
     ]
    },
    {
     "data": {
      "text/plain": [
       "True"
      ]
     },
     "execution_count": 6,
     "metadata": {},
     "output_type": "execute_result"
    }
   ],
   "source": [
    "pixel_counter.reset_counters()\n",
    "pixel_counter.load_counters(os.path.join(ASSETS_DIR, 'pixel_counts.pt'))"
   ]
  },
  {
   "cell_type": "code",
   "execution_count": 5,
   "metadata": {},
   "outputs": [],
   "source": [
    "from segwork.data import NumpyMedianFrequencyWeight"
   ]
  },
  {
   "cell_type": "code",
   "execution_count": null,
   "metadata": {},
   "outputs": [],
   "source": [
    "weight_algorithm = NumpyMedianFrequencyWeight(pixel_counter=pixel_counter)"
   ]
  }
 ],
 "metadata": {
  "interpreter": {
   "hash": "beed4cc9617b55088e1f5ae85e19ad3d2b8672641835146616eec05eb506ad64"
  },
  "kernelspec": {
   "display_name": "Python 3.7.9 ('.venv': venv)",
   "language": "python",
   "name": "python3"
  },
  "language_info": {
   "codemirror_mode": {
    "name": "ipython",
    "version": 3
   },
   "file_extension": ".py",
   "mimetype": "text/x-python",
   "name": "python",
   "nbconvert_exporter": "python",
   "pygments_lexer": "ipython3",
   "version": "3.7.9"
  },
  "orig_nbformat": 4
 },
 "nbformat": 4,
 "nbformat_minor": 2
}
