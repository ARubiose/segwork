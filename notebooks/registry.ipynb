{
 "cells": [
  {
   "cell_type": "markdown",
   "metadata": {},
   "source": [
    "## Model registry - Custom model"
   ]
  },
  {
   "cell_type": "code",
   "execution_count": 4,
   "metadata": {},
   "outputs": [],
   "source": [
    "import torch.nn as nn\n",
    "from segwork.registry import models_reg, ConfigurableRegistry"
   ]
  },
  {
   "cell_type": "code",
   "execution_count": 6,
   "metadata": {},
   "outputs": [],
   "source": [
    "@models_reg.register\n",
    "class NeuralNetworkDecorated(nn.Module):\n",
    "\n",
    "    _register_name='Net'\n",
    "\n",
    "    _default_kwargs = {\n",
    "        'size' : 28\n",
    "    }\n",
    "    \n",
    "    def __init__(self, size: int = 28):\n",
    "        super(NeuralNetworkDecorated, self).__init__()\n",
    "        self.flatten = nn.Flatten()\n",
    "        self.linear_relu_stack = nn.Sequential(\n",
    "            nn.Linear(size*size, 512),\n",
    "            nn.ReLU(),\n",
    "            nn.Linear(512, 512),\n",
    "            nn.ReLU(),\n",
    "            nn.Linear(512, 10),\n",
    "        )\n",
    "\n",
    "    def forward(self, x):\n",
    "        x = self.flatten(x)\n",
    "        logits = self.linear_relu_stack(x)\n",
    "        return logits\n",
    "        \n",
    "@models_reg.register\n",
    "class NeuralNetworkDecoratedB(nn.Module):\n",
    "\n",
    "    _register_name='NetBig'\n",
    "\n",
    "    _default_kwargs = {\n",
    "        'size' : 112\n",
    "    }"
   ]
  },
  {
   "cell_type": "code",
   "execution_count": 1,
   "metadata": {},
   "outputs": [
    {
     "ename": "IndentationError",
     "evalue": "expected an indented block (2513247706.py, line 5)",
     "output_type": "error",
     "traceback": [
      "\u001b[1;36m  Input \u001b[1;32mIn [1]\u001b[1;36m\u001b[0m\n\u001b[1;33m    class DummymodelDecorated(nn.Module):\u001b[0m\n\u001b[1;37m                                         ^\u001b[0m\n\u001b[1;31mIndentationError\u001b[0m\u001b[1;31m:\u001b[0m expected an indented block\n"
     ]
    }
   ],
   "source": [
    "class DummyDecoder(nn.Module):\n",
    "\n",
    "    def __init__(self):\n",
    "        super().__init__()\n",
    "\n",
    "class DummymodelDecorated(nn.Module):\n",
    "    _register_name='Net'\n",
    "\n",
    "    # Default params\n",
    "    params = {\n",
    "        'out_channels' : (3, 64, 256, 512),\n",
    "        'depth': 3\n",
    "    }\n",
    "\n",
    "    # Additional settings\n",
    "    pretrained_settings = None\n",
    "\n",
    "    _description = 'Formal description of encoder'\n",
    "    \n",
    "    def __init__(self, out_channels: typing.List, depth:int):\n",
    "        super(DummyBackboneDecorated, self).__init__()\n",
    "\n",
    "        # A number of channels for each encoder feature tensor, list of integers\n",
    "        self._out_channels: typing.Iterable[int] = out_channels\n",
    "\n",
    "        # A number of stages in decoder (in other words number of downsampling operations), integer\n",
    "        # use in in forward pass to reduce number of returning features\n",
    "        self._depth: int = depth\n",
    "\n",
    "        # Default number of input channels in first Conv2d layer for encoder (usually 3)\n",
    "        self._in_channels: int = 3\n",
    "\n",
    "        blocks = []\n",
    "\n",
    "        for idx in range(len(out_channels) - 1):\n",
    "            blocks.append(nn.Sequential(\n",
    "            ConvBnAct(out_channels[idx], out_channels[idx + 1], 3),\n",
    "            ConvBnAct(out_channels[idx + 1], out_channels[idx + 1], 3, stride=2),\n",
    "        ))\n",
    "\n",
    "        self.stages = nn.Sequential(*blocks)\n",
    "\n",
    "    def forward(self, x):\n",
    "        out = [x]\n",
    "\n",
    "        for stage in self.stages:\n",
    "            x = stage(x)\n",
    "            out.append(x)\n",
    "\n",
    "        return out"
   ]
  },
  {
   "cell_type": "code",
   "execution_count": 7,
   "metadata": {},
   "outputs": [
    {
     "data": {
      "text/plain": [
       "ConfigurableRegistry\n",
       "\tattr_name: _register_name\n",
       "\tunique: False\n",
       "\tNumber of registered classes: 11 \n",
       "\tRegistered classes: ['unet', 'unet++', 'manet', 'linknet', 'fpn', 'psp', 'pan', 'deeplabv3', 'deeplabv3plus', 'Net', 'NetBig']\n",
       "\tClass key: model\n",
       "\tAttribute args: _default_args\n",
       "\tAttribute kwargs: _default_kwargs\n",
       "\tAdditional info from attributes: []"
      ]
     },
     "execution_count": 7,
     "metadata": {},
     "output_type": "execute_result"
    }
   ],
   "source": [
    "models_reg"
   ]
  },
  {
   "cell_type": "code",
   "execution_count": 8,
   "metadata": {},
   "outputs": [],
   "source": [
    "# Read config file\n",
    "\n",
    "model_args = {} # Read\n",
    "model = models_reg.get_instance('Net', **model_args)"
   ]
  },
  {
   "cell_type": "code",
   "execution_count": 10,
   "metadata": {},
   "outputs": [
    {
     "name": "stdout",
     "output_type": "stream",
     "text": [
      "{'model_name': 'Net', 'model_args': {}}\n",
      "{'model': <class '__main__.NeuralNetworkDecorated'>, '_default_args': [], '_default_kwargs': {'size': 28}}\n"
     ]
    }
   ],
   "source": [
    "import json\n",
    "\n",
    "# Load config (TODO)\n",
    "config_path = os.path.join(\"assets\", 'config.json')\n",
    "with open(config_path) as f:\n",
    "    config = json.load(f)\n",
    "print(config)\n",
    "model_name = config['model_name']   # Net\n",
    "model_args = config['model_args']\n",
    "\n",
    "# Build model from registry\n",
    "print(models_reg[model_name])\n",
    "model = models_reg.get_instance(model_name, **model_args)"
   ]
  },
  {
   "cell_type": "code",
   "execution_count": 5,
   "metadata": {},
   "outputs": [],
   "source": [
    "from segwork.registry import backbones_reg\n",
    "backbones_reg['resnet34']"
   ]
  },
  {
   "cell_type": "markdown",
   "metadata": {},
   "source": [
    "## Backbones registry - Integration with smp"
   ]
  },
  {
   "cell_type": "code",
   "execution_count": 1,
   "metadata": {},
   "outputs": [],
   "source": [
    "import typing\n",
    "import copy\n",
    "\n",
    "import torch\n",
    "import torch.nn as nn\n",
    "import segmentation_models_pytorch as smp\n",
    "\n",
    "from segwork.model.layer import ConvBnAct\n",
    "from segwork.registry import ConfigurableRegistry, smp_hook"
   ]
  },
  {
   "cell_type": "code",
   "execution_count": 2,
   "metadata": {},
   "outputs": [],
   "source": [
    "# Create the registry\n",
    "backbones_reg = ConfigurableRegistry(\n",
    "    class_key = 'encoder',                                              # Key to the nn.module class\n",
    "    initial_registry = smp.encoders.encoders, \n",
    "    attr_kwargs = 'params',\n",
    "    unique=True,\n",
    "    additional_args = ['pretrained_settings'],\n",
    "    register_hook = smp_hook)   # Retrocompatibility"
   ]
  },
  {
   "cell_type": "code",
   "execution_count": 3,
   "metadata": {},
   "outputs": [
    {
     "data": {
      "text/plain": [
       "ConfigurableRegistry\n",
       "\tattr_name: _register_name\n",
       "\tunique: True\n",
       "\tNumber of registered classes: 113 \n",
       "\tRegistered classes: ['resnet18', 'resnet34', 'resnet50', 'resnet101', 'resnet152', 'resnext50_32x4d', 'resnext101_32x4d', 'resnext101_32x8d', 'resnext101_32x16d', 'resnext101_32x32d', 'resnext101_32x48d', 'dpn68', 'dpn68b', 'dpn92', 'dpn98', 'dpn107', 'dpn131', 'vgg11', 'vgg11_bn', 'vgg13', 'vgg13_bn', 'vgg16', 'vgg16_bn', 'vgg19', 'vgg19_bn', 'senet154', 'se_resnet50', 'se_resnet101', 'se_resnet152', 'se_resnext50_32x4d', 'se_resnext101_32x4d', 'densenet121', 'densenet169', 'densenet201', 'densenet161', 'inceptionresnetv2', 'inceptionv4', 'efficientnet-b0', 'efficientnet-b1', 'efficientnet-b2', 'efficientnet-b3', 'efficientnet-b4', 'efficientnet-b5', 'efficientnet-b6', 'efficientnet-b7', 'mobilenet_v2', 'xception', 'timm-efficientnet-b0', 'timm-efficientnet-b1', 'timm-efficientnet-b2', 'timm-efficientnet-b3', 'timm-efficientnet-b4', 'timm-efficientnet-b5', 'timm-efficientnet-b6', 'timm-efficientnet-b7', 'timm-efficientnet-b8', 'timm-efficientnet-l2', 'timm-tf_efficientnet_lite0', 'timm-tf_efficientnet_lite1', 'timm-tf_efficientnet_lite2', 'timm-tf_efficientnet_lite3', 'timm-tf_efficientnet_lite4', 'timm-resnest14d', 'timm-resnest26d', 'timm-resnest50d', 'timm-resnest101e', 'timm-resnest200e', 'timm-resnest269e', 'timm-resnest50d_4s2x40d', 'timm-resnest50d_1s4x24d', 'timm-res2net50_26w_4s', 'timm-res2net101_26w_4s', 'timm-res2net50_26w_6s', 'timm-res2net50_26w_8s', 'timm-res2net50_48w_2s', 'timm-res2net50_14w_8s', 'timm-res2next50', 'timm-regnetx_002', 'timm-regnetx_004', 'timm-regnetx_006', 'timm-regnetx_008', 'timm-regnetx_016', 'timm-regnetx_032', 'timm-regnetx_040', 'timm-regnetx_064', 'timm-regnetx_080', 'timm-regnetx_120', 'timm-regnetx_160', 'timm-regnetx_320', 'timm-regnety_002', 'timm-regnety_004', 'timm-regnety_006', 'timm-regnety_008', 'timm-regnety_016', 'timm-regnety_032', 'timm-regnety_040', 'timm-regnety_064', 'timm-regnety_080', 'timm-regnety_120', 'timm-regnety_160', 'timm-regnety_320', 'timm-skresnet18', 'timm-skresnet34', 'timm-skresnext50_32x4d', 'timm-mobilenetv3_large_075', 'timm-mobilenetv3_large_100', 'timm-mobilenetv3_large_minimal_100', 'timm-mobilenetv3_small_075', 'timm-mobilenetv3_small_100', 'timm-mobilenetv3_small_minimal_100', 'timm-gernet_s', 'timm-gernet_m', 'timm-gernet_l']\n",
       "\tClass key: encoder\n",
       "\tAttribute args: _default_args\n",
       "\tAttribute kwargs: params\n",
       "\tAdditional info from attributes: ['pretrained_settings']"
      ]
     },
     "execution_count": 3,
     "metadata": {},
     "output_type": "execute_result"
    }
   ],
   "source": [
    "backbones_reg"
   ]
  },
  {
   "cell_type": "code",
   "execution_count": 14,
   "metadata": {},
   "outputs": [],
   "source": [
    "backbones_reg.add_additional_args('_description')\n",
    "\n",
    "@backbones_reg.register\n",
    "class DummyBackboneDecorated(nn.Module, smp.encoders._base.EncoderMixin):\n",
    "    \"\"\"Dummyy encoder to test compatibility with smp architectures\n",
    "    \n",
    "    Testing:\n",
    "     - Custom attributes in registry\n",
    "      - To be used in smp framework it is regquired to inherit from EncoderMixin\n",
    "    \"\"\"\n",
    "\n",
    "    _register_name='Net'\n",
    "\n",
    "    # Default params\n",
    "    params = {\n",
    "        'out_channels' : (3, 64, 256, 512),\n",
    "        'depth': 3\n",
    "    }\n",
    "\n",
    "    # Additional settings\n",
    "    pretrained_settings = None\n",
    "\n",
    "    _description = 'Formal description of encoder'\n",
    "    \n",
    "    def __init__(self, out_channels: typing.List, depth:int):\n",
    "        super(DummyBackboneDecorated, self).__init__()\n",
    "\n",
    "        # A number of channels for each encoder feature tensor, list of integers\n",
    "        self._out_channels: typing.Iterable[int] = out_channels\n",
    "\n",
    "        # A number of stages in decoder (in other words number of downsampling operations), integer\n",
    "        # use in in forward pass to reduce number of returning features\n",
    "        self._depth: int = depth\n",
    "\n",
    "        # Default number of input channels in first Conv2d layer for encoder (usually 3)\n",
    "        self._in_channels: int = 3\n",
    "\n",
    "        blocks = []\n",
    "\n",
    "        for idx in range(len(out_channels) - 1):\n",
    "            blocks.append(nn.Sequential(\n",
    "            ConvBnAct(out_channels[idx], out_channels[idx + 1], 3),\n",
    "            ConvBnAct(out_channels[idx + 1], out_channels[idx + 1], 3, stride=2),\n",
    "        ))\n",
    "\n",
    "        self.stages = nn.Sequential(*blocks)\n",
    "\n",
    "    def forward(self, x):\n",
    "        out = [x]\n",
    "\n",
    "        for stage in self.stages:\n",
    "            x = stage(x)\n",
    "            out.append(x)\n",
    "\n",
    "        return out\n",
    "\n",
    "@backbones_reg.register\n",
    "class BackboneDecoratedB(DummyBackboneDecorated):\n",
    "    \"\"\"New model with other defaults. Flexibility to configure this from within the module or with conig files\"\"\"\n",
    "    \n",
    "    _register_name = 'NetB'\n",
    "\n",
    "    # Default params\n",
    "    params = {\n",
    "        'out_channels' : (3, 256, 256, 256),\n",
    "        'output_stride': 16\n",
    "    }\n",
    "\n"
   ]
  },
  {
   "cell_type": "code",
   "execution_count": 15,
   "metadata": {},
   "outputs": [
    {
     "name": "stdout",
     "output_type": "stream",
     "text": [
      "['encoder', '_default_args', 'params', 'pretrained_settings', '_description']\n",
      "['encoder', 'pretrained_settings', 'params']\n"
     ]
    }
   ],
   "source": [
    "encoder_name = 'Net'\n",
    "\n",
    "# Framework entrypoint\n",
    "backbone_fr = backbones_reg.get_instance(encoder_name)\n",
    "\n",
    "# SMP entrypoint compatibility\n",
    "backbone = smp.encoders.get_encoder(encoder_name)\n",
    "\n",
    "# print(backbone)\n",
    "print(list(backbones_reg['Net'].keys()))\n",
    "print(list(backbones_reg['resnet34'].keys()))"
   ]
  },
  {
   "cell_type": "markdown",
   "metadata": {},
   "source": [
    "### Output of registered backbone"
   ]
  },
  {
   "cell_type": "code",
   "execution_count": 16,
   "metadata": {},
   "outputs": [
    {
     "name": "stdout",
     "output_type": "stream",
     "text": [
      "Features size...\n",
      "Stage 00: torch.Size([1, 3, 224, 224])\n",
      "Stage 01: torch.Size([1, 64, 112, 112])\n",
      "Stage 02: torch.Size([1, 256, 56, 56])\n",
      "Stage 03: torch.Size([1, 512, 28, 28])\n"
     ]
    }
   ],
   "source": [
    "x = torch.rand(1,3,224,224)\n",
    "\n",
    "out = (backbone(x))\n",
    "\n",
    "print('Features size...')\n",
    "for idx, f in enumerate(out):\n",
    "    print(f'Stage {idx:02d}: {f.size()}')"
   ]
  },
  {
   "cell_type": "markdown",
   "metadata": {},
   "source": [
    "### Using custom bakcbone"
   ]
  },
  {
   "cell_type": "code",
   "execution_count": 17,
   "metadata": {},
   "outputs": [],
   "source": [
    "model_args = {\n",
    "    'encoder_name' : 'Net',\n",
    "    'encoder_depth' : 3,\n",
    "    'encoder_weights' : None,\n",
    "    'decoder_channels' : (512, 256, 64),\n",
    "    'in_channels' : 3,\n",
    "    'classes' : 20\n",
    "}\n",
    "\n",
    "model = smp.Unet(**model_args)           "
   ]
  },
  {
   "cell_type": "code",
   "execution_count": 18,
   "metadata": {},
   "outputs": [
    {
     "data": {
      "text/plain": [
       "torch.Size([1, 20, 224, 224])"
      ]
     },
     "execution_count": 18,
     "metadata": {},
     "output_type": "execute_result"
    }
   ],
   "source": [
    "out = model(x)\n",
    "out.size()"
   ]
  },
  {
   "cell_type": "code",
   "execution_count": 19,
   "metadata": {},
   "outputs": [],
   "source": [
    "model_fr = models_reg.get_instance('unet', **model_args)"
   ]
  },
  {
   "cell_type": "code",
   "execution_count": 20,
   "metadata": {},
   "outputs": [
    {
     "data": {
      "text/plain": [
       "torch.Size([1, 20, 224, 224])"
      ]
     },
     "execution_count": 20,
     "metadata": {},
     "output_type": "execute_result"
    }
   ],
   "source": [
    "out_fr = model_fr(x)\n",
    "out_fr.size()"
   ]
  },
  {
   "cell_type": "markdown",
   "metadata": {},
   "source": [
    "## Custom registry \n",
    "Create entrypoints for modular objects"
   ]
  },
  {
   "cell_type": "code",
   "execution_count": 21,
   "metadata": {},
   "outputs": [],
   "source": [
    "from segwork.registry import ConfigurableRegistry\n",
    "datasets = ConfigurableRegistry(\n",
    "    class_key = 'dataset',\n",
    "    attr_name = '_dataset_params'\n",
    ")"
   ]
  },
  {
   "cell_type": "code",
   "execution_count": 22,
   "metadata": {},
   "outputs": [
    {
     "data": {
      "text/plain": [
       "ConfigurableRegistry\n",
       "\tattr_name: _dataset_params\n",
       "\tunique: False\n",
       "\tNumber of registered classes: 0 \n",
       "\tRegistered classes: []\n",
       "\tClass key: dataset\n",
       "\tAttribute args: _default_args\n",
       "\tAttribute kwargs: _default_kwargs\n",
       "\tAdditional info from attributes: []"
      ]
     },
     "execution_count": 22,
     "metadata": {},
     "output_type": "execute_result"
    }
   ],
   "source": [
    "datasets"
   ]
  }
 ],
 "metadata": {
  "interpreter": {
   "hash": "f915bd14e41f75defdaded59260e23886f79ad3e68b01e8dfe9aedb79f73e220"
  },
  "kernelspec": {
   "display_name": "Python 3.9.9 ('.venv': venv)",
   "language": "python",
   "name": "python3"
  },
  "language_info": {
   "codemirror_mode": {
    "name": "ipython",
    "version": 3
   },
   "file_extension": ".py",
   "mimetype": "text/x-python",
   "name": "python",
   "nbconvert_exporter": "python",
   "pygments_lexer": "ipython3",
   "version": "3.9.9"
  },
  "orig_nbformat": 4
 },
 "nbformat": 4,
 "nbformat_minor": 2
}
