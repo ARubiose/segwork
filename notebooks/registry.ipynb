{
 "cells": [
  {
   "cell_type": "markdown",
   "metadata": {},
   "source": [
    "## Model registry - Custom model"
   ]
  },
  {
   "cell_type": "code",
   "execution_count": 1,
   "metadata": {},
   "outputs": [],
   "source": [
    "import torch.nn as nn\n",
    "from segwork.registry import models_reg"
   ]
  },
  {
   "cell_type": "code",
   "execution_count": 2,
   "metadata": {},
   "outputs": [],
   "source": [
    "@models_reg.register\n",
    "class NeuralNetworkDecorated(nn.Module):\n",
    "\n",
    "    _register_name='Net'\n",
    "\n",
    "    _default_kwargs = {\n",
    "        'size' : 28\n",
    "    }\n",
    "    \n",
    "    def __init__(self, size: int = 28):\n",
    "        super(NeuralNetworkDecorated, self).__init__()\n",
    "        self.flatten = nn.Flatten()\n",
    "        self.linear_relu_stack = nn.Sequential(\n",
    "            nn.Linear(size*size, 512),\n",
    "            nn.ReLU(),\n",
    "            nn.Linear(512, 512),\n",
    "            nn.ReLU(),\n",
    "            nn.Linear(512, 10),\n",
    "        )\n",
    "\n",
    "    def forward(self, x):\n",
    "        x = self.flatten(x)\n",
    "        logits = self.linear_relu_stack(x)\n",
    "        return logits\n",
    "        \n",
    "@models_reg.register\n",
    "class NeuralNetworkDecoratedB(nn.Module):\n",
    "\n",
    "    _register_name='NetBig'\n",
    "\n",
    "    _default_kwargs = {\n",
    "        'size' : 112\n",
    "    }"
   ]
  },
  {
   "cell_type": "code",
   "execution_count": 3,
   "metadata": {},
   "outputs": [
    {
     "data": {
      "text/plain": [
       "ConfigurableRegistry(attr_name=_register_name, unique=False)\n",
       "            Number of registered classes: 3 \n",
       "            Registered classes: ['unet', 'Net', 'NetBig']\n",
       "\tClass key: model\n",
       "\tAttribute args: _default_args\n",
       "\tAttribute kwargs: _default_kwargs\n",
       "\tAdditional info from attributes: ['pretrained_settings']"
      ]
     },
     "execution_count": 3,
     "metadata": {},
     "output_type": "execute_result"
    }
   ],
   "source": [
    "models_reg"
   ]
  },
  {
   "cell_type": "code",
   "execution_count": 3,
   "metadata": {},
   "outputs": [],
   "source": [
    "# Read config file\n",
    "\n",
    "model_args = {} # Read\n",
    "model = models_reg.get_instance('Net', **model_args)"
   ]
  },
  {
   "cell_type": "code",
   "execution_count": 4,
   "metadata": {},
   "outputs": [
    {
     "name": "stdout",
     "output_type": "stream",
     "text": [
      "{'model_name': 'Net', 'model_args': {'size': 28}}\n",
      "{'model': <class '__main__.NeuralNetworkDecorated'>, '_default_args': [], '_default_kwargs': {'size': 28}, 'pretrained_settings': None}\n"
     ]
    }
   ],
   "source": [
    "import json\n",
    "\n",
    "# Load config (TODO)\n",
    "config_path = './config.json'\n",
    "with open(config_path) as f:\n",
    "    config = json.load(f)\n",
    "print(config)\n",
    "model_name = config['model_name']   # Net\n",
    "model_args = config['model_args']\n",
    "\n",
    "# Build model from registry\n",
    "print(models_reg[model_name])\n",
    "model = models_reg.get_instance(model_name, **model_args)"
   ]
  },
  {
   "cell_type": "code",
   "execution_count": 5,
   "metadata": {},
   "outputs": [],
   "source": [
    "from segwork.registry import backbones_reg\n",
    "backbones_reg['resnet34']"
   ]
  },
  {
   "cell_type": "markdown",
   "metadata": {},
   "source": [
    "## Backbones registry - Integration with smp"
   ]
  },
  {
   "cell_type": "code",
   "execution_count": 1,
   "metadata": {},
   "outputs": [],
   "source": [
    "import typing\n",
    "import copy\n",
    "\n",
    "import torch\n",
    "import torch.nn as nn\n",
    "import segmentation_models_pytorch as smp\n",
    "\n",
    "from segwork.model.layer import ConvBnAct\n",
    "from segwork.registry import ConfigurableRegistry, smp_compatibility"
   ]
  },
  {
   "cell_type": "code",
   "execution_count": 2,
   "metadata": {},
   "outputs": [],
   "source": [
    "# Create the registry\n",
    "backbones_reg = ConfigurableRegistry(\n",
    "    class_key = 'encoder',                                              # Key to the nn.module class\n",
    "    initial_registry = smp.encoders.encoders,            # Initial registry. Default: None\n",
    "    attr_name = '_register_name',\n",
    "    attr_kwargs = 'params',\n",
    "    unique=True,\n",
    "    additional_args = ['pretrained_settings'],\n",
    "    register_hook = smp_compatibility)   # Retrocompatibility"
   ]
  },
  {
   "cell_type": "code",
   "execution_count": 6,
   "metadata": {},
   "outputs": [
    {
     "ename": "KeyError",
     "evalue": "'Entry with key Net already exists. Set the unique attribute to false to overried items.'",
     "output_type": "error",
     "traceback": [
      "\u001b[1;31m---------------------------------------------------------------------------\u001b[0m",
      "\u001b[1;31mKeyError\u001b[0m                                  Traceback (most recent call last)",
      "\u001b[1;32mf:\\Desarrollo software\\segwork\\notebooks\\registry.ipynb Cell 10'\u001b[0m in \u001b[0;36m<cell line: 3>\u001b[1;34m()\u001b[0m\n\u001b[0;32m      <a href='vscode-notebook-cell:/f%3A/Desarrollo%20software/segwork/notebooks/registry.ipynb#ch0000009?line=0'>1</a>\u001b[0m backbones_reg\u001b[39m.\u001b[39madd_additional_args(\u001b[39m'\u001b[39m\u001b[39m_description\u001b[39m\u001b[39m'\u001b[39m)\n\u001b[0;32m      <a href='vscode-notebook-cell:/f%3A/Desarrollo%20software/segwork/notebooks/registry.ipynb#ch0000009?line=2'>3</a>\u001b[0m \u001b[39m@backbones_reg\u001b[39;49m\u001b[39m.\u001b[39;49mregister\n\u001b[1;32m----> <a href='vscode-notebook-cell:/f%3A/Desarrollo%20software/segwork/notebooks/registry.ipynb#ch0000009?line=3'>4</a>\u001b[0m \u001b[39mclass\u001b[39;49;00m \u001b[39mDummyBackboneDecorated\u001b[39;49;00m(nn\u001b[39m.\u001b[39;49mModule, smp\u001b[39m.\u001b[39;49mencoders\u001b[39m.\u001b[39;49m_base\u001b[39m.\u001b[39;49mEncoderMixin):\n\u001b[0;32m      <a href='vscode-notebook-cell:/f%3A/Desarrollo%20software/segwork/notebooks/registry.ipynb#ch0000009?line=4'>5</a>\u001b[0m     \u001b[39m\"\"\"Dummyy encoder to test compatibility with smp architectures\u001b[39;49;00m\n\u001b[0;32m      <a href='vscode-notebook-cell:/f%3A/Desarrollo%20software/segwork/notebooks/registry.ipynb#ch0000009?line=5'>6</a>\u001b[0m \u001b[39m    \u001b[39;49;00m\n\u001b[0;32m      <a href='vscode-notebook-cell:/f%3A/Desarrollo%20software/segwork/notebooks/registry.ipynb#ch0000009?line=6'>7</a>\u001b[0m \u001b[39m    Testing:\u001b[39;49;00m\n\u001b[0;32m      <a href='vscode-notebook-cell:/f%3A/Desarrollo%20software/segwork/notebooks/registry.ipynb#ch0000009?line=7'>8</a>\u001b[0m \u001b[39m     - Custom attributes in registry\u001b[39;49;00m\n\u001b[0;32m      <a href='vscode-notebook-cell:/f%3A/Desarrollo%20software/segwork/notebooks/registry.ipynb#ch0000009?line=8'>9</a>\u001b[0m \u001b[39m      - To be used in smp framework it is regquired to inherit from EncoderMixin\u001b[39;49;00m\n\u001b[0;32m     <a href='vscode-notebook-cell:/f%3A/Desarrollo%20software/segwork/notebooks/registry.ipynb#ch0000009?line=9'>10</a>\u001b[0m \u001b[39m    \"\"\"\u001b[39;49;00m\n\u001b[0;32m     <a href='vscode-notebook-cell:/f%3A/Desarrollo%20software/segwork/notebooks/registry.ipynb#ch0000009?line=11'>12</a>\u001b[0m     _register_name\u001b[39m=\u001b[39;49m\u001b[39m'\u001b[39;49m\u001b[39mNet\u001b[39;49m\u001b[39m'\u001b[39;49m\n",
      "File \u001b[1;32mf:\\desarrollo software\\segwork\\segwork\\registry.py:220\u001b[0m, in \u001b[0;36mMutableRegistry.register\u001b[1;34m(self, key)\u001b[0m\n\u001b[0;32m    <a href='file:///f%3A/desarrollo%20software/segwork/segwork/registry.py?line=217'>218</a>\u001b[0m \u001b[39mif\u001b[39;00m inspect\u001b[39m.\u001b[39misclass(key):\n\u001b[0;32m    <a href='file:///f%3A/desarrollo%20software/segwork/segwork/registry.py?line=218'>219</a>\u001b[0m     \u001b[39mif\u001b[39;00m \u001b[39mself\u001b[39m\u001b[39m.\u001b[39mattr_name:\n\u001b[1;32m--> <a href='file:///f%3A/desarrollo%20software/segwork/segwork/registry.py?line=219'>220</a>\u001b[0m         \u001b[39mself\u001b[39;49m\u001b[39m.\u001b[39;49m_register_class(\u001b[39mgetattr\u001b[39;49m(key, \u001b[39mself\u001b[39;49m\u001b[39m.\u001b[39;49mattr_name), key)\n\u001b[0;32m    <a href='file:///f%3A/desarrollo%20software/segwork/segwork/registry.py?line=220'>221</a>\u001b[0m         \u001b[39mreturn\u001b[39;00m key\n\u001b[0;32m    <a href='file:///f%3A/desarrollo%20software/segwork/segwork/registry.py?line=221'>222</a>\u001b[0m     \u001b[39melse\u001b[39;00m:\n",
      "File \u001b[1;32mf:\\desarrollo software\\segwork\\segwork\\registry.py:167\u001b[0m, in \u001b[0;36mMutableRegistry._register_class\u001b[1;34m(self, key, cls)\u001b[0m\n\u001b[0;32m    <a href='file:///f%3A/desarrollo%20software/segwork/segwork/registry.py?line=160'>161</a>\u001b[0m \u001b[39m\"\"\"Register item from class\u001b[39;00m\n\u001b[0;32m    <a href='file:///f%3A/desarrollo%20software/segwork/segwork/registry.py?line=161'>162</a>\u001b[0m \n\u001b[0;32m    <a href='file:///f%3A/desarrollo%20software/segwork/segwork/registry.py?line=162'>163</a>\u001b[0m \u001b[39mArgs:\u001b[39;00m\n\u001b[0;32m    <a href='file:///f%3A/desarrollo%20software/segwork/segwork/registry.py?line=163'>164</a>\u001b[0m \u001b[39m    key (typing.Hashable): Lookup key.\u001b[39;00m\n\u001b[0;32m    <a href='file:///f%3A/desarrollo%20software/segwork/segwork/registry.py?line=164'>165</a>\u001b[0m \u001b[39m\"\"\"\u001b[39;00m\n\u001b[0;32m    <a href='file:///f%3A/desarrollo%20software/segwork/segwork/registry.py?line=165'>166</a>\u001b[0m value \u001b[39m=\u001b[39m \u001b[39mself\u001b[39m\u001b[39m.\u001b[39m_generate_value_from_cls(\u001b[39mcls\u001b[39m)\n\u001b[1;32m--> <a href='file:///f%3A/desarrollo%20software/segwork/segwork/registry.py?line=166'>167</a>\u001b[0m \u001b[39mself\u001b[39;49m\u001b[39m.\u001b[39;49m_validate_register(key, value)\n\u001b[0;32m    <a href='file:///f%3A/desarrollo%20software/segwork/segwork/registry.py?line=167'>168</a>\u001b[0m \u001b[39mself\u001b[39m\u001b[39m.\u001b[39m_register(key, value)\n",
      "File \u001b[1;32mf:\\desarrollo software\\segwork\\segwork\\registry.py:176\u001b[0m, in \u001b[0;36mMutableRegistry._validate_register\u001b[1;34m(self, key, value)\u001b[0m\n\u001b[0;32m    <a href='file:///f%3A/desarrollo%20software/segwork/segwork/registry.py?line=173'>174</a>\u001b[0m \u001b[39mdef\u001b[39;00m \u001b[39m_validate_register\u001b[39m(\u001b[39mself\u001b[39m, key:typing\u001b[39m.\u001b[39mHashable, value:ItemType):\n\u001b[0;32m    <a href='file:///f%3A/desarrollo%20software/segwork/segwork/registry.py?line=174'>175</a>\u001b[0m     \u001b[39m\"\"\"Validate register\"\"\"\u001b[39;00m\n\u001b[1;32m--> <a href='file:///f%3A/desarrollo%20software/segwork/segwork/registry.py?line=175'>176</a>\u001b[0m     \u001b[39mself\u001b[39;49m\u001b[39m.\u001b[39;49m_validate_key(key)\n\u001b[0;32m    <a href='file:///f%3A/desarrollo%20software/segwork/segwork/registry.py?line=176'>177</a>\u001b[0m     \u001b[39mself\u001b[39m\u001b[39m.\u001b[39m_validate_value(value)\n",
      "File \u001b[1;32mf:\\desarrollo software\\segwork\\segwork\\registry.py:182\u001b[0m, in \u001b[0;36mMutableRegistry._validate_key\u001b[1;34m(self, key)\u001b[0m\n\u001b[0;32m    <a href='file:///f%3A/desarrollo%20software/segwork/segwork/registry.py?line=179'>180</a>\u001b[0m \u001b[39m\"\"\"Validate key before register\"\"\"\u001b[39;00m\n\u001b[0;32m    <a href='file:///f%3A/desarrollo%20software/segwork/segwork/registry.py?line=180'>181</a>\u001b[0m \u001b[39mif\u001b[39;00m \u001b[39mself\u001b[39m\u001b[39m.\u001b[39munique \u001b[39mand\u001b[39;00m \u001b[39mnot\u001b[39;00m \u001b[39mself\u001b[39m\u001b[39m.\u001b[39mis_unique(key):\n\u001b[1;32m--> <a href='file:///f%3A/desarrollo%20software/segwork/segwork/registry.py?line=181'>182</a>\u001b[0m     \u001b[39mraise\u001b[39;00m \u001b[39mKeyError\u001b[39;00m(\u001b[39mf\u001b[39m\u001b[39m'\u001b[39m\u001b[39mEntry with key \u001b[39m\u001b[39m{\u001b[39;00mkey\u001b[39m}\u001b[39;00m\u001b[39m already exists. Set the unique attribute to false to overried items.\u001b[39m\u001b[39m'\u001b[39m)\n\u001b[0;32m    <a href='file:///f%3A/desarrollo%20software/segwork/segwork/registry.py?line=183'>184</a>\u001b[0m \u001b[39mif\u001b[39;00m key \u001b[39min\u001b[39;00m [\u001b[39m'\u001b[39m\u001b[39m'\u001b[39m, \u001b[39mNone\u001b[39;00m]:\n\u001b[0;32m    <a href='file:///f%3A/desarrollo%20software/segwork/segwork/registry.py?line=184'>185</a>\u001b[0m     \u001b[39mraise\u001b[39;00m \u001b[39mValueError\u001b[39;00m(\u001b[39mf\u001b[39m\u001b[39m'\u001b[39m\u001b[39mAttempting to register class with empty registry key\u001b[39m\u001b[39m'\u001b[39m)\n",
      "\u001b[1;31mKeyError\u001b[0m: 'Entry with key Net already exists. Set the unique attribute to false to overried items.'"
     ]
    }
   ],
   "source": [
    "backbones_reg.add_additional_args('_description')\n",
    "\n",
    "@backbones_reg.register\n",
    "class DummyBackboneDecorated(nn.Module, smp.encoders._base.EncoderMixin):\n",
    "    \"\"\"Dummyy encoder to test compatibility with smp architectures\n",
    "    \n",
    "    Testing:\n",
    "     - Custom attributes in registry\n",
    "      - To be used in smp framework it is regquired to inherit from EncoderMixin\n",
    "    \"\"\"\n",
    "\n",
    "    _register_name='Net'\n",
    "\n",
    "    # Default params\n",
    "    params = {\n",
    "        'out_channels' : (3, 64, 256, 512),\n",
    "        'depth': 3\n",
    "    }\n",
    "\n",
    "    # Additional settings\n",
    "    pretrained_settings = None\n",
    "\n",
    "    _description = 'Formal description of encoder'\n",
    "    \n",
    "    def __init__(self, out_channels: typing.List, depth:int):\n",
    "        super(DummyBackboneDecorated, self).__init__()\n",
    "\n",
    "        # A number of channels for each encoder feature tensor, list of integers\n",
    "        self._out_channels: typing.Iterable[int] = out_channels\n",
    "\n",
    "        # A number of stages in decoder (in other words number of downsampling operations), integer\n",
    "        # use in in forward pass to reduce number of returning features\n",
    "        self._depth: int = depth\n",
    "\n",
    "        # Default number of input channels in first Conv2d layer for encoder (usually 3)\n",
    "        self._in_channels: int = 3\n",
    "\n",
    "        blocks = []\n",
    "\n",
    "        for idx in range(len(out_channels) - 1):\n",
    "            blocks.append(nn.Sequential(\n",
    "            ConvBnAct(out_channels[idx], out_channels[idx + 1], 3),\n",
    "            ConvBnAct(out_channels[idx + 1], out_channels[idx + 1], 3, stride=2),\n",
    "        ))\n",
    "\n",
    "        self.stages = nn.Sequential(*blocks)\n",
    "\n",
    "    def forward(self, x):\n",
    "        out = [x]\n",
    "\n",
    "        for stage in self.stages:\n",
    "            x = stage(x)\n",
    "            out.append(x)\n",
    "\n",
    "        return out\n",
    "\n",
    "@backbones_reg.register\n",
    "class BackboneDecoratedB(DummyBackboneDecorated):\n",
    "    \"\"\"New model with other defaults. Flexibility to configure this from within the module or with conig files\"\"\"\n",
    "    \n",
    "    _register_name = 'NetB'\n",
    "\n",
    "    # Default params\n",
    "    params = {\n",
    "        'out_channels' : (3, 256, 256, 256),\n",
    "        'output_stride': 16\n",
    "    }\n",
    "\n"
   ]
  },
  {
   "cell_type": "code",
   "execution_count": 7,
   "metadata": {},
   "outputs": [
    {
     "name": "stdout",
     "output_type": "stream",
     "text": [
      "['encoder', '_default_args', 'params', 'pretrained_settings', '_description']\n",
      "['encoder', 'pretrained_settings', 'params']\n"
     ]
    }
   ],
   "source": [
    "encoder_name = 'Net'\n",
    "\n",
    "# Framework entrypoint\n",
    "backbone_fr = backbones_reg.get_instance(encoder_name)\n",
    "\n",
    "# SMP entrypoint compatibility\n",
    "backbone = smp.encoders.get_encoder(encoder_name)\n",
    "\n",
    "# print(backbone)\n",
    "print(list(backbones_reg['Net'].keys()))\n",
    "print(list(backbones_reg['resnet34'].keys()))"
   ]
  },
  {
   "cell_type": "markdown",
   "metadata": {},
   "source": [
    "### Output of registered backbone"
   ]
  },
  {
   "cell_type": "code",
   "execution_count": 8,
   "metadata": {},
   "outputs": [
    {
     "name": "stdout",
     "output_type": "stream",
     "text": [
      "Features size...\n",
      "Stage 00: torch.Size([1, 3, 224, 224])\n",
      "Stage 01: torch.Size([1, 64, 112, 112])\n",
      "Stage 02: torch.Size([1, 256, 56, 56])\n",
      "Stage 03: torch.Size([1, 512, 28, 28])\n"
     ]
    }
   ],
   "source": [
    "x = torch.rand(1,3,224,224)\n",
    "\n",
    "out = (backbone(x))\n",
    "\n",
    "print('Features size...')\n",
    "for idx, f in enumerate(out):\n",
    "    print(f'Stage {idx:02d}: {f.size()}')"
   ]
  },
  {
   "cell_type": "markdown",
   "metadata": {},
   "source": [
    "### Using custom bakcbone"
   ]
  },
  {
   "cell_type": "code",
   "execution_count": 9,
   "metadata": {},
   "outputs": [],
   "source": [
    "model_args = {\n",
    "    'encoder_name' : 'Net',\n",
    "    'encoder_depth' : 3,\n",
    "    'encoder_weights' : None,\n",
    "    'decoder_channels' : (512, 256, 64),\n",
    "    'in_channels' : 3,\n",
    "    'classes' : 20\n",
    "}\n",
    "\n",
    "model = smp.Unet(**model_args)           "
   ]
  },
  {
   "cell_type": "code",
   "execution_count": 10,
   "metadata": {},
   "outputs": [
    {
     "data": {
      "text/plain": [
       "torch.Size([1, 20, 224, 224])"
      ]
     },
     "execution_count": 10,
     "metadata": {},
     "output_type": "execute_result"
    }
   ],
   "source": [
    "out = model(x)\n",
    "out.size()"
   ]
  },
  {
   "cell_type": "code",
   "execution_count": 16,
   "metadata": {},
   "outputs": [],
   "source": [
    "model_fr = models_reg.get_instance('unet', **model_args)"
   ]
  },
  {
   "cell_type": "code",
   "execution_count": 17,
   "metadata": {},
   "outputs": [
    {
     "data": {
      "text/plain": [
       "torch.Size([1, 20, 224, 224])"
      ]
     },
     "execution_count": 17,
     "metadata": {},
     "output_type": "execute_result"
    }
   ],
   "source": [
    "out_fr = model_fr(x)\n",
    "out_fr.size()"
   ]
  },
  {
   "cell_type": "markdown",
   "metadata": {},
   "source": [
    "## Custom registry \n",
    "Create entrypoints for modular objects"
   ]
  },
  {
   "cell_type": "code",
   "execution_count": 18,
   "metadata": {},
   "outputs": [],
   "source": [
    "from segwork.registry import ConfigurableRegistry\n",
    "datasets = ConfigurableRegistry(\n",
    "    class_key = 'dataset',\n",
    "    attr_name = '_dataset_params'\n",
    ")"
   ]
  },
  {
   "cell_type": "code",
   "execution_count": 19,
   "metadata": {},
   "outputs": [
    {
     "data": {
      "text/plain": [
       "ConfigurableRegistry(attr_name=_dataset_params, unique=False)\n",
       "            Number of registered classes: 0 \n",
       "            Registered classes: []"
      ]
     },
     "execution_count": 19,
     "metadata": {},
     "output_type": "execute_result"
    }
   ],
   "source": [
    "datasets"
   ]
  }
 ],
 "metadata": {
  "interpreter": {
   "hash": "f915bd14e41f75defdaded59260e23886f79ad3e68b01e8dfe9aedb79f73e220"
  },
  "kernelspec": {
   "display_name": "Python 3.9.9 ('.venv': venv)",
   "language": "python",
   "name": "python3"
  },
  "language_info": {
   "codemirror_mode": {
    "name": "ipython",
    "version": 3
   },
   "file_extension": ".py",
   "mimetype": "text/x-python",
   "name": "python",
   "nbconvert_exporter": "python",
   "pygments_lexer": "ipython3",
   "version": "3.9.9"
  },
  "orig_nbformat": 4
 },
 "nbformat": 4,
 "nbformat_minor": 2
}
