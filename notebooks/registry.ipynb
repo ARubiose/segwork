{
 "cells": [
  {
   "cell_type": "markdown",
   "metadata": {},
   "source": [
    "# Registry\n",
    "## Model registry - Create registry"
   ]
  },
  {
   "cell_type": "code",
   "execution_count": 1,
   "metadata": {},
   "outputs": [],
   "source": [
    "from segwork import ConfigurableRegistry\n",
    "\n",
    "dataset_reg = ConfigurableRegistry(\n",
    "    class_key='dataset',\n",
    "    unique = True,\n",
    "    additional_args=['transform', 'target_transform'],\n",
    ")"
   ]
  },
  {
   "cell_type": "code",
   "execution_count": 2,
   "metadata": {},
   "outputs": [],
   "source": [
    "from segwork.data.drone_dataset import DroneDataset"
   ]
  },
  {
   "cell_type": "code",
   "execution_count": 3,
   "metadata": {},
   "outputs": [],
   "source": [
    "dataset_reg['drone'] = {\n",
    "    'dataset': DroneDataset}"
   ]
  },
  {
   "cell_type": "code",
   "execution_count": 4,
   "metadata": {},
   "outputs": [
    {
     "data": {
      "text/plain": [
       "ConfigurableRegistry\n",
       "\tattr_name: _register_name\n",
       "\tunique: True\n",
       "\tNumber of registered classes: 1 \n",
       "\tRegistered classes: ['drone']\n",
       "\tClass key: dataset\n",
       "\tAttribute args: _default_args\n",
       "\tAttribute kwargs: _default_kwargs\n",
       "\tAdditional info from attributes: ['transform', 'target_transform']"
      ]
     },
     "execution_count": 4,
     "metadata": {},
     "output_type": "execute_result"
    }
   ],
   "source": [
    "dataset_reg"
   ]
  },
  {
   "cell_type": "markdown",
   "metadata": {},
   "source": [
    "## Model registry - Add items to a registry"
   ]
  },
  {
   "cell_type": "code",
   "execution_count": 5,
   "metadata": {},
   "outputs": [],
   "source": [
    "import torch.nn as nn\n",
    "from segwork.model import models_reg"
   ]
  },
  {
   "cell_type": "code",
   "execution_count": 6,
   "metadata": {},
   "outputs": [],
   "source": [
    "@models_reg.register\n",
    "class NeuralNetworkDecorated(nn.Module):\n",
    "\n",
    "    _register_name='Net'\n",
    "\n",
    "    _default_kwargs = {\n",
    "        'size' : 28\n",
    "    }\n",
    "    \n",
    "    def __init__(self, size: int = 28):\n",
    "        super(NeuralNetworkDecorated, self).__init__()\n",
    "        self.flatten = nn.Flatten()\n",
    "        self.linear_relu_stack = nn.Sequential(\n",
    "            nn.Linear(size*size, 512),\n",
    "            nn.ReLU(),\n",
    "            nn.Linear(512, 512),\n",
    "            nn.ReLU(),\n",
    "            nn.Linear(512, 10),\n",
    "        )\n",
    "\n",
    "    def forward(self, x):\n",
    "        x = self.flatten(x)\n",
    "        logits = self.linear_relu_stack(x)\n",
    "        return logits\n",
    "        \n",
    "class NeuralNetworkDecoratedB(nn.Module):\n",
    "\n",
    "    _register_name='NetBig'\n",
    "\n",
    "    _default_kwargs = {\n",
    "        'size' : 112\n",
    "    }"
   ]
  },
  {
   "cell_type": "code",
   "execution_count": 7,
   "metadata": {},
   "outputs": [
    {
     "ename": "AssertionError",
     "evalue": "Value must have a key model containing a reference to the class.",
     "output_type": "error",
     "traceback": [
      "\u001b[1;31m---------------------------------------------------------------------------\u001b[0m",
      "\u001b[1;31mAssertionError\u001b[0m                            Traceback (most recent call last)",
      "\u001b[1;32m~\\AppData\\Local\\Temp\\ipykernel_4840\\2406053431.py\u001b[0m in \u001b[0;36m<module>\u001b[1;34m\u001b[0m\n\u001b[0;32m      1\u001b[0m models_reg['NetBig'] = {\n\u001b[1;32m----> 2\u001b[1;33m     \u001b[1;34m'wrong_key'\u001b[0m\u001b[1;33m:\u001b[0m \u001b[0mNeuralNetworkDecoratedB\u001b[0m\u001b[1;33m\u001b[0m\u001b[1;33m\u001b[0m\u001b[0m\n\u001b[0m\u001b[0;32m      3\u001b[0m }\n",
      "\u001b[1;32mc:\\Users\\alvar\\Projects\\segwork\\segwork\\registry.py\u001b[0m in \u001b[0;36m__setitem__\u001b[1;34m(self, key, value)\u001b[0m\n\u001b[0;32m    148\u001b[0m             \u001b[0mkey\u001b[0m \u001b[1;33m(\u001b[0m\u001b[0mtyping\u001b[0m\u001b[1;33m.\u001b[0m\u001b[0mHashable\u001b[0m\u001b[1;33m)\u001b[0m\u001b[1;33m:\u001b[0m \u001b[0mLookup\u001b[0m \u001b[0mkey\u001b[0m\u001b[1;33m.\u001b[0m\u001b[1;33m\u001b[0m\u001b[1;33m\u001b[0m\u001b[0m\n\u001b[0;32m    149\u001b[0m         \"\"\"\n\u001b[1;32m--> 150\u001b[1;33m         \u001b[0mself\u001b[0m\u001b[1;33m.\u001b[0m\u001b[0m_validate_register\u001b[0m\u001b[1;33m(\u001b[0m\u001b[0mkey\u001b[0m\u001b[1;33m,\u001b[0m \u001b[0mvalue\u001b[0m\u001b[1;33m)\u001b[0m\u001b[1;33m\u001b[0m\u001b[1;33m\u001b[0m\u001b[0m\n\u001b[0m\u001b[0;32m    151\u001b[0m         \u001b[0mself\u001b[0m\u001b[1;33m.\u001b[0m\u001b[0m_register\u001b[0m\u001b[1;33m(\u001b[0m\u001b[0mkey\u001b[0m\u001b[1;33m,\u001b[0m \u001b[0mvalue\u001b[0m\u001b[1;33m)\u001b[0m\u001b[1;33m\u001b[0m\u001b[1;33m\u001b[0m\u001b[0m\n\u001b[0;32m    152\u001b[0m \u001b[1;33m\u001b[0m\u001b[0m\n",
      "\u001b[1;32mc:\\Users\\alvar\\Projects\\segwork\\segwork\\registry.py\u001b[0m in \u001b[0;36m_validate_register\u001b[1;34m(self, key, value)\u001b[0m\n\u001b[0;32m    168\u001b[0m         \u001b[1;34m\"\"\"Validate register\"\"\"\u001b[0m\u001b[1;33m\u001b[0m\u001b[1;33m\u001b[0m\u001b[0m\n\u001b[0;32m    169\u001b[0m         \u001b[0mself\u001b[0m\u001b[1;33m.\u001b[0m\u001b[0m_validate_key\u001b[0m\u001b[1;33m(\u001b[0m\u001b[0mkey\u001b[0m\u001b[1;33m)\u001b[0m\u001b[1;33m\u001b[0m\u001b[1;33m\u001b[0m\u001b[0m\n\u001b[1;32m--> 170\u001b[1;33m         \u001b[0mself\u001b[0m\u001b[1;33m.\u001b[0m\u001b[0m_validate_value\u001b[0m\u001b[1;33m(\u001b[0m\u001b[0mvalue\u001b[0m\u001b[1;33m)\u001b[0m\u001b[1;33m\u001b[0m\u001b[1;33m\u001b[0m\u001b[0m\n\u001b[0m\u001b[0;32m    171\u001b[0m \u001b[1;33m\u001b[0m\u001b[0m\n\u001b[0;32m    172\u001b[0m     \u001b[1;32mdef\u001b[0m \u001b[0m_validate_key\u001b[0m\u001b[1;33m(\u001b[0m\u001b[0mself\u001b[0m\u001b[1;33m,\u001b[0m \u001b[0mkey\u001b[0m\u001b[1;33m)\u001b[0m\u001b[1;33m:\u001b[0m\u001b[1;33m\u001b[0m\u001b[1;33m\u001b[0m\u001b[0m\n",
      "\u001b[1;32mc:\\Users\\alvar\\Projects\\segwork\\segwork\\registry.py\u001b[0m in \u001b[0;36m_validate_value\u001b[1;34m(self, value)\u001b[0m\n\u001b[0;32m    376\u001b[0m \u001b[1;33m\u001b[0m\u001b[0m\n\u001b[0;32m    377\u001b[0m     \u001b[1;32mdef\u001b[0m \u001b[0m_validate_value\u001b[0m\u001b[1;33m(\u001b[0m\u001b[0mself\u001b[0m\u001b[1;33m,\u001b[0m \u001b[0mvalue\u001b[0m\u001b[1;33m:\u001b[0m \u001b[0mtyping\u001b[0m\u001b[1;33m.\u001b[0m\u001b[0mDict\u001b[0m\u001b[1;33m)\u001b[0m\u001b[1;33m:\u001b[0m\u001b[1;33m\u001b[0m\u001b[1;33m\u001b[0m\u001b[0m\n\u001b[1;32m--> 378\u001b[1;33m         \u001b[1;32massert\u001b[0m \u001b[0mself\u001b[0m\u001b[1;33m.\u001b[0m\u001b[0m_class_key\u001b[0m \u001b[1;32min\u001b[0m \u001b[0mvalue\u001b[0m\u001b[1;33m,\u001b[0m \u001b[1;34mf'Value must have a key {self._class_key} containing a reference to the class.'\u001b[0m\u001b[1;33m\u001b[0m\u001b[1;33m\u001b[0m\u001b[0m\n\u001b[0m\u001b[0;32m    379\u001b[0m         \u001b[1;31m# Warning if no args are store.\u001b[0m\u001b[1;33m\u001b[0m\u001b[1;33m\u001b[0m\u001b[1;33m\u001b[0m\u001b[0m\n\u001b[0;32m    380\u001b[0m \u001b[1;33m\u001b[0m\u001b[0m\n",
      "\u001b[1;31mAssertionError\u001b[0m: Value must have a key model containing a reference to the class."
     ]
    }
   ],
   "source": [
    "models_reg['NetBig'] = {\n",
    "    'wrong_key': NeuralNetworkDecoratedB\n",
    "}"
   ]
  },
  {
   "cell_type": "code",
   "execution_count": 7,
   "metadata": {},
   "outputs": [],
   "source": [
    "models_reg['NetBig'] = {\n",
    "    'model': NeuralNetworkDecoratedB\n",
    "}"
   ]
  },
  {
   "cell_type": "code",
   "execution_count": 8,
   "metadata": {},
   "outputs": [
    {
     "data": {
      "text/plain": [
       "ConfigurableRegistry\n",
       "\tattr_name: _register_name\n",
       "\tunique: False\n",
       "\tNumber of registered classes: 11 \n",
       "\tRegistered classes: ['unet', 'unet++', 'manet', 'linknet', 'fpn', 'psp', 'pan', 'deeplabv3', 'deeplabv3plus', 'Net', 'NetBig']\n",
       "\tClass key: model\n",
       "\tAttribute args: _default_args\n",
       "\tAttribute kwargs: _default_kwargs\n",
       "\tAdditional info from attributes: []"
      ]
     },
     "execution_count": 8,
     "metadata": {},
     "output_type": "execute_result"
    }
   ],
   "source": [
    "models_reg"
   ]
  },
  {
   "cell_type": "code",
   "execution_count": 10,
   "metadata": {},
   "outputs": [
    {
     "data": {
      "text/plain": [
       "NeuralNetworkDecorated(\n",
       "  (flatten): Flatten(start_dim=1, end_dim=-1)\n",
       "  (linear_relu_stack): Sequential(\n",
       "    (0): Linear(in_features=784, out_features=512, bias=True)\n",
       "    (1): ReLU()\n",
       "    (2): Linear(in_features=512, out_features=512, bias=True)\n",
       "    (3): ReLU()\n",
       "    (4): Linear(in_features=512, out_features=10, bias=True)\n",
       "  )\n",
       ")"
      ]
     },
     "execution_count": 10,
     "metadata": {},
     "output_type": "execute_result"
    }
   ],
   "source": [
    "model_args = {} \n",
    "model = models_reg.get_instance('Net', **model_args)\n",
    "model"
   ]
  },
  {
   "cell_type": "markdown",
   "metadata": {},
   "source": [
    "## Backbones registry - Integration with smp"
   ]
  },
  {
   "cell_type": "code",
   "execution_count": 11,
   "metadata": {},
   "outputs": [],
   "source": [
    "import typing\n",
    "\n",
    "import torch\n",
    "import torch.nn as nn\n",
    "import segmentation_models_pytorch as smp\n",
    "\n",
    "from segwork.model import backbones_reg"
   ]
  },
  {
   "cell_type": "code",
   "execution_count": 12,
   "metadata": {},
   "outputs": [
    {
     "data": {
      "text/plain": [
       "ConfigurableRegistry\n",
       "\tattr_name: _register_name\n",
       "\tunique: False\n",
       "\tNumber of registered classes: 113 \n",
       "\tRegistered classes: ['resnet18', 'resnet34', 'resnet50', 'resnet101', 'resnet152', 'resnext50_32x4d', 'resnext101_32x4d', 'resnext101_32x8d', 'resnext101_32x16d', 'resnext101_32x32d', 'resnext101_32x48d', 'dpn68', 'dpn68b', 'dpn92', 'dpn98', 'dpn107', 'dpn131', 'vgg11', 'vgg11_bn', 'vgg13', 'vgg13_bn', 'vgg16', 'vgg16_bn', 'vgg19', 'vgg19_bn', 'senet154', 'se_resnet50', 'se_resnet101', 'se_resnet152', 'se_resnext50_32x4d', 'se_resnext101_32x4d', 'densenet121', 'densenet169', 'densenet201', 'densenet161', 'inceptionresnetv2', 'inceptionv4', 'efficientnet-b0', 'efficientnet-b1', 'efficientnet-b2', 'efficientnet-b3', 'efficientnet-b4', 'efficientnet-b5', 'efficientnet-b6', 'efficientnet-b7', 'mobilenet_v2', 'xception', 'timm-efficientnet-b0', 'timm-efficientnet-b1', 'timm-efficientnet-b2', 'timm-efficientnet-b3', 'timm-efficientnet-b4', 'timm-efficientnet-b5', 'timm-efficientnet-b6', 'timm-efficientnet-b7', 'timm-efficientnet-b8', 'timm-efficientnet-l2', 'timm-tf_efficientnet_lite0', 'timm-tf_efficientnet_lite1', 'timm-tf_efficientnet_lite2', 'timm-tf_efficientnet_lite3', 'timm-tf_efficientnet_lite4', 'timm-resnest14d', 'timm-resnest26d', 'timm-resnest50d', 'timm-resnest101e', 'timm-resnest200e', 'timm-resnest269e', 'timm-resnest50d_4s2x40d', 'timm-resnest50d_1s4x24d', 'timm-res2net50_26w_4s', 'timm-res2net101_26w_4s', 'timm-res2net50_26w_6s', 'timm-res2net50_26w_8s', 'timm-res2net50_48w_2s', 'timm-res2net50_14w_8s', 'timm-res2next50', 'timm-regnetx_002', 'timm-regnetx_004', 'timm-regnetx_006', 'timm-regnetx_008', 'timm-regnetx_016', 'timm-regnetx_032', 'timm-regnetx_040', 'timm-regnetx_064', 'timm-regnetx_080', 'timm-regnetx_120', 'timm-regnetx_160', 'timm-regnetx_320', 'timm-regnety_002', 'timm-regnety_004', 'timm-regnety_006', 'timm-regnety_008', 'timm-regnety_016', 'timm-regnety_032', 'timm-regnety_040', 'timm-regnety_064', 'timm-regnety_080', 'timm-regnety_120', 'timm-regnety_160', 'timm-regnety_320', 'timm-skresnet18', 'timm-skresnet34', 'timm-skresnext50_32x4d', 'timm-mobilenetv3_large_075', 'timm-mobilenetv3_large_100', 'timm-mobilenetv3_large_minimal_100', 'timm-mobilenetv3_small_075', 'timm-mobilenetv3_small_100', 'timm-mobilenetv3_small_minimal_100', 'timm-gernet_s', 'timm-gernet_m', 'timm-gernet_l']\n",
       "\tClass key: encoder\n",
       "\tAttribute args: _default_args\n",
       "\tAttribute kwargs: params\n",
       "\tAdditional info from attributes: ['pretrained_settings']"
      ]
     },
     "execution_count": 12,
     "metadata": {},
     "output_type": "execute_result"
    }
   ],
   "source": [
    "backbones_reg"
   ]
  },
  {
   "cell_type": "code",
   "execution_count": 13,
   "metadata": {},
   "outputs": [],
   "source": [
    "backbones_reg.add_additional_args('_description')\n",
    "\n",
    "@backbones_reg.register\n",
    "class DummyBackboneDecorated(nn.Module, smp.encoders._base.EncoderMixin):\n",
    "    \"\"\"Dummyy encoder to test compatibility with smp architectures\n",
    "    \n",
    "    Testing:\n",
    "     - Custom attributes in registry\n",
    "      - To be used in smp framework it is regquired to inherit from EncoderMixin\n",
    "    \"\"\"\n",
    "\n",
    "    _register_name='Net'\n",
    "\n",
    "    # Default params\n",
    "    params = {\n",
    "        'out_channels' : (3, 64, 256, 512),\n",
    "        'depth': 3\n",
    "    }\n",
    "\n",
    "    # Additional settings\n",
    "    pretrained_settings = None\n",
    "\n",
    "    _description = 'Formal description of encoder'\n",
    "    \n",
    "    def __init__(self, out_channels: typing.List, depth:int):\n",
    "        super(DummyBackboneDecorated, self).__init__()\n",
    "\n",
    "        # A number of channels for each encoder feature tensor, list of integers\n",
    "        self._out_channels: typing.Iterable[int] = out_channels\n",
    "\n",
    "        # A number of stages in decoder (in other words number of downsampling operations), integer\n",
    "        # use in in forward pass to reduce number of returning features\n",
    "        self._depth: int = depth\n",
    "\n",
    "        # Default number of input channels in first Conv2d layer for encoder (usually 3)\n",
    "        self._in_channels: int = 3\n",
    "\n",
    "        blocks = []\n",
    "\n",
    "        for idx in range(len(out_channels) - 1):\n",
    "            blocks.append(nn.Sequential(\n",
    "            nn.Conv2d(out_channels[idx], out_channels[idx + 1], 3, padding=1),\n",
    "            nn.Conv2d(out_channels[idx + 1], out_channels[idx + 1], 3, stride=2, padding=1),\n",
    "        ))\n",
    "\n",
    "        self.stages = nn.Sequential(*blocks)\n",
    "\n",
    "    def forward(self, x):\n",
    "        out = [x]\n",
    "\n",
    "        for stage in self.stages:\n",
    "            x = stage(x)\n",
    "            out.append(x)\n",
    "\n",
    "        return out\n",
    "\n"
   ]
  },
  {
   "cell_type": "code",
   "execution_count": 14,
   "metadata": {},
   "outputs": [
    {
     "name": "stdout",
     "output_type": "stream",
     "text": [
      "['encoder', '_default_args', 'params', 'pretrained_settings', '_description']\n",
      "['encoder', 'pretrained_settings', 'params']\n"
     ]
    }
   ],
   "source": [
    "encoder_name = 'Net'\n",
    "\n",
    "# Framework entrypoint\n",
    "backbone_fr = backbones_reg.get_instance(encoder_name)\n",
    "\n",
    "# SMP entrypoint compatibility\n",
    "backbone = smp.encoders.get_encoder(encoder_name)\n",
    "\n",
    "# print(backbone)\n",
    "print(list(backbones_reg['Net'].keys()))\n",
    "print(list(backbones_reg['resnet34'].keys()))"
   ]
  },
  {
   "cell_type": "markdown",
   "metadata": {},
   "source": [
    "### Output of registered backbone"
   ]
  },
  {
   "cell_type": "code",
   "execution_count": 15,
   "metadata": {},
   "outputs": [
    {
     "name": "stdout",
     "output_type": "stream",
     "text": [
      "Features size...\n",
      "Stage 00: torch.Size([1, 3, 224, 224])\n",
      "Stage 01: torch.Size([1, 64, 112, 112])\n",
      "Stage 02: torch.Size([1, 256, 56, 56])\n",
      "Stage 03: torch.Size([1, 512, 28, 28])\n"
     ]
    }
   ],
   "source": [
    "x = torch.rand(1,3,224,224)\n",
    "\n",
    "out = (backbone(x))\n",
    "\n",
    "print('Features size...')\n",
    "for idx, f in enumerate(out):\n",
    "    print(f'Stage {idx:02d}: {f.size()}')"
   ]
  },
  {
   "cell_type": "markdown",
   "metadata": {},
   "source": [
    "### Using custom bakcbone"
   ]
  },
  {
   "cell_type": "code",
   "execution_count": 16,
   "metadata": {},
   "outputs": [],
   "source": [
    "model_args = {\n",
    "    'encoder_name' : 'Net',\n",
    "    'encoder_depth' : 3,\n",
    "    'encoder_weights' : None,\n",
    "    'decoder_channels' : (512, 256, 64),\n",
    "    'in_channels' : 3,\n",
    "    'classes' : 20\n",
    "}\n",
    "\n",
    "model = smp.Unet(**model_args)           "
   ]
  },
  {
   "cell_type": "code",
   "execution_count": 17,
   "metadata": {},
   "outputs": [
    {
     "data": {
      "text/plain": [
       "torch.Size([1, 20, 224, 224])"
      ]
     },
     "execution_count": 17,
     "metadata": {},
     "output_type": "execute_result"
    }
   ],
   "source": [
    "out = model(x)\n",
    "out.size()"
   ]
  },
  {
   "cell_type": "code",
   "execution_count": 18,
   "metadata": {},
   "outputs": [],
   "source": [
    "model_fr = models_reg.get_instance('unet', **model_args)"
   ]
  },
  {
   "cell_type": "code",
   "execution_count": 19,
   "metadata": {},
   "outputs": [
    {
     "data": {
      "text/plain": [
       "torch.Size([1, 20, 224, 224])"
      ]
     },
     "execution_count": 19,
     "metadata": {},
     "output_type": "execute_result"
    }
   ],
   "source": [
    "out_fr = model_fr(x)\n",
    "out_fr.size()"
   ]
  }
 ],
 "metadata": {
  "interpreter": {
   "hash": "f915bd14e41f75defdaded59260e23886f79ad3e68b01e8dfe9aedb79f73e220"
  },
  "kernelspec": {
   "display_name": "Python 3.9.9 ('.venv': venv)",
   "language": "python",
   "name": "python3"
  },
  "language_info": {
   "codemirror_mode": {
    "name": "ipython",
    "version": 3
   },
   "file_extension": ".py",
   "mimetype": "text/x-python",
   "name": "python",
   "nbconvert_exporter": "python",
   "pygments_lexer": "ipython3",
   "version": "3.9.9"
  },
  "orig_nbformat": 4
 },
 "nbformat": 4,
 "nbformat_minor": 2
}
