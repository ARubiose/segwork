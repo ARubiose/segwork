{
 "cells": [
  {
   "cell_type": "markdown",
   "metadata": {},
   "source": [
    "## Model registry"
   ]
  },
  {
   "cell_type": "code",
   "execution_count": 1,
   "metadata": {},
   "outputs": [],
   "source": [
    "import torch.nn as nn\n",
    "from segwork.registry import  backbones"
   ]
  },
  {
   "cell_type": "code",
   "execution_count": 2,
   "metadata": {},
   "outputs": [],
   "source": [
    "@backbones.register\n",
    "class NeuralNetworkDecorated(nn.Module):\n",
    "\n",
    "    _register_name='Net'\n",
    "    \n",
    "    def __init__(self, size: int = 28):\n",
    "        super(NeuralNetworkDecorated, self).__init__()\n",
    "        self.flatten = nn.Flatten()\n",
    "        self.linear_relu_stack = nn.Sequential(\n",
    "            nn.Linear(size*size, 512),\n",
    "            nn.ReLU(),\n",
    "            nn.Linear(512, 512),\n",
    "            nn.ReLU(),\n",
    "            nn.Linear(512, 10),\n",
    "        )\n",
    "\n",
    "    def forward(self, x):\n",
    "        x = self.flatten(x)\n",
    "        logits = self.linear_relu_stack(x)\n",
    "        return logits\n",
    "        "
   ]
  },
  {
   "cell_type": "code",
   "execution_count": 3,
   "metadata": {},
   "outputs": [
    {
     "name": "stdout",
     "output_type": "stream",
     "text": [
      "{'model_name': 'Net', 'model_args': {'size': 28}}\n"
     ]
    }
   ],
   "source": [
    "import json\n",
    "\n",
    "# Load config (TODO)\n",
    "config_path = './notebooks/config.json'\n",
    "with open(config_path) as f:\n",
    "    config = json.load(f)\n",
    "print(config)\n",
    "model_name = config['model_name']   # Net\n",
    "model_args = config['model_args']\n",
    "\n",
    "# Build model from registry\n",
    "model = backbones.get_instance(model_name, **model_args)"
   ]
  },
  {
   "cell_type": "code",
   "execution_count": 4,
   "metadata": {},
   "outputs": [
    {
     "data": {
      "text/plain": [
       "NeuralNetworkDecorated(\n",
       "  (flatten): Flatten(start_dim=1, end_dim=-1)\n",
       "  (linear_relu_stack): Sequential(\n",
       "    (0): Linear(in_features=784, out_features=512, bias=True)\n",
       "    (1): ReLU()\n",
       "    (2): Linear(in_features=512, out_features=512, bias=True)\n",
       "    (3): ReLU()\n",
       "    (4): Linear(in_features=512, out_features=10, bias=True)\n",
       "  )\n",
       ")"
      ]
     },
     "execution_count": 4,
     "metadata": {},
     "output_type": "execute_result"
    }
   ],
   "source": [
    "model"
   ]
  },
  {
   "cell_type": "code",
   "execution_count": 6,
   "metadata": {},
   "outputs": [
    {
     "name": "stdout",
     "output_type": "stream",
     "text": [
      "ConfigurableRegistry(attr_name=_register_name, unique=False)\n",
      "            Number of registered classes: 114 \n",
      "            Registered classes: ['resnet18', 'resnet34', 'resnet50', 'resnet101', 'resnet152', 'resnext50_32x4d', 'resnext101_32x4d', 'resnext101_32x8d', 'resnext101_32x16d', 'resnext101_32x32d', 'resnext101_32x48d', 'dpn68', 'dpn68b', 'dpn92', 'dpn98', 'dpn107', 'dpn131', 'vgg11', 'vgg11_bn', 'vgg13', 'vgg13_bn', 'vgg16', 'vgg16_bn', 'vgg19', 'vgg19_bn', 'senet154', 'se_resnet50', 'se_resnet101', 'se_resnet152', 'se_resnext50_32x4d', 'se_resnext101_32x4d', 'densenet121', 'densenet169', 'densenet201', 'densenet161', 'inceptionresnetv2', 'inceptionv4', 'efficientnet-b0', 'efficientnet-b1', 'efficientnet-b2', 'efficientnet-b3', 'efficientnet-b4', 'efficientnet-b5', 'efficientnet-b6', 'efficientnet-b7', 'mobilenet_v2', 'xception', 'timm-efficientnet-b0', 'timm-efficientnet-b1', 'timm-efficientnet-b2', 'timm-efficientnet-b3', 'timm-efficientnet-b4', 'timm-efficientnet-b5', 'timm-efficientnet-b6', 'timm-efficientnet-b7', 'timm-efficientnet-b8', 'timm-efficientnet-l2', 'timm-tf_efficientnet_lite0', 'timm-tf_efficientnet_lite1', 'timm-tf_efficientnet_lite2', 'timm-tf_efficientnet_lite3', 'timm-tf_efficientnet_lite4', 'timm-resnest14d', 'timm-resnest26d', 'timm-resnest50d', 'timm-resnest101e', 'timm-resnest200e', 'timm-resnest269e', 'timm-resnest50d_4s2x40d', 'timm-resnest50d_1s4x24d', 'timm-res2net50_26w_4s', 'timm-res2net101_26w_4s', 'timm-res2net50_26w_6s', 'timm-res2net50_26w_8s', 'timm-res2net50_48w_2s', 'timm-res2net50_14w_8s', 'timm-res2next50', 'timm-regnetx_002', 'timm-regnetx_004', 'timm-regnetx_006', 'timm-regnetx_008', 'timm-regnetx_016', 'timm-regnetx_032', 'timm-regnetx_040', 'timm-regnetx_064', 'timm-regnetx_080', 'timm-regnetx_120', 'timm-regnetx_160', 'timm-regnetx_320', 'timm-regnety_002', 'timm-regnety_004', 'timm-regnety_006', 'timm-regnety_008', 'timm-regnety_016', 'timm-regnety_032', 'timm-regnety_040', 'timm-regnety_064', 'timm-regnety_080', 'timm-regnety_120', 'timm-regnety_160', 'timm-regnety_320', 'timm-skresnet18', 'timm-skresnet34', 'timm-skresnext50_32x4d', 'timm-mobilenetv3_large_075', 'timm-mobilenetv3_large_100', 'timm-mobilenetv3_large_minimal_100', 'timm-mobilenetv3_small_075', 'timm-mobilenetv3_small_100', 'timm-mobilenetv3_small_minimal_100', 'timm-gernet_s', 'timm-gernet_m', 'timm-gernet_l', 'Net']\n"
     ]
    }
   ],
   "source": [
    "print(backbones)"
   ]
  },
  {
   "cell_type": "code",
   "execution_count": 6,
   "metadata": {},
   "outputs": [
    {
     "data": {
      "text/html": [
       "<img src=\"https://mermaid.ink/img/Zmxvd2NoYXJ0IFRCCgl0aXRsZVs8dT5NeSBncmFwaCBuYW1lPC91Pl0Kc3R5bGUgdGl0bGUgZmlsbDojRkZGLHN0cm9rZTojRkZGCgl4KHgpCglmbGF0dGVuKCJGbGF0dGVuW3N0YXJ0X2RpbT0xLCBlbmRfZGltPS0xXSIpCgl4IC0tPmZsYXR0ZW4gCglsaW5lYXJfcmVsdV9zdGFja18wKCJMaW5lYXJbaW5fZmVhdHVyZXM9MTAwLCBvdXRfZmVhdHVyZXM9NTEyLCBiaWFzPVRydWVdIikKCWZsYXR0ZW4gLS0+bGluZWFyX3JlbHVfc3RhY2tfMCAKCWxpbmVhcl9yZWx1X3N0YWNrXzEoIlJlTFVbXSIpCglsaW5lYXJfcmVsdV9zdGFja18wIC0tPmxpbmVhcl9yZWx1X3N0YWNrXzEgCglsaW5lYXJfcmVsdV9zdGFja18yKCJMaW5lYXJbaW5fZmVhdHVyZXM9NTEyLCBvdXRfZmVhdHVyZXM9NTEyLCBiaWFzPVRydWVdIikKCWxpbmVhcl9yZWx1X3N0YWNrXzEgLS0+bGluZWFyX3JlbHVfc3RhY2tfMiAKCWxpbmVhcl9yZWx1X3N0YWNrXzMoIlJlTFVbXSIpCglsaW5lYXJfcmVsdV9zdGFja18yIC0tPmxpbmVhcl9yZWx1X3N0YWNrXzMgCglsaW5lYXJfcmVsdV9zdGFja180KCJMaW5lYXJbaW5fZmVhdHVyZXM9NTEyLCBvdXRfZmVhdHVyZXM9MTAsIGJpYXM9VHJ1ZV0iKQoJbGluZWFyX3JlbHVfc3RhY2tfMyAtLT5saW5lYXJfcmVsdV9zdGFja180IAoJb3V0cHV0Pm91dHB1dF0KCWxpbmVhcl9yZWx1X3N0YWNrXzQgLS0+b3V0cHV0IAo=\"/>"
      ],
      "text/plain": [
       "<IPython.core.display.Image object>"
      ]
     },
     "metadata": {},
     "output_type": "display_data"
    }
   ],
   "source": [
    "from segwork.utils.mermaid import TorchFXParser\n",
    "\n",
    "parser = TorchFXParser(name = 'My graph name', module=model)\n",
    "parser.display_graph()"
   ]
  },
  {
   "cell_type": "code",
   "execution_count": null,
   "metadata": {},
   "outputs": [],
   "source": []
  },
  {
   "cell_type": "code",
   "execution_count": null,
   "metadata": {},
   "outputs": [],
   "source": []
  }
 ],
 "metadata": {
  "interpreter": {
   "hash": "beed4cc9617b55088e1f5ae85e19ad3d2b8672641835146616eec05eb506ad64"
  },
  "kernelspec": {
   "display_name": "Python 3.7.9 ('.venv': venv)",
   "language": "python",
   "name": "python3"
  },
  "language_info": {
   "codemirror_mode": {
    "name": "ipython",
    "version": 3
   },
   "file_extension": ".py",
   "mimetype": "text/x-python",
   "name": "python",
   "nbconvert_exporter": "python",
   "pygments_lexer": "ipython3",
   "version": "3.7.9"
  },
  "orig_nbformat": 4
 },
 "nbformat": 4,
 "nbformat_minor": 2
}
