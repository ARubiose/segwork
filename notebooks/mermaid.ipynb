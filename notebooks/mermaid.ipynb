{
 "cells": [
  {
   "cell_type": "markdown",
   "metadata": {},
   "source": [
    "# Mermaid integration\n",
    "Tool to visualize model operations"
   ]
  },
  {
   "cell_type": "code",
   "execution_count": 3,
   "metadata": {},
   "outputs": [],
   "source": [
    "\n",
    "import logging\n",
    "logging.basicConfig(format='%(name)s %(levelname)s %(message)s', level=logging.DEBUG)\n",
    "\n",
    "# Segwork\n",
    "from segwork.utils.mermaid.mermaid import TorchFXParser"
   ]
  },
  {
   "cell_type": "markdown",
   "metadata": {},
   "source": [
    "### Register module"
   ]
  },
  {
   "cell_type": "code",
   "execution_count": 1,
   "metadata": {},
   "outputs": [],
   "source": [
    "from segwork.registry import modules\n",
    "from segwork.model.layer import ConvBnAct"
   ]
  },
  {
   "cell_type": "markdown",
   "metadata": {},
   "source": [
    "### Create Mermaid parser"
   ]
  },
  {
   "cell_type": "code",
   "execution_count": 4,
   "metadata": {},
   "outputs": [],
   "source": [
    "module_name = 'ConvBnAct'\n",
    "module_args = dict(in_channels=254, out_channels=512, kernel_size=3) \n",
    "module = modules.get(module_name, **module_args)\n",
    "\n",
    "parser = TorchFXParser(name = module_name, module=module)"
   ]
  },
  {
   "cell_type": "code",
   "execution_count": 5,
   "metadata": {},
   "outputs": [
    {
     "name": "stderr",
     "output_type": "stream",
     "text": [
      "segwork.utils.mermaid.mermaid INFO File f:\\Desarrollo software\\segwork\\notebooks\\ConvBnAct.md not found. Saving file...\n"
     ]
    },
    {
     "data": {
      "text/html": [
       "<img src=\"https://mermaid.ink/img/Zmxvd2NoYXJ0IFRCCgl0aXRsZVs8dT5Db252Qm5BY3Q8L3U+XQpzdHlsZSB0aXRsZSBmaWxsOiNGRkYsc3Ryb2tlOiNGRkYKCXgoeCkKCWNvbnYoIkNvbnYyZFsyNTQsIDUxMiwga2VybmVsX3NpemU9WzMsIDNdLCBzdHJpZGU9WzEsIDFdLCBwYWRkaW5nPVsxLCAxXSwgYmlhcz1GYWxzZV0iKQoJeCAtLT5jb252IAoJYm4oIkJhdGNoTm9ybTJkWzUxMiwgZXBzPTFlLTA1LCBtb21lbnR1bT0wLjEsIGFmZmluZT1UcnVlLCB0cmFja19ydW5uaW5nX3N0YXRzPVRydWVdIikKCWNvbnYgLS0+Ym4gCglhY3QoIlJlTFVbaW5wbGFjZT1UcnVlXSIpCglibiAtLT5hY3QgCglvdXRwdXQ+b3V0cHV0XQoJYWN0IC0tPm91dHB1dCAK\"/>"
      ],
      "text/plain": [
       "<IPython.core.display.Image object>"
      ]
     },
     "metadata": {},
     "output_type": "display_data"
    }
   ],
   "source": [
    "# parser.diagram.save()\n",
    "parser.display_graph()"
   ]
  },
  {
   "cell_type": "code",
   "execution_count": null,
   "metadata": {},
   "outputs": [],
   "source": []
  }
 ],
 "metadata": {
  "interpreter": {
   "hash": "f915bd14e41f75defdaded59260e23886f79ad3e68b01e8dfe9aedb79f73e220"
  },
  "kernelspec": {
   "display_name": "Python 3.9.9 ('.venv': venv)",
   "language": "python",
   "name": "python3"
  },
  "language_info": {
   "codemirror_mode": {
    "name": "ipython",
    "version": 3
   },
   "file_extension": ".py",
   "mimetype": "text/x-python",
   "name": "python",
   "nbconvert_exporter": "python",
   "pygments_lexer": "ipython3",
   "version": "3.9.9"
  },
  "orig_nbformat": 4
 },
 "nbformat": 4,
 "nbformat_minor": 2
}
