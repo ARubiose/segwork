{
 "cells": [
  {
   "cell_type": "markdown",
   "metadata": {},
   "source": [
    "# Mermaid integration\n",
    "Tool to visualize model operations"
   ]
  },
  {
   "cell_type": "code",
   "execution_count": 10,
   "metadata": {},
   "outputs": [],
   "source": [
    "import os\n",
    "import sys\n",
    "import logging\n",
    "logging.basicConfig(format='%(name)s %(levelname)s %(message)s', level=logging.DEBUG)\n",
    "\n",
    "# Segwork\n",
    "from segwork.models.backbones.base import create_backbone\n",
    "from segwork.utils.mermaid.mermaid import TorchFXParser\n",
    "from segwork.utils.mermaid.style import TorchFxStyle"
   ]
  },
  {
   "cell_type": "markdown",
   "metadata": {},
   "source": [
    "### Create model"
   ]
  },
  {
   "cell_type": "code",
   "execution_count": 11,
   "metadata": {},
   "outputs": [],
   "source": [
    "model_name = 'timm/resnet18'\n",
    "model = create_backbone(model_name)"
   ]
  },
  {
   "cell_type": "code",
   "execution_count": 12,
   "metadata": {},
   "outputs": [
    {
     "data": {
      "text/plain": [
       "[{'num_chs': 64, 'reduction': 2, 'module': 'act1'},\n",
       " {'num_chs': 64, 'reduction': 4, 'module': 'layer1'},\n",
       " {'num_chs': 128, 'reduction': 8, 'module': 'layer2'},\n",
       " {'num_chs': 256, 'reduction': 16, 'module': 'layer3'},\n",
       " {'num_chs': 512, 'reduction': 32, 'module': 'layer4'}]"
      ]
     },
     "execution_count": 12,
     "metadata": {},
     "output_type": "execute_result"
    }
   ],
   "source": [
    "model.feature_info.info\n"
   ]
  },
  {
   "cell_type": "markdown",
   "metadata": {},
   "source": [
    "### Create Mermaid parser"
   ]
  },
  {
   "cell_type": "code",
   "execution_count": 13,
   "metadata": {},
   "outputs": [],
   "source": [
    "parser = TorchFXParser(name = model_name, module=model)\n",
    "parser.parse_tokens()"
   ]
  },
  {
   "cell_type": "code",
   "execution_count": 15,
   "metadata": {},
   "outputs": [
    {
     "name": "stderr",
     "output_type": "stream",
     "text": [
      "segwork.utils.mermaid.mermaid INFO File {path} not found. Saving file...\n"
     ]
    },
    {
     "ename": "TypeError",
     "evalue": "'Styles' object is not subscriptable",
     "output_type": "error",
     "traceback": [
      "\u001b[1;31m---------------------------------------------------------------------------\u001b[0m",
      "\u001b[1;31mFileNotFoundError\u001b[0m                         Traceback (most recent call last)",
      "File \u001b[1;32mf:\\desarrollo software\\segwork\\segwork\\utils\\mermaid\\mermaid.py:53\u001b[0m, in \u001b[0;36mMermaidGraph._display\u001b[1;34m(self, path)\u001b[0m\n\u001b[0;32m     <a href='file:///f%3A/desarrollo%20software/segwork/segwork/utils/mermaid/mermaid.py?line=51'>52</a>\u001b[0m \u001b[39mtry\u001b[39;00m:\n\u001b[1;32m---> <a href='file:///f%3A/desarrollo%20software/segwork/segwork/utils/mermaid/mermaid.py?line=52'>53</a>\u001b[0m     \u001b[39mwith\u001b[39;00m \u001b[39mopen\u001b[39;49m(path, \u001b[39m'\u001b[39;49m\u001b[39mr\u001b[39;49m\u001b[39m'\u001b[39;49m) \u001b[39mas\u001b[39;00m f:\n\u001b[0;32m     <a href='file:///f%3A/desarrollo%20software/segwork/segwork/utils/mermaid/mermaid.py?line=53'>54</a>\u001b[0m         graph \u001b[39m=\u001b[39m f\u001b[39m.\u001b[39mread()\n",
      "\u001b[1;31mFileNotFoundError\u001b[0m: [Errno 2] No such file or directory: 'f:\\\\Desarrollo software\\\\segwork\\\\notebooks\\\\mermaid.md'",
      "\nDuring handling of the above exception, another exception occurred:\n",
      "\u001b[1;31mTypeError\u001b[0m                                 Traceback (most recent call last)",
      "\u001b[1;32mf:\\Desarrollo software\\segwork\\notebooks\\mermaid.ipynb Cell 9'\u001b[0m in \u001b[0;36m<cell line: 2>\u001b[1;34m()\u001b[0m\n\u001b[0;32m      <a href='vscode-notebook-cell:/f%3A/Desarrollo%20software/segwork/notebooks/mermaid.ipynb#ch0000008?line=0'>1</a>\u001b[0m \u001b[39m# parser.diagram.save()\u001b[39;00m\n\u001b[1;32m----> <a href='vscode-notebook-cell:/f%3A/Desarrollo%20software/segwork/notebooks/mermaid.ipynb#ch0000008?line=1'>2</a>\u001b[0m parser\u001b[39m.\u001b[39;49mdisplay_graph()\n",
      "File \u001b[1;32mf:\\desarrollo software\\segwork\\segwork\\utils\\mermaid\\mermaid.py:107\u001b[0m, in \u001b[0;36mMermaidParser.display_graph\u001b[1;34m(self, path)\u001b[0m\n\u001b[0;32m    <a href='file:///f%3A/desarrollo%20software/segwork/segwork/utils/mermaid/mermaid.py?line=105'>106</a>\u001b[0m \u001b[39mdef\u001b[39;00m \u001b[39mdisplay_graph\u001b[39m(\u001b[39mself\u001b[39m, path:\u001b[39mstr\u001b[39m\u001b[39m=\u001b[39m\u001b[39mNone\u001b[39;00m):\n\u001b[1;32m--> <a href='file:///f%3A/desarrollo%20software/segwork/segwork/utils/mermaid/mermaid.py?line=106'>107</a>\u001b[0m     \u001b[39mself\u001b[39;49m\u001b[39m.\u001b[39;49mdiagram\u001b[39m.\u001b[39;49m_display(path)\n",
      "File \u001b[1;32mf:\\desarrollo software\\segwork\\segwork\\utils\\mermaid\\mermaid.py:62\u001b[0m, in \u001b[0;36mMermaidGraph._display\u001b[1;34m(self, path)\u001b[0m\n\u001b[0;32m     <a href='file:///f%3A/desarrollo%20software/segwork/segwork/utils/mermaid/mermaid.py?line=59'>60</a>\u001b[0m \u001b[39mexcept\u001b[39;00m \u001b[39mFileNotFoundError\u001b[39;00m \u001b[39mas\u001b[39;00m e:\n\u001b[0;32m     <a href='file:///f%3A/desarrollo%20software/segwork/segwork/utils/mermaid/mermaid.py?line=60'>61</a>\u001b[0m     logger\u001b[39m.\u001b[39minfo(\u001b[39m'\u001b[39m\u001b[39mFile \u001b[39m\u001b[39m{path}\u001b[39;00m\u001b[39m not found. Saving file...\u001b[39m\u001b[39m'\u001b[39m)\n\u001b[1;32m---> <a href='file:///f%3A/desarrollo%20software/segwork/segwork/utils/mermaid/mermaid.py?line=61'>62</a>\u001b[0m     \u001b[39mself\u001b[39;49m\u001b[39m.\u001b[39;49m_save(path)\n\u001b[0;32m     <a href='file:///f%3A/desarrollo%20software/segwork/segwork/utils/mermaid/mermaid.py?line=62'>63</a>\u001b[0m     \u001b[39mself\u001b[39m\u001b[39m.\u001b[39m_display(path)\n",
      "File \u001b[1;32mf:\\desarrollo software\\segwork\\segwork\\utils\\mermaid\\mermaid.py:42\u001b[0m, in \u001b[0;36mMermaidGraph._save\u001b[1;34m(self, path)\u001b[0m\n\u001b[0;32m     <a href='file:///f%3A/desarrollo%20software/segwork/segwork/utils/mermaid/mermaid.py?line=39'>40</a>\u001b[0m         f\u001b[39m.\u001b[39mwrite(\u001b[39mself\u001b[39m\u001b[39m.\u001b[39mcreate_title()) \u001b[39m# Title\u001b[39;00m\n\u001b[0;32m     <a href='file:///f%3A/desarrollo%20software/segwork/segwork/utils/mermaid/mermaid.py?line=40'>41</a>\u001b[0m         \u001b[39mfor\u001b[39;00m node \u001b[39min\u001b[39;00m \u001b[39mself\u001b[39m\u001b[39m.\u001b[39mnodes: \u001b[39m# Nodes and links\u001b[39;00m\n\u001b[1;32m---> <a href='file:///f%3A/desarrollo%20software/segwork/segwork/utils/mermaid/mermaid.py?line=41'>42</a>\u001b[0m             f\u001b[39m.\u001b[39mwrite(\u001b[39mf\u001b[39m\u001b[39m'\u001b[39m\u001b[39m\\t\u001b[39;00m\u001b[39m{\u001b[39;00mnode\u001b[39m.\u001b[39mrepresentation()\u001b[39m}\u001b[39;00m\u001b[39m'\u001b[39m)\n\u001b[0;32m     <a href='file:///f%3A/desarrollo%20software/segwork/segwork/utils/mermaid/mermaid.py?line=42'>43</a>\u001b[0m \u001b[39mexcept\u001b[39;00m \u001b[39mFileExistsError\u001b[39;00m \u001b[39mas\u001b[39;00m e:\n\u001b[0;32m     <a href='file:///f%3A/desarrollo%20software/segwork/segwork/utils/mermaid/mermaid.py?line=43'>44</a>\u001b[0m     logger\u001b[39m.\u001b[39mwarn(\u001b[39m'\u001b[39m\u001b[39mFile \u001b[39m\u001b[39m{path}\u001b[39;00m\u001b[39m already exist. Delete the file or change name before saving.\u001b[39m\u001b[39m'\u001b[39m)\n",
      "File \u001b[1;32mf:\\desarrollo software\\segwork\\segwork\\utils\\mermaid\\node.py:28\u001b[0m, in \u001b[0;36mMermaidNodeShape.representation\u001b[1;34m(self, end)\u001b[0m\n\u001b[0;32m     <a href='file:///f%3A/desarrollo%20software/segwork/segwork/utils/mermaid/node.py?line=25'>26</a>\u001b[0m \u001b[39mdef\u001b[39;00m \u001b[39mrepresentation\u001b[39m(\u001b[39mself\u001b[39m, end:\u001b[39mstr\u001b[39m\u001b[39m=\u001b[39m\u001b[39m'\u001b[39m\u001b[39m\\n\u001b[39;00m\u001b[39m'\u001b[39m):\n\u001b[0;32m     <a href='file:///f%3A/desarrollo%20software/segwork/segwork/utils/mermaid/node.py?line=26'>27</a>\u001b[0m     content \u001b[39m=\u001b[39m \u001b[39mself\u001b[39m\u001b[39m.\u001b[39mtext \u001b[39mif\u001b[39;00m \u001b[39mself\u001b[39m\u001b[39m.\u001b[39mtext \u001b[39melse\u001b[39;00m \u001b[39mself\u001b[39m\u001b[39m.\u001b[39mid\n\u001b[1;32m---> <a href='file:///f%3A/desarrollo%20software/segwork/segwork/utils/mermaid/node.py?line=27'>28</a>\u001b[0m     \u001b[39mreturn\u001b[39;00m \u001b[39mf\u001b[39m\u001b[39m'\u001b[39m\u001b[39m{\u001b[39;00m\u001b[39mself\u001b[39m\u001b[39m.\u001b[39mid\u001b[39m}\u001b[39;00m\u001b[39m{\u001b[39;00m\u001b[39mself\u001b[39m\u001b[39m.\u001b[39mshape[\u001b[39m0\u001b[39m]\u001b[39m}\u001b[39;00m\u001b[39m{\u001b[39;00mcontent\u001b[39m}\u001b[39;00m\u001b[39m{\u001b[39;00m\u001b[39mself\u001b[39m\u001b[39m.\u001b[39mshape[\u001b[39m1\u001b[39m]\u001b[39m}\u001b[39;00m\u001b[39m{\u001b[39;00mend\u001b[39m}\u001b[39;00m\u001b[39m'\u001b[39m\n",
      "\u001b[1;31mTypeError\u001b[0m: 'Styles' object is not subscriptable"
     ]
    }
   ],
   "source": [
    "# parser.diagram.save()\n",
    "parser.display_graph()"
   ]
  },
  {
   "cell_type": "code",
   "execution_count": null,
   "metadata": {},
   "outputs": [],
   "source": []
  }
 ],
 "metadata": {
  "interpreter": {
   "hash": "0c04acee18b5793ec356cdbb9e41fd0ebe94f2f160ff327fb1a3f44246b59f95"
  },
  "kernelspec": {
   "display_name": "Python 3.9.9 ('.venv': venv)",
   "language": "python",
   "name": "python3"
  },
  "language_info": {
   "codemirror_mode": {
    "name": "ipython",
    "version": 3
   },
   "file_extension": ".py",
   "mimetype": "text/x-python",
   "name": "python",
   "nbconvert_exporter": "python",
   "pygments_lexer": "ipython3",
   "version": "3.9.9"
  },
  "orig_nbformat": 4
 },
 "nbformat": 4,
 "nbformat_minor": 2
}
