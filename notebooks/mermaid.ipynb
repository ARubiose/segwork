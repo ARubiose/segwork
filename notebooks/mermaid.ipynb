{
 "cells": [
  {
   "cell_type": "markdown",
   "metadata": {},
   "source": [
    "# Mermaid integration\n",
    "Tool to visualize model operations"
   ]
  },
  {
   "cell_type": "code",
   "execution_count": 1,
   "metadata": {},
   "outputs": [],
   "source": [
    "import os\n",
    "import sys\n",
    "import logging\n",
    "logging.basicConfig(format='%(name)s %(levelname)s %(message)s', level=logging.DEBUG)\n",
    "\n",
    "# Segwork\n",
    "from segwork.models.backbones.base import create_backbone\n",
    "from segwork.utils.mermaid.mermaid import TorchFXParser\n",
    "from segwork.utils.mermaid.style import TorchFxStyle"
   ]
  },
  {
   "cell_type": "markdown",
   "metadata": {},
   "source": [
    "### Create model"
   ]
  },
  {
   "cell_type": "code",
   "execution_count": 2,
   "metadata": {},
   "outputs": [],
   "source": [
    "model_name = 'timm/resnet18'\n",
    "model = create_backbone(model_name)"
   ]
  },
  {
   "cell_type": "code",
   "execution_count": 3,
   "metadata": {},
   "outputs": [
    {
     "data": {
      "text/plain": [
       "[{'num_chs': 64, 'reduction': 2, 'module': 'act1'},\n",
       " {'num_chs': 64, 'reduction': 4, 'module': 'layer1'},\n",
       " {'num_chs': 128, 'reduction': 8, 'module': 'layer2'},\n",
       " {'num_chs': 256, 'reduction': 16, 'module': 'layer3'},\n",
       " {'num_chs': 512, 'reduction': 32, 'module': 'layer4'}]"
      ]
     },
     "execution_count": 3,
     "metadata": {},
     "output_type": "execute_result"
    }
   ],
   "source": [
    "model.feature_info.info\n"
   ]
  },
  {
   "cell_type": "markdown",
   "metadata": {},
   "source": [
    "### Create Mermaid parser"
   ]
  },
  {
   "cell_type": "code",
   "execution_count": 4,
   "metadata": {},
   "outputs": [],
   "source": [
    "parser = TorchFXParser(name = model_name, module=model)\n",
    "parser.parse_tokens()"
   ]
  },
  {
   "cell_type": "code",
   "execution_count": 5,
   "metadata": {},
   "outputs": [
    {
     "name": "stderr",
     "output_type": "stream",
     "text": [
      "segwork.utils.mermaid.mermaid INFO File {path} not found. Saving file...\n"
     ]
    },
    {
     "data": {
      "text/html": [
       "<img src=\"https://mermaid.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\"/>"
      ],
      "text/plain": [
       "<IPython.core.display.Image object>"
      ]
     },
     "metadata": {},
     "output_type": "display_data"
    }
   ],
   "source": [
    "# parser.diagram.save()\n",
    "parser.display_graph()"
   ]
  },
  {
   "cell_type": "code",
   "execution_count": null,
   "metadata": {},
   "outputs": [],
   "source": []
  }
 ],
 "metadata": {
  "interpreter": {
   "hash": "0c04acee18b5793ec356cdbb9e41fd0ebe94f2f160ff327fb1a3f44246b59f95"
  },
  "kernelspec": {
   "display_name": "Python 3.9.9 ('.venv': venv)",
   "language": "python",
   "name": "python3"
  },
  "language_info": {
   "codemirror_mode": {
    "name": "ipython",
    "version": 3
   },
   "file_extension": ".py",
   "mimetype": "text/x-python",
   "name": "python",
   "nbconvert_exporter": "python",
   "pygments_lexer": "ipython3",
   "version": "3.9.9"
  },
  "orig_nbformat": 4
 },
 "nbformat": 4,
 "nbformat_minor": 2
}
