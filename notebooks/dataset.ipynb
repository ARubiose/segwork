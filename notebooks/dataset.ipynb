{
 "cells": [
  {
   "cell_type": "markdown",
   "metadata": {},
   "source": [
    "# Segmentation Dataset"
   ]
  },
  {
   "cell_type": "code",
   "execution_count": 1,
   "metadata": {},
   "outputs": [],
   "source": [
    "import os\n",
    "import csv\n",
    "\n",
    "from PIL.Image import Image\n",
    "import numpy as np\n",
    "\n",
    "from segwork.data import SegmentationDataset"
   ]
  },
  {
   "cell_type": "code",
   "execution_count": 2,
   "metadata": {},
   "outputs": [],
   "source": [
    "class DroneDataset(SegmentationDataset):\n",
    "    \"\"\"Dataset for Semantic Drone dataset\n",
    "\n",
    "    The Semantic Drone Dataset focuses on semantic understanding of urban scenes for \n",
    "    increasing the safety of autonomous drone flight and landing procedures. \n",
    "    The imagery depicts  more than 20 houses from nadir (bird's eye) view acquired at an \n",
    "    altitude of 5 to 30 meters above ground. A high resolution camera was used to acquire \n",
    "    images at a size of 6000x4000px (24Mpx). The training set contains 400 publicly available \n",
    "    images and the test set is made up of 200 private images.\n",
    "    \n",
    "    https://www.tugraz.at/index.php?id=22387\"\"\"\n",
    "\n",
    "    HEIGHT = 4000\n",
    "    WIDTH = 6000\n",
    "\n",
    "    def __init__(self, pil_target:bool = True, *args, **kwargs):\n",
    "        super().__init__(*args, **kwargs)\n",
    "        _TRAINING_DIR = os.path.join(self.root,'training_set')\n",
    "        self.TRAINING_IMAGES_DIR = os.path.join(_TRAINING_DIR, 'images')\n",
    "        self.TRAINING_SEMANTICS = os.path.join(_TRAINING_DIR, 'gt', 'semantic')\n",
    "        self.TRAINING_LABELS_DIR = os.path.join(self.TRAINING_SEMANTICS, 'label_images')\n",
    "        self.TRAINING_LABELS_DIR_NUMPY = os.path.join(self.TRAINING_SEMANTICS, 'label_numpy')\n",
    "        self.pil_target = pil_target\n",
    "\n",
    "    @property\n",
    "    def images(self):\n",
    "        data_dir = self.TRAINING_LABELS_DIR if self.split == 'train' else self.TRAINING_LABELS_DIR\n",
    "        return self._get_listdir(data_dir)\n",
    "\n",
    "    def load_image(self, idx:int):\n",
    "        return Image.open(self.images[idx]).convert(\"RGB\")\n",
    "\n",
    "    @property\n",
    "    def annotations(self):\n",
    "        data_dir = self.TRAINING_LABELS_DIR\n",
    "        return self._get_listdir(data_dir)\n",
    "\n",
    "    def _get_listdir(self, dir:str):\n",
    "        \"\"\"Return a list with the path to the files in it\"\"\"\n",
    "        return [os.path.join(dir, file) for file in os.listdir(dir)]\n",
    "\n",
    "    def load_label(self, idx:int):\n",
    "        if self.pil_target:\n",
    "            return Image.open(self.annotations[idx]).convert(\"RGB\")\n",
    "        return self.load_numpy_label(idx)\n",
    "\n",
    "    @property\n",
    "    def mask_colors(self):\n",
    "        with open(os.path.join(self.TRAINING_SEMANTICS, 'class_dict.csv' ), 'r') as csvfile:\n",
    "            reader = csv.reader(csvfile)\n",
    "            return { tuple([int(r.strip()),int(g.strip()),int(b.strip())]) : name for (name, r, g, b) in reader  }\n",
    "\n",
    "    @property\n",
    "    def mask_colors_index(self):\n",
    "        return { key : idx for idx, key in enumerate(self.mask_colors)}\n",
    "\n",
    "    @property\n",
    "    def classes(self):\n",
    "        return list(self.mask_colors.values())\n",
    "\n",
    "    def load_numpy_label(self, idx:int, *args, **kwargs):\n",
    "        \"\"\"Return a :py:class:`numpy.ndarray` with the label for the specified idx\"\"\"\n",
    "        file_name = f'{idx:03d}.npy'\n",
    "        path_name = os.path.join(self.TRAINING_LABELS_DIR_NUMPY, file_name)\n",
    "        return np.load(path_name, *args, **kwargs)\n",
    "\n",
    "    def load_weight_label(self, idx):\n",
    "        \"\"\"Load label to be used by the calculator\"\"\"\n",
    "        return self.load_numpy_label(idx)"
   ]
  },
  {
   "cell_type": "code",
   "execution_count": 3,
   "metadata": {},
   "outputs": [],
   "source": [
    "DATA_DIR = os.path.join('data')\n",
    "dataset = DroneDataset( \n",
    "    root = os.path.join(DATA_DIR, 'semantic_drone_dataset'),\n",
    "    pil_target=True,              \n",
    ")"
   ]
  },
  {
   "cell_type": "code",
   "execution_count": 4,
   "metadata": {},
   "outputs": [
    {
     "data": {
      "text/plain": [
       "Dataset DroneDataset\n",
       "    Number of datapoints: 400\n",
       "    Root location: data\\semantic_drone_dataset"
      ]
     },
     "execution_count": 4,
     "metadata": {},
     "output_type": "execute_result"
    }
   ],
   "source": [
    "dataset"
   ]
  }
 ],
 "metadata": {
  "interpreter": {
   "hash": "beed4cc9617b55088e1f5ae85e19ad3d2b8672641835146616eec05eb506ad64"
  },
  "kernelspec": {
   "display_name": "Python 3.7.9 ('.venv': venv)",
   "language": "python",
   "name": "python3"
  },
  "language_info": {
   "codemirror_mode": {
    "name": "ipython",
    "version": 3
   },
   "file_extension": ".py",
   "mimetype": "text/x-python",
   "name": "python",
   "nbconvert_exporter": "python",
   "pygments_lexer": "ipython3",
   "version": "3.7.9"
  },
  "orig_nbformat": 4
 },
 "nbformat": 4,
 "nbformat_minor": 2
}
