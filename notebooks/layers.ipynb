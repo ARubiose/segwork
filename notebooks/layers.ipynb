{
 "cells": [
  {
   "cell_type": "code",
   "execution_count": 1,
   "metadata": {},
   "outputs": [],
   "source": [
    "from segwork.model.layer import *"
   ]
  },
  {
   "cell_type": "markdown",
   "metadata": {},
   "source": [
    "### Basic blocks"
   ]
  },
  {
   "cell_type": "code",
   "execution_count": null,
   "metadata": {},
   "outputs": [],
   "source": [
    "module_name = 'ConvBnAct'\n",
    "module_args = dict(in_channels=254, out_channels=512, kernel_size=3) \n",
    "module = ConvBnAct(**module_args)"
   ]
  },
  {
   "cell_type": "markdown",
   "metadata": {},
   "source": [
    "### Residual block"
   ]
  },
  {
   "cell_type": "code",
   "execution_count": 6,
   "metadata": {},
   "outputs": [],
   "source": [
    "args = dict(\n",
    "    block = ConvBnAct,\n",
    "    # Override defautl args\n",
    "    block_args = dict(in_channels = 64, out_channels = 64, kernel_size = 3),\n",
    "    layers = 2\n",
    ")\n",
    "block = ResidualBlock(**args)"
   ]
  },
  {
   "cell_type": "code",
   "execution_count": 7,
   "metadata": {},
   "outputs": [
    {
     "name": "stdout",
     "output_type": "stream",
     "text": [
      "Output size: torch.Size([1, 64, 224, 224])\n",
      "ResidualBlock(\n",
      "  (blocks): Sequential(\n",
      "    (0): ConvBnAct(\n",
      "      (conv): Conv2d(64, 64, kernel_size=(3, 3), stride=(1, 1), padding=(1, 1), bias=False)\n",
      "      (bn): BatchNorm2d(64, eps=1e-05, momentum=0.1, affine=True, track_running_stats=True)\n",
      "      (act): ReLU(inplace=True)\n",
      "    )\n",
      "    (1): ConvBnAct(\n",
      "      (conv): Conv2d(64, 64, kernel_size=(3, 3), stride=(1, 1), padding=(1, 1), bias=False)\n",
      "      (bn): BatchNorm2d(64, eps=1e-05, momentum=0.1, affine=True, track_running_stats=True)\n",
      "      (act): ReLU(inplace=True)\n",
      "    )\n",
      "  )\n",
      "  (activation): ReLU(inplace=True)\n",
      ")\n"
     ]
    }
   ],
   "source": [
    "x = torch.rand(1,64, 224, 224)\n",
    "out = block(x)\n",
    "print(f'Output size: {out.size()}')\n",
    "print(block)"
   ]
  },
  {
   "cell_type": "code",
   "execution_count": 9,
   "metadata": {},
   "outputs": [
    {
     "data": {
      "text/html": [
       "<img src=\"https://mermaid.ink/img/Zmxvd2NoYXJ0IFRCCgl0aXRsZVs8dT5SZXNpZHVhbCBibG9jazwvdT5dCnN0eWxlIHRpdGxlIGZpbGw6I0ZGRixzdHJva2U6I0ZGRgoJeCh4KQoJYmxvY2tzXzBfY29udigiQ29udjJkWzY0LCA2NCwga2VybmVsX3NpemU9WzMsIDNdLCBzdHJpZGU9WzEsIDFdLCBwYWRkaW5nPVsxLCAxXSwgYmlhcz1GYWxzZV0iKQoJeCAtLT5ibG9ja3NfMF9jb252IAoJYmxvY2tzXzBfYm4oIkJhdGNoTm9ybTJkWzY0LCBlcHM9MWUtMDUsIG1vbWVudHVtPTAuMSwgYWZmaW5lPVRydWUsIHRyYWNrX3J1bm5pbmdfc3RhdHM9VHJ1ZV0iKQoJYmxvY2tzXzBfY29udiAtLT5ibG9ja3NfMF9ibiAKCWJsb2Nrc18wX2FjdCgiUmVMVVtpbnBsYWNlPVRydWVdIikKCWJsb2Nrc18wX2JuIC0tPmJsb2Nrc18wX2FjdCAKCWJsb2Nrc18xX2NvbnYoIkNvbnYyZFs2NCwgNjQsIGtlcm5lbF9zaXplPVszLCAzXSwgc3RyaWRlPVsxLCAxXSwgcGFkZGluZz1bMSwgMV0sIGJpYXM9RmFsc2VdIikKCWJsb2Nrc18wX2FjdCAtLT5ibG9ja3NfMV9jb252IAoJYmxvY2tzXzFfYm4oIkJhdGNoTm9ybTJkWzY0LCBlcHM9MWUtMDUsIG1vbWVudHVtPTAuMSwgYWZmaW5lPVRydWUsIHRyYWNrX3J1bm5pbmdfc3RhdHM9VHJ1ZV0iKQoJYmxvY2tzXzFfY29udiAtLT5ibG9ja3NfMV9ibiAKCWJsb2Nrc18xX2FjdCgiUmVMVVtpbnBsYWNlPVRydWVdIikKCWJsb2Nrc18xX2JuIC0tPmJsb2Nrc18xX2FjdCAKCWFkZHthZGR9Cgl4ICAmIGJsb2Nrc18xX2FjdCAtLi4tPmFkZCAKCWFjdGl2YXRpb24oIlJlTFVbaW5wbGFjZT1UcnVlXSIpCglhZGQgLS0+YWN0aXZhdGlvbiAKCW91dHB1dD5vdXRwdXRdCglhY3RpdmF0aW9uIC0tPm91dHB1dCAK\"/>"
      ],
      "text/plain": [
       "<IPython.core.display.Image object>"
      ]
     },
     "metadata": {},
     "output_type": "display_data"
    }
   ],
   "source": [
    "from segwork.utils.mermaid import TorchFXParser\n",
    "parser = TorchFXParser('Residual block', module=block)\n",
    "parser.display_graph()"
   ]
  }
 ],
 "metadata": {
  "interpreter": {
   "hash": "f915bd14e41f75defdaded59260e23886f79ad3e68b01e8dfe9aedb79f73e220"
  },
  "kernelspec": {
   "display_name": "Python 3.9.9 ('.venv': venv)",
   "language": "python",
   "name": "python3"
  },
  "language_info": {
   "codemirror_mode": {
    "name": "ipython",
    "version": 3
   },
   "file_extension": ".py",
   "mimetype": "text/x-python",
   "name": "python",
   "nbconvert_exporter": "python",
   "pygments_lexer": "ipython3",
   "version": "3.9.9"
  },
  "orig_nbformat": 4
 },
 "nbformat": 4,
 "nbformat_minor": 2
}
