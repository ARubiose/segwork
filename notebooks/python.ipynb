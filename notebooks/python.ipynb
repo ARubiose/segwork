{
 "cells": [
  {
   "cell_type": "code",
   "execution_count": 6,
   "metadata": {},
   "outputs": [],
   "source": [
    "from typing import Iterable"
   ]
  },
  {
   "cell_type": "code",
   "execution_count": 14,
   "metadata": {},
   "outputs": [],
   "source": [
    "x = [1, 2, 3]\n",
    "y = ['a', 'b', 'c']\n",
    "z = zip(x, y)"
   ]
  },
  {
   "cell_type": "code",
   "execution_count": 18,
   "metadata": {},
   "outputs": [
    {
     "name": "stdout",
     "output_type": "stream",
     "text": [
      "0: (1, 'a')\n",
      "1: (2, 'b')\n",
      "2: (3, 'c')\n"
     ]
    }
   ],
   "source": [
    "for idx, item in enumerate(z):\n",
    "    print(f'{idx}: {item}')"
   ]
  },
  {
   "cell_type": "code",
   "execution_count": 19,
   "metadata": {},
   "outputs": [],
   "source": [
    "import typing"
   ]
  },
  {
   "cell_type": "code",
   "execution_count": 24,
   "metadata": {},
   "outputs": [
    {
     "data": {
      "text/plain": [
       "['Annotated',\n",
       " 'Any',\n",
       " 'Callable',\n",
       " 'ClassVar',\n",
       " 'Final',\n",
       " 'ForwardRef',\n",
       " 'Generic',\n",
       " 'Literal',\n",
       " 'Optional',\n",
       " 'Protocol',\n",
       " 'Tuple',\n",
       " 'Type',\n",
       " 'TypeVar',\n",
       " 'Union',\n",
       " 'AbstractSet',\n",
       " 'ByteString',\n",
       " 'Container',\n",
       " 'ContextManager',\n",
       " 'Hashable',\n",
       " 'ItemsView',\n",
       " 'Iterable',\n",
       " 'Iterator',\n",
       " 'KeysView',\n",
       " 'Mapping',\n",
       " 'MappingView',\n",
       " 'MutableMapping',\n",
       " 'MutableSequence',\n",
       " 'MutableSet',\n",
       " 'Sequence',\n",
       " 'Sized',\n",
       " 'ValuesView',\n",
       " 'Awaitable',\n",
       " 'AsyncIterator',\n",
       " 'AsyncIterable',\n",
       " 'Coroutine',\n",
       " 'Collection',\n",
       " 'AsyncGenerator',\n",
       " 'AsyncContextManager',\n",
       " 'Reversible',\n",
       " 'SupportsAbs',\n",
       " 'SupportsBytes',\n",
       " 'SupportsComplex',\n",
       " 'SupportsFloat',\n",
       " 'SupportsIndex',\n",
       " 'SupportsInt',\n",
       " 'SupportsRound',\n",
       " 'ChainMap',\n",
       " 'Counter',\n",
       " 'Deque',\n",
       " 'Dict',\n",
       " 'DefaultDict',\n",
       " 'List',\n",
       " 'OrderedDict',\n",
       " 'Set',\n",
       " 'FrozenSet',\n",
       " 'NamedTuple',\n",
       " 'TypedDict',\n",
       " 'Generator',\n",
       " 'BinaryIO',\n",
       " 'IO',\n",
       " 'Match',\n",
       " 'Pattern',\n",
       " 'TextIO',\n",
       " 'AnyStr',\n",
       " 'cast',\n",
       " 'final',\n",
       " 'get_args',\n",
       " 'get_origin',\n",
       " 'get_type_hints',\n",
       " 'NewType',\n",
       " 'no_type_check',\n",
       " 'no_type_check_decorator',\n",
       " 'NoReturn',\n",
       " 'overload',\n",
       " 'runtime_checkable',\n",
       " 'Text',\n",
       " 'TYPE_CHECKING']"
      ]
     },
     "execution_count": 24,
     "metadata": {},
     "output_type": "execute_result"
    }
   ],
   "source": [
    "typing.__all__"
   ]
  },
  {
   "cell_type": "code",
   "execution_count": null,
   "metadata": {},
   "outputs": [],
   "source": []
  }
 ],
 "metadata": {
  "interpreter": {
   "hash": "f915bd14e41f75defdaded59260e23886f79ad3e68b01e8dfe9aedb79f73e220"
  },
  "kernelspec": {
   "display_name": "Python 3.9.9 ('.venv': venv)",
   "language": "python",
   "name": "python3"
  },
  "language_info": {
   "codemirror_mode": {
    "name": "ipython",
    "version": 3
   },
   "file_extension": ".py",
   "mimetype": "text/x-python",
   "name": "python",
   "nbconvert_exporter": "python",
   "pygments_lexer": "ipython3",
   "version": "3.9.9"
  },
  "orig_nbformat": 4
 },
 "nbformat": 4,
 "nbformat_minor": 2
}
